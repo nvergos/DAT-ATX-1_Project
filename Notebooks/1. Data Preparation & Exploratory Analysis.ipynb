{
 "cells": [
  {
   "cell_type": "markdown",
   "metadata": {},
   "source": [
    "# DAT-ATX-1 Capstone Project"
   ]
  },
  {
   "cell_type": "markdown",
   "metadata": {},
   "source": [
    "#### Nikolaos Vergos, February 2016\n",
    "<nvergos@gmail.com>\n"
   ]
  },
  {
   "cell_type": "markdown",
   "metadata": {},
   "source": [
    "## 1. Data Preparation & Exploratory Analysis"
   ]
  },
  {
   "cell_type": "markdown",
   "metadata": {},
   "source": [
    "*Disclaimer: Many ideas for the Exploratory Data Analysis part, particularly the discussion of the health inspection scores histogram, the correlation between two different inspections and the plot_restaurant_score_by_type Python function and the discussion of the resulting plots have been taken by the analysis of [Dr. Tal Yarkoni](https://github.com/tyarkoni/open-data-flights/blob/master/health-inspection/flight1.ipynb)*"
   ]
  },
  {
   "cell_type": "markdown",
   "metadata": {},
   "source": [
    "### 0. Import libraries & packages"
   ]
  },
  {
   "cell_type": "code",
   "execution_count": 1,
   "metadata": {
    "collapsed": false
   },
   "outputs": [],
   "source": [
    "import warnings\n",
    "warnings.filterwarnings('ignore')"
   ]
  },
  {
   "cell_type": "code",
   "execution_count": 2,
   "metadata": {
    "collapsed": true
   },
   "outputs": [],
   "source": [
    "import pandas as pd\n",
    "import numpy as np\n",
    "import matplotlib.pyplot as plt\n",
    "import seaborn as sns\n",
    "%matplotlib inline\n",
    "\n",
    "from scipy import stats # For correlation coefficient calculation"
   ]
  },
  {
   "cell_type": "markdown",
   "metadata": {},
   "source": [
    "### 1. Familiarize ourselves with our data"
   ]
  },
  {
   "cell_type": "code",
   "execution_count": 3,
   "metadata": {
    "collapsed": false
   },
   "outputs": [
    {
     "data": {
      "text/html": [
       "<div>\n",
       "<table border=\"1\" class=\"dataframe\">\n",
       "  <thead>\n",
       "    <tr style=\"text-align: right;\">\n",
       "      <th></th>\n",
       "      <th>Restaurant Name</th>\n",
       "      <th>Zip Code</th>\n",
       "      <th>Inspection Date</th>\n",
       "      <th>Score</th>\n",
       "      <th>Address</th>\n",
       "      <th>Facility ID</th>\n",
       "      <th>Process Description</th>\n",
       "    </tr>\n",
       "  </thead>\n",
       "  <tbody>\n",
       "    <tr>\n",
       "      <th>0</th>\n",
       "      <td>Corner Store #3958</td>\n",
       "      <td>78754</td>\n",
       "      <td>12/23/2015</td>\n",
       "      <td>100</td>\n",
       "      <td>12307 DESSAU RD\\nAUSTIN, TX 78754\\n(30.3872270...</td>\n",
       "      <td>11281491</td>\n",
       "      <td>Routine Inspection</td>\n",
       "    </tr>\n",
       "    <tr>\n",
       "      <th>1</th>\n",
       "      <td>Mr. Gatti's #118</td>\n",
       "      <td>78758</td>\n",
       "      <td>12/23/2015</td>\n",
       "      <td>94</td>\n",
       "      <td>2121 W PARMER LN\\nAUSTIN, TX 78758\\n(30.415649...</td>\n",
       "      <td>2801996</td>\n",
       "      <td>Routine Inspection</td>\n",
       "    </tr>\n",
       "    <tr>\n",
       "      <th>2</th>\n",
       "      <td>Texaco Braker Mart</td>\n",
       "      <td>78758</td>\n",
       "      <td>12/23/2015</td>\n",
       "      <td>83</td>\n",
       "      <td>2601 W BRAKER LN\\nAUSTIN, TX 78758\\n(30.390268...</td>\n",
       "      <td>10001712</td>\n",
       "      <td>Routine Inspection</td>\n",
       "    </tr>\n",
       "    <tr>\n",
       "      <th>3</th>\n",
       "      <td>Taco Bell</td>\n",
       "      <td>78753</td>\n",
       "      <td>12/23/2015</td>\n",
       "      <td>93</td>\n",
       "      <td>9504 N LAMAR BLVD\\nAUSTIN, TX 78753\\n(30.36480...</td>\n",
       "      <td>11066396</td>\n",
       "      <td>Routine Inspection</td>\n",
       "    </tr>\n",
       "    <tr>\n",
       "      <th>4</th>\n",
       "      <td>Subway</td>\n",
       "      <td>78758</td>\n",
       "      <td>12/23/2015</td>\n",
       "      <td>98</td>\n",
       "      <td>2501 W PARMER LN\\nAUSTIN, TX 78758\\n(30.418236...</td>\n",
       "      <td>10385802</td>\n",
       "      <td>Routine Inspection</td>\n",
       "    </tr>\n",
       "  </tbody>\n",
       "</table>\n",
       "</div>"
      ],
      "text/plain": [
       "      Restaurant Name  Zip Code Inspection Date  Score  \\\n",
       "0  Corner Store #3958     78754      12/23/2015    100   \n",
       "1    Mr. Gatti's #118     78758      12/23/2015     94   \n",
       "2  Texaco Braker Mart     78758      12/23/2015     83   \n",
       "3           Taco Bell     78753      12/23/2015     93   \n",
       "4              Subway     78758      12/23/2015     98   \n",
       "\n",
       "                                             Address  Facility ID  \\\n",
       "0  12307 DESSAU RD\\nAUSTIN, TX 78754\\n(30.3872270...     11281491   \n",
       "1  2121 W PARMER LN\\nAUSTIN, TX 78758\\n(30.415649...      2801996   \n",
       "2  2601 W BRAKER LN\\nAUSTIN, TX 78758\\n(30.390268...     10001712   \n",
       "3  9504 N LAMAR BLVD\\nAUSTIN, TX 78753\\n(30.36480...     11066396   \n",
       "4  2501 W PARMER LN\\nAUSTIN, TX 78758\\n(30.418236...     10385802   \n",
       "\n",
       "  Process Description  \n",
       "0  Routine Inspection  \n",
       "1  Routine Inspection  \n",
       "2  Routine Inspection  \n",
       "3  Routine Inspection  \n",
       "4  Routine Inspection  "
      ]
     },
     "execution_count": 3,
     "metadata": {},
     "output_type": "execute_result"
    }
   ],
   "source": [
    "#Reading the dataset in a dataframe using Pandas\n",
    "df = pd.read_csv(\"Restaurant_Inspection_Scores.csv\")  \n",
    "\n",
    "#Print first observations\n",
    "df.head() "
   ]
  },
  {
   "cell_type": "code",
   "execution_count": 4,
   "metadata": {
    "collapsed": false
   },
   "outputs": [
    {
     "data": {
      "text/plain": [
       "22879"
      ]
     },
     "execution_count": 4,
     "metadata": {},
     "output_type": "execute_result"
    }
   ],
   "source": [
    "len(df)"
   ]
  },
  {
   "cell_type": "code",
   "execution_count": 5,
   "metadata": {
    "collapsed": true
   },
   "outputs": [],
   "source": [
    "# Drop duplicate entries\n",
    "df = df.drop_duplicates()"
   ]
  },
  {
   "cell_type": "code",
   "execution_count": 6,
   "metadata": {
    "collapsed": false
   },
   "outputs": [
    {
     "name": "stdout",
     "output_type": "stream",
     "text": [
      "There are 22875 entries (rows) in this dataframe\n"
     ]
    }
   ],
   "source": [
    "print \"There are {0} entries (rows) in this dataframe\".format(len(df)) # Initial assessment"
   ]
  },
  {
   "cell_type": "markdown",
   "metadata": {},
   "source": [
    "Almost all column names have spaces between the words. Even though it looks nice on the dataframe, it can actually be quite problematic further down the way. Therefore, let us implement an easy fix that will save us lots of pain later on:"
   ]
  },
  {
   "cell_type": "code",
   "execution_count": 7,
   "metadata": {
    "collapsed": false
   },
   "outputs": [],
   "source": [
    "df = df.rename(columns={'Restaurant Name': 'Restaurant_Name', 'Zip Code' : 'Zip_Code',\n",
    "                        'Inspection Date' : 'Inspection_Date', 'Facility ID' : 'Facility_ID',\n",
    "                       'Process Description' : 'Process_Description'})"
   ]
  },
  {
   "cell_type": "markdown",
   "metadata": {},
   "source": [
    "The \"Inspection_Date\" column looks like a humanly readable series of dates, however it is encoded as (useless) strings. Fortunately we can easily tell pandas to see this column as a *datetime* format for easier and better reference:"
   ]
  },
  {
   "cell_type": "code",
   "execution_count": 8,
   "metadata": {
    "collapsed": true
   },
   "outputs": [],
   "source": [
    "from datetime import datetime\n",
    "\n",
    "df['Inspection_Date'] = pd.to_datetime(df['Inspection_Date'])"
   ]
  },
  {
   "cell_type": "markdown",
   "metadata": {},
   "source": [
    "Let us also create an auxiliary DataFrame where each establishment shows up once (even though there are 5-6 inspection instances per establishment) - we need to know how many individual establishments are inspected. Side note: I am using the word \"establishment\" instead of \"restaurant\", because the Austin/Travis County Health and Human Services Department conducts the permitting and inspection of more than 4,000 food *establishments* in Austin, several local municipalities and rural Travis County. This includes any place serving food: restaurants, school cafeterias, grocery and convenience stores etc. We will deal with this later, because we have chosen to focus our study on restaurants (loosely defined as places that a potential patron chooses to go dine or carry out)"
   ]
  },
  {
   "cell_type": "code",
   "execution_count": 9,
   "metadata": {
    "collapsed": false
   },
   "outputs": [],
   "source": [
    "establishments = df.groupby('Facility_ID')"
   ]
  },
  {
   "cell_type": "code",
   "execution_count": 10,
   "metadata": {
    "collapsed": false
   },
   "outputs": [
    {
     "name": "stdout",
     "output_type": "stream",
     "text": [
      "Number of inspections: 22875\n",
      "Number of individual establishments inspected: 4774\n",
      "\n",
      "Columns:\n",
      "Restaurant_Name                object\n",
      "Zip_Code                        int64\n",
      "Inspection_Date        datetime64[ns]\n",
      "Score                           int64\n",
      "Address                        object\n",
      "Facility_ID                     int64\n",
      "Process_Description            object\n",
      "dtype: object\n"
     ]
    }
   ],
   "source": [
    "# Print some stuff\n",
    "print \"Number of inspections:\", len(df)\n",
    "print \"Number of individual establishments inspected:\", len(establishments)\n",
    "print \"\\nColumns:\\n\", df.dtypes"
   ]
  },
  {
   "cell_type": "markdown",
   "metadata": {},
   "source": [
    "We have nearly 23,000 inspections from over 4,700 distinct establishments. For each inspection, we have (among other things) a health inspection score, an establishment name, an inspection date, and a description of the process (i.e., whether the inspection was routine, or reflected a follow-up visit triggered by an establishment failing an earlier inspection)."
   ]
  },
  {
   "cell_type": "markdown",
   "metadata": {},
   "source": [
    "Let us start our exploratory data analysis by a simple frequency table of the health inspection scores:"
   ]
  },
  {
   "cell_type": "code",
   "execution_count": 11,
   "metadata": {
    "collapsed": false
   },
   "outputs": [
    {
     "name": "stdout",
     "output_type": "stream",
     "text": [
      "36        1\n",
      "45        1\n",
      "46        1\n",
      "48        1\n",
      "50        3\n",
      "51        2\n",
      "53        5\n",
      "54        1\n",
      "56        6\n",
      "57        7\n",
      "58        6\n",
      "59       14\n",
      "60       11\n",
      "61       10\n",
      "62        9\n",
      "63       16\n",
      "64       14\n",
      "65       19\n",
      "66       14\n",
      "67       12\n",
      "68       23\n",
      "69       15\n",
      "70      125\n",
      "71      115\n",
      "72      129\n",
      "73      140\n",
      "74      150\n",
      "75      158\n",
      "76      175\n",
      "77      203\n",
      "78      261\n",
      "79      228\n",
      "80      305\n",
      "81      397\n",
      "82      419\n",
      "83      409\n",
      "84      499\n",
      "85      618\n",
      "86      642\n",
      "87      620\n",
      "88      701\n",
      "89      859\n",
      "90     1137\n",
      "91      802\n",
      "92      897\n",
      "93     1645\n",
      "94     1438\n",
      "95      475\n",
      "96     1274\n",
      "97     3099\n",
      "98       76\n",
      "99       76\n",
      "100    4612\n",
      "Name: Score, dtype: int64\n"
     ]
    }
   ],
   "source": [
    "print df['Score'].value_counts().sort_index() # Frequency Table"
   ]
  },
  {
   "cell_type": "markdown",
   "metadata": {},
   "source": [
    "The first striking result is that, given the health inspectors are doing their job meticulously, Austin is a quite sanitary city for diners. Recall that a failing score is below 70, and according to the ad hoc letter grade scheme we are going to implement, the vast majority of inspections leeds to a letter grade \"A\", which we would say symbolizes a \"pristine\" establishment. We are going to perform some thorough research in the Machine Learning part of this Project, however this dataset can yield some quite interesting visualizations:"
   ]
  },
  {
   "cell_type": "code",
   "execution_count": 12,
   "metadata": {
    "collapsed": false
   },
   "outputs": [
    {
     "data": {
      "image/png": "[encoded data removed]",
      "text/plain": [
       "<matplotlib.figure.Figure at 0x10b730510>"
      ]
     },
     "metadata": {},
     "output_type": "display_data"
    }
   ],
   "source": [
    "# Function to plot a histogram based on the frequency table above:\n",
    "\n",
    "def plot_histogram():\n",
    "    df['Score'].hist(bins=50)\n",
    "    plt.xlabel('Health Inspection Score')\n",
    "    plt.ylabel('Count')\n",
    "    plt.savefig('histogram.png')\n",
    "\n",
    "plot_histogram()"
   ]
  },
  {
   "cell_type": "code",
   "execution_count": 13,
   "metadata": {
    "collapsed": false
   },
   "outputs": [
    {
     "data": {
      "image/png": "[encoded data removed]",
      "text/plain": [
       "<matplotlib.figure.Figure at 0x10c351a10>"
      ]
     },
     "metadata": {},
     "output_type": "display_data"
    }
   ],
   "source": [
    "# A somewhat prettier histogram with seaborn; Relative frequencies on y-axis\n",
    "sns.distplot(df['Score']);"
   ]
  },
  {
   "cell_type": "markdown",
   "metadata": {},
   "source": [
    "We see that the distribution of our data is **heavily** skewed to the left (i.e. bunched up toward the right with a \"tail\" stretching toward the left). There are zero health inspection scores of 98 or 99--presumably because the smallest possible violation results in a loss of at least 3 points. A similar explanation probably accounts for the dip around 95 i.e., it's relatively unusual to getting docked exactly 5 points for a single infraction."
   ]
  },
  {
   "cell_type": "markdown",
   "metadata": {},
   "source": [
    "More curious, though, is what happens at the low end of the distribution--specifically around a score of 70, where there appears to be a relatively sharp discontinuity. To see it better, we can zoom in:"
   ]
  },
  {
   "cell_type": "code",
   "execution_count": 14,
   "metadata": {
    "collapsed": false
   },
   "outputs": [
    {
     "data": {
      "image/png": "[encoded data removed]",
      "text/plain": [
       "<matplotlib.figure.Figure at 0x10c65ba50>"
      ]
     },
     "metadata": {},
     "output_type": "display_data"
    }
   ],
   "source": [
    "plot_histogram()\n",
    "plt.xlim([50,80]);\n",
    "plt.ylim([0,300]);"
   ]
  },
  {
   "cell_type": "markdown",
   "metadata": {},
   "source": [
    "There is a sharp break at 70. Recall that 70 is the minimum score required to pass inspection. If a restaurant gets a score below that, it fails inspection, which presumably triggers all kinds of unpleasant things - e.g., more paperwork for the inspector, bad PR for the restaurant, and a follow-up (non-routine) inspection one or two weeks later. So one possibility here is that there's some pressure on inspectors - whether explicit or implicit - to avoid giving restaurants failing scores. This could possibly explain the fact that 99% of the entries in our data set have passing scores, as we are going to see later. Unfortunately this great imbalance between passing and failing restaurants will significantly hinder our attempts to build predictive models with confidence.\n",
    "\n",
    "[Dr. Tal Yarkoni](https://github.com/tyarkoni/open-data-flights/blob/master/health-inspection/flight1.ipynb) offers some more interesting explanations: *For example, it's possible that the health inspection guidelines explicitly allow inspectors to let restaurants off with a warning. Or perhaps the scoring algorithm isn't just a linear sum of all the violations observed, and there has to be some particularly egregious health code violation in order for a restaurant to receive a score below 70. Or, inspectors may be pragmatically working around weaknesses in the code - e.g., a restaurant may theoretically be able to fail inspection because of a large number of minor infractions, even if no single infraction presents any meaningful health risk to customers.*\n",
    "\n",
    "*Still, absent an explanation, there's at least some potential cause for concern here, and it's certainly consistent with the data that health inspectors might be systematically grading restaurants more leniently than they should be. Are the inspectors doing their job meticulously? Is Austin dining really so sanitary overall?*\n",
    "\n",
    "This is a recurring theme of this study, as we are going to see."
   ]
  },
  {
   "cell_type": "markdown",
   "metadata": {},
   "source": [
    "### 2. Data Preparation"
   ]
  },
  {
   "cell_type": "markdown",
   "metadata": {},
   "source": [
    "On to the immensely boring, yet quintessential part: data cleaning. I will start by renaming some of our restaurants so they'll avoid the axe when I remove everything which isn't a restaurant - as I have mentioned, unfortunately the data set includes every establishment that needs a health inspection, and I'm only interested in places where people actually choose to dine in, not schools, churches, jails (!) etc..."
   ]
  },
  {
   "cell_type": "code",
   "execution_count": 15,
   "metadata": {
    "collapsed": true
   },
   "outputs": [],
   "source": [
    "# Unfortunately the words \"Market\", \"Grocery\", \"Church\" correspond to places\n",
    "# like convenience stores and grocery stores.\n",
    "\n",
    "# I want to make sure that some restaurants with those words in their name will go through my filter.\n",
    "\n",
    "df.loc[(df['Restaurant_Name'].str.contains('Whole')) , 'Restaurant_Name'] = \"Whole Foods\"\n",
    "df.loc[(df['Restaurant_Name'].str.contains('Central Market')) , 'Restaurant_Name'] = \"Central Mkt\"\n",
    "df.loc[(df['Restaurant_Name'].str.contains('Boston Market')) , 'Restaurant_Name'] = \"Boston Mkt\"\n",
    "df.loc[(df['Restaurant_Name'].str.contains('Mandola')) , 'Restaurant_Name'] = \"Mandola's\"\n",
    "df.loc[(df['Restaurant_Name'].str.contains('Royal Blue')) , 'Restaurant_Name'] = \"Royal Blue\"\n",
    "df.loc[(df['Restaurant_Name'].str.contains('Rudy')) , 'Restaurant_Name'] = \"Rudy's\"\n",
    "df.loc[(df['Restaurant_Name'].str.contains('Fit Foods')) , 'Restaurant_Name'] = \"My Ft Foods\"\n",
    "df.loc[(df['Restaurant_Name'].str.contains(\"Church's Chicken\")) , 'Restaurant_Name'] = \"Chrch Chicken\"\n",
    "df.loc[(df['Restaurant_Name'].str.contains(\"Schlotzsky's\")) , 'Restaurant_Name'] = \"Schlotzsky's\""
   ]
  },
  {
   "cell_type": "code",
   "execution_count": 16,
   "metadata": {
    "collapsed": false
   },
   "outputs": [
    {
     "data": {
      "text/plain": [
       "22875"
      ]
     },
     "execution_count": 16,
     "metadata": {},
     "output_type": "execute_result"
    }
   ],
   "source": [
    "len(df)"
   ]
  },
  {
   "cell_type": "markdown",
   "metadata": {},
   "source": [
    "Let me now filter out everything that doesn't follow my loose definition of a restaurant:"
   ]
  },
  {
   "cell_type": "code",
   "execution_count": 17,
   "metadata": {
    "collapsed": true
   },
   "outputs": [],
   "source": [
    "df = df[df['Restaurant_Name'].str.contains('School') == False]\n",
    "df = df[df['Restaurant_Name'].str.contains('Elementary') == False]\n",
    "df = df[df['Restaurant_Name'].str.contains('Care') == False]\n",
    "df = df[df['Restaurant_Name'].str.contains('Middle') == False]\n",
    "df = df[df['Restaurant_Name'].str.contains('Cafeteria') == False]\n",
    "df = df[df['Restaurant_Name'].str.contains('Jail') == False]\n",
    "df = df[df['Restaurant_Name'].str.contains('ISD') == False]\n",
    "df = df[df['Restaurant_Name'].str.contains('Academy') == False]\n",
    "\n",
    "df = df[df['Restaurant_Name'].str.contains('Mart') == False]\n",
    "df = df[df['Restaurant_Name'].str.contains('Gas') == False]\n",
    "df = df[df['Restaurant_Name'].str.contains('Convenience') == False]\n",
    "df = df[df['Restaurant_Name'].str.contains('7-Eleven') == False]\n",
    "df = df[df['Restaurant_Name'].str.contains('HEB') == False]\n",
    "df = df[df['Restaurant_Name'].str.contains('Station') == False]\n",
    "df = df[df['Restaurant_Name'].str.contains('Randall') == False]\n",
    "df = df[df['Restaurant_Name'].str.contains('Target') == False]\n",
    "df = df[df['Restaurant_Name'].str.contains('Flea') == False]\n",
    "\n",
    "df = df[df['Restaurant_Name'].str.contains('Gym') == False]\n",
    "df = df[df['Restaurant_Name'].str.contains('Fitness') == False]\n",
    "df = df[df['Restaurant_Name'].str.contains('Fit') == False]\n",
    "\n",
    "df = df[df['Restaurant_Name'].str.contains('Church') == False]\n",
    "df = df[df['Restaurant_Name'].str.contains('Dollar') == False]\n",
    "df = df[df['Restaurant_Name'].str.contains('Store') == False]\n",
    "df = df[df['Restaurant_Name'].str.contains('Texaco') == False]"
   ]
  },
  {
   "cell_type": "code",
   "execution_count": 18,
   "metadata": {
    "collapsed": false
   },
   "outputs": [
    {
     "name": "stdout",
     "output_type": "stream",
     "text": [
      "18292\n"
     ]
    }
   ],
   "source": [
    "print len(df)"
   ]
  },
  {
   "cell_type": "code",
   "execution_count": 20,
   "metadata": {
    "collapsed": false
   },
   "outputs": [
    {
     "data": {
      "text/plain": [
       "3934"
      ]
     },
     "execution_count": 20,
     "metadata": {},
     "output_type": "execute_result"
    }
   ],
   "source": [
    "restaurants = df.groupby('Facility_ID') # We can switch from \"establishments\" to \"restaurants\" after the purge\n",
    "len(restaurants)"
   ]
  },
  {
   "cell_type": "markdown",
   "metadata": {},
   "source": [
    "We got rid of 4583 DataFrame rows corresponding to inspections of 840 establishments. Not bad at all!"
   ]
  },
  {
   "cell_type": "markdown",
   "metadata": {},
   "source": [
    "### 3. Data Exploration & Visualizations"
   ]
  },
  {
   "cell_type": "markdown",
   "metadata": {},
   "source": [
    "An important question is whether scores are stable over time within individual restaurants. Since the vast majority of restaurants have been inspected several times (mostly twice a year) over the last three years, we can directly answer this question by computing the test-retest Pearson correlation metric across multiple inspections.\n",
    "\n",
    "A quick, though somewhat crude, way to do this is to randomly select two inspections for every restaurant with multiple inspections and compute the correlation. The resulting scatter plot looks like this:"
   ]
  },
  {
   "cell_type": "code",
   "execution_count": 22,
   "metadata": {
    "collapsed": false
   },
   "outputs": [
    {
     "name": "stdout",
     "output_type": "stream",
     "text": [
      "Number of restaurants with two or more inspections: 3682\n"
     ]
    },
    {
     "data": {
      "image/png": "[encoded data removed]",
      "text/plain": [
       "<matplotlib.figure.Figure at 0x10d188b50>"
      ]
     },
     "metadata": {},
     "output_type": "display_data"
    }
   ],
   "source": [
    "# Cite: Analysis by Dr. Tal Yarkoni\n",
    "\n",
    "# Filter for restaurants with > 1 inspection\n",
    "\n",
    "two_or_more = restaurants.filter(lambda x: x.shape[0] > 1)\n",
    "print \"Number of restaurants with two or more inspections:\", two_or_more['Facility_ID'].nunique()\n",
    "\n",
    "\n",
    "# Shuffle order and select a random pair for each restaurant\n",
    "\n",
    "two_or_more = two_or_more.reindex(np.random.permutation(two_or_more.index))\n",
    "random_pairs = two_or_more.groupby('Facility_ID', as_index=False).head(2).sort('Facility_ID')\n",
    "random_pairs['number'] = np.tile(np.array([1,2]), len(random_pairs)/2)\n",
    "pairs = random_pairs.pivot(index='Facility_ID', columns='number', values='Score')\n",
    "r, p = stats.pearsonr(*pairs.values.T)\n",
    "\n",
    "# Plot the relationship\n",
    "\n",
    "f, ax = plt.subplots(figsize=(6, 6))\n",
    "sns.regplot(pairs[1], pairs[2], x_jitter=2, y_jitter=2,\n",
    "            color=\"#334477\", scatter_kws={\"alpha\": .05, \"s\":100})\n",
    "\n",
    "ax.text(62, 72, \"r = %.2f\" % r, fontsize=14)\n",
    "ax.set(xlim=(60, 105), ylim=(60, 105),\n",
    "        xlabel='Score for Inspection 1',\n",
    "        ylabel='Score for Inspection 2');"
   ]
  },
  {
   "cell_type": "markdown",
   "metadata": {},
   "source": [
    "The test-retest correlation of **0.46** indicates that there is indeed a fair amount of consistency to the scores. \n",
    "\n",
    "That's reassuring, in that a very low correlation might lead us to worry that the health inspection process itself is unreliable, since it's hard to imagine that there aren't real differences in how mindful different proprietors are of health code - not to mention the fact that some kinds of establishments are likely to be at much higher risk of code violations than others in virtue of the kind of food they serve.\n",
    "\n",
    "In simpler words, if a restaurant does well, it will probably keep doing well. If it barely passes inspection one time, it probably won't improve dramatically for the second time. However, there's a quite interesting phenomenon at the \"outliers\" of the scatterplot above: There seem to be some restaurants that have obtained \"pristine\" scores during inspection 1 and then dropped by 20 points or more during inspection 2 and vice versa. The vast majority of establishments show a fair grade of consistency though.\n",
    "\n"
   ]
  },
  {
   "cell_type": "markdown",
   "metadata": {},
   "source": [
    "The following part could have been much easier and much more exciting, had the City of Austin provided us with a richer dataset including some extra columns with information such as type of cuisine or some classification of infestations that have caused point deductions. A significantly richer analysis would have been possible in that case.\n",
    "\n",
    "We can still implement an ad hoc workaround to break out restaurants by the kind of food they serve, provided their names are indicative of the cuisine. we're going to categorize restaurant type much more crudely. We'll take advantage of the fact that many restaurants use their name to announce the kind of food they serve - witness, for example, \"Carino's Italian\", \"Asia Chinese Restaurant\", and \"Mi Casa Mexican Restaurant\". Dr. Yarkoni did an amazing job:"
   ]
  },
  {
   "cell_type": "markdown",
   "metadata": {},
   "source": [
    "By grouping together restaurants with the same stem of a word in their names, we can generate the following plot:"
   ]
  },
  {
   "cell_type": "code",
   "execution_count": 23,
   "metadata": {
    "collapsed": true
   },
   "outputs": [],
   "source": [
    "# Create unique ID column that's human-readable--concatenate name and address\n",
    "\n",
    "df['string_id'] = [x.lower() for x in (df['Restaurant_Name'] + '_' + df['Facility_ID'].astype(str))]"
   ]
  },
  {
   "cell_type": "code",
   "execution_count": 25,
   "metadata": {
    "collapsed": false
   },
   "outputs": [],
   "source": [
    "def plot_restaurant_score_by_type(types):\n",
    "    \"\"\" Takes a list of strings, each defining a group of restaurants that contain that \n",
    "    particular string within their title. \"\"\"\n",
    "    \n",
    "    means, sems, labels = [], [], []\n",
    "    n_types = len(types)\n",
    "    \n",
    "    # Generate means, CI/SEM, and labels\n",
    "    for c in types:\n",
    "        stores = df[df['string_id'].str.contains(c)]\n",
    "        unique_stores = stores.groupby('string_id')['Score'].mean()\n",
    "        n_stores = len(unique_stores)\n",
    "        n_inspections = len(stores)\n",
    "        std = unique_stores.std()\n",
    "        means.append(unique_stores.mean())\n",
    "        sems.append(stats.sem(unique_stores)) # sem: standard error of the mean\n",
    "        labels.append('\"' + c + '\" (%d, %d)' % (n_stores, n_inspections))\n",
    "    \n",
    "    # Order by descending score\n",
    "    plot_data = pd.DataFrame({'mean':means, 'sem':sems}, index=labels)\n",
    "    plot_data = plot_data.sort('mean', ascending=True)\n",
    "\n",
    "    # Plot\n",
    "    pal = sns.color_palette(\"husl\", len(plot_data))\n",
    "    f, ax = plt.subplots(figsize=(4, 8))\n",
    "    for y, (label, (mean, sem)) in enumerate(plot_data.iterrows()):\n",
    "        ax.errorbar(mean, y, xerr=sem, fmt='o', color=pal[y])\n",
    "    ax.set_ylim([-1, n_types])\n",
    "    ax.set_yticks(np.arange(len(plot_data)))\n",
    "    ax.set_yticklabels(plot_data.index, rotation=0, horizontalalignment='right')\n",
    "    ax.set_xlabel('Health inspection score', fontsize=14)\n",
    "    ax.set_ylabel('Restaurant name contains...', fontsize=14)\n",
    "    \n",
    "types = ['chin', 'mexic', 'indian', 'thai', 'vietnam|pho', 'italia', 'taco|taqu', 'sushi|jap', \n",
    "         'pizz', 'korea', 'burger', 'donut|doughnut', 'coffee', 'bakery', 'ice cream', \n",
    "         'chicken', 'buffet', 'grill', 'bbq|barbe', 'steak', 'greek', 'beer']"
   ]
  },
  {
   "cell_type": "code",
   "execution_count": 26,
   "metadata": {
    "collapsed": false
   },
   "outputs": [
    {
     "data": {
      "image/png": "[encoded data removed]",
      "text/plain": [
       "<matplotlib.figure.Figure at 0x10ca0a210>"
      ]
     },
     "metadata": {},
     "output_type": "display_data"
    }
   ],
   "source": [
    "plot_restaurant_score_by_type(types)"
   ]
  },
  {
   "cell_type": "markdown",
   "metadata": {},
   "source": [
    "The values in parentheses on the y-axis labels denote the number of unique restaurants and total inspections in each group, respectively. The error bars denote the 95% confidence interval.\n",
    "\n",
    "The plot largely corroborates what we probably already knew, with perhaps a couple of minor surprises. It's not surprising that establishments primarily serving coffee, ice cream, or pastries tend to do very well on health inspections. The same applies for most burger and pizza places, and I believe this has to do with strict health protocols universally implemented by national chains that seem to dominate those categories. As we will see with the next plot, restaurants belonging to major chains tend to do exceptionally well in health inspections with very little variance.\n",
    "\n",
    "At the other end of the spectrum, the 6 restaurants with the word \"buffet\" in their name do quite... abysmally. Their average score of 79 is pretty close to the magical failure number of 70. Across 34 different inspections, no \"buffet\"-containing restaurant in Austin has managed to obtain a score higher than 90 in the past 3 years. Of course, this conclusion only applies to buffet restaurants that have the word \"buffet\" in their name, but I believe those comprise the vast majority of all-you-can-eat type eateries, even though I hope I am wrong, because to be honest sometimes buffets can be quite yummy...\n",
    "\n",
    "Also not happy winners in this analysis: restaurants serving ethnic food - with the possible exception of Indian restaurants (though the variance for Indian restaurants is high. Asian restaurants do particularly poorly; for example, \"thai\"-containing restaurants obtain a score of 83, on average.\n",
    "\n",
    "It seems that every restaurant following the \"bbq\" category could be classfied as \"ethnic\" and this leads to an interesting question, which we cannot really answer given the data we have: **Are ethnic restaurants bound to be doing worse than their \"american\" counterparts, or is there some kind of inspector bias against \"different\" cuisines?** Of course diners can form their individual opinions freely and I do not wish to nudge the discussion toward either side, however this trend is really striking to me.\n",
    "\n",
    "*On a positive note, though, we can see that the 74 \"burger\"-containing establishments in this list - you know, the ones where cooks spend much of their day wading around in buckets of raw meat--tend to have very good scores (perhaps because of the perception that health inspectors are gunning for them, I don't know). So, given a choice between Thai food and burger, health code-wise, you're arguably better off with burger. Of course, in the grand scheme of things, these are not terribly large differences, and the vast majority of the time, you're going to be just fine after eating pretty much anywhere (including even those restaurants that fail inspection).*\n",
    "\n",
    "Various discussions with colleagues have lead me to the result that this is most probably happening because national chains can't and won't tolerate PR scandals associated with the sanitary qualities of their food, therefore their protocols concerning food preparations are quite strict, as I have mentioned above. "
   ]
  },
  {
   "cell_type": "markdown",
   "metadata": {},
   "source": [
    "##### Let's eat clean tonight! - Pizza Hut, right???\n",
    "\n"
   ]
  },
  {
   "cell_type": "markdown",
   "metadata": {},
   "source": [
    "Since it's easy to bin restaurants by title, something else we can do is look at the performance of major local and national food chains. Here's what that looks like, for selected chains with major representation in Austin:"
   ]
  },
  {
   "cell_type": "code",
   "execution_count": 27,
   "metadata": {
    "collapsed": false
   },
   "outputs": [],
   "source": [
    "chains = ['starbucks', 'mcdonald', 'subway', 'popeye', 'whataburger', 'domino', \n",
    "         'jamba', 'schlotzsky', 'taco shack', 'burger king', 'wendy', \n",
    "         'panda', 'chick-fil', 'pizza hut', 'papa john', 'chipotle', 'pei wei', 'torchy', 'tacodeli']"
   ]
  },
  {
   "cell_type": "code",
   "execution_count": 28,
   "metadata": {
    "collapsed": false
   },
   "outputs": [
    {
     "data": {
      "image/png": "[encoded data removed]",
      "text/plain": [
       "<matplotlib.figure.Figure at 0x10c63c690>"
      ]
     },
     "metadata": {},
     "output_type": "display_data"
    }
   ],
   "source": [
    "plot_restaurant_score_by_type(chains)"
   ]
  },
  {
   "cell_type": "markdown",
   "metadata": {},
   "source": [
    "Good news! It's pretty much impossible to get sick at Jamba Juice or Starbucks. The large pizza chains all do very well. Also, if you're looking for health code-friendly Asian food, Panda Express is your new best friend. If your primary basis for deciding between drive-thrus is tiny differences in health inspection score, you may want to opt for local hero Whataburger, Wendy's or Burger King over McDonald's. Otherwise, there's nothing terribly interesting here, other than the suprisingly low (for me) scores of Pei Wei, which I have to admit I used to hold in a higher esteem. An average score of 88 of course isn't something to be very disappointed about, but it seems that they, being a national chain, are slightly more lax when it comes to their food preparation protocols compared to their more \"fast-food\" counterpart, Panda Express."
   ]
  },
  {
   "cell_type": "markdown",
   "metadata": {},
   "source": [
    "The reader is strongly encouraged to visit [Tal Yarkoni's notebook](https://github.com/tyarkoni/open-data-flights/blob/master/health-inspection/flight1.ipynb) for further exploratory data analysis on the Ceity of Austin Restaurant Health Inspection dataset."
   ]
  },
  {
   "cell_type": "markdown",
   "metadata": {},
   "source": [
    "### 4. Enriching our dataset by adding numerics"
   ]
  },
  {
   "cell_type": "markdown",
   "metadata": {},
   "source": [
    "As we have seen, our only quantitative variable in our data set is each restaurant's score. Even though the given data set can lead us to a fairly thorough exploration and raise some quite interesting questions, as we have seen so far, my opinion is that our output would be much richer if we had more information. The steps I took to address this are:\n",
    "\n",
    "- I unilaterally decided to trim down the area of interest. Health Inspections are conducted by Travis County which is rather spacious and includes the City of Austin, the neighboring communities like Pflugerville as well as some far-flung suburbs like Lago Vista or Manor. I spent some time over a map and ended up deciding to focus my analysis from now on in my loose definition of the **Austin City Limits**. Roughly this translates as eliminating all rows from my DataFrames that belong to the suburban Zip Codes.\n",
    "\n",
    "\n",
    "- I did some more research on the remaining 36 Zip Codes after the purge above, and following U.S. Census Data from 2014 I incorporated three more columns into my DataFrame: Population, Median Income and Home Ownership percentage for each one of the Austin City Limits Zip Codes."
   ]
  },
  {
   "cell_type": "code",
   "execution_count": 29,
   "metadata": {
    "collapsed": false
   },
   "outputs": [
    {
     "name": "stdout",
     "output_type": "stream",
     "text": [
      "56\n"
     ]
    }
   ],
   "source": [
    "# Let's see how many Zip Codes do we start with:\n",
    "\n",
    "print len(pd.unique(df.Zip_Code.ravel()))"
   ]
  },
  {
   "cell_type": "markdown",
   "metadata": {},
   "source": [
    "Those 56 Zip Codes cover the entire area of Travis County where the Austin/Travis County Health and Human Services Department conducts the inspections. After spending some time studying a detailed map, I decided to only keep a subset of those 56 Zip Codes from now on, even though this means I am trimming down my data set. I am interested in Austin proper:"
   ]
  },
  {
   "cell_type": "code",
   "execution_count": 30,
   "metadata": {
    "collapsed": false
   },
   "outputs": [
    {
     "data": {
      "text/plain": [
       "36"
      ]
     },
     "execution_count": 30,
     "metadata": {},
     "output_type": "execute_result"
    }
   ],
   "source": [
    "# Focus on the main part of the city\n",
    "# The geographical division is mine\n",
    "\n",
    "SE_zip = (78744, 78747, 78719, 78741)\n",
    "Central_zip = (78701, 78702, 78703, 78705, 78721, 78723, 78712, 78751, 78756)\n",
    "NE_zip = (78752, 78753, 78754)\n",
    "NW_zip = (78757, 78758, 78727, 78722, 78729, 78717, 78750, 78759, 78726, 78730, 78731, 78732)\n",
    "SW_zip = (78704, 78745, 78748, 78739, 78749, 78735, 78733, 78746)\n",
    "\n",
    "ACL_zip = SE_zip + Central_zip + NE_zip + NW_zip + SW_zip\n",
    "len(ACL_zip)"
   ]
  },
  {
   "cell_type": "markdown",
   "metadata": {},
   "source": [
    "36 Zip Codes of a more or less contiguous area is what we will be focusing on from now on."
   ]
  },
  {
   "cell_type": "code",
   "execution_count": 31,
   "metadata": {
    "collapsed": false
   },
   "outputs": [
    {
     "data": {
      "text/html": [
       "<div>\n",
       "<table border=\"1\" class=\"dataframe\">\n",
       "  <thead>\n",
       "    <tr style=\"text-align: right;\">\n",
       "      <th></th>\n",
       "      <th>Zip_Code</th>\n",
       "      <th>Score</th>\n",
       "      <th>Facility_ID</th>\n",
       "    </tr>\n",
       "  </thead>\n",
       "  <tbody>\n",
       "    <tr>\n",
       "      <th>count</th>\n",
       "      <td>16113.000000</td>\n",
       "      <td>16113.000000</td>\n",
       "      <td>16113.000000</td>\n",
       "    </tr>\n",
       "    <tr>\n",
       "      <th>mean</th>\n",
       "      <td>78732.831565</td>\n",
       "      <td>90.556383</td>\n",
       "      <td>7290115.054118</td>\n",
       "    </tr>\n",
       "    <tr>\n",
       "      <th>std</th>\n",
       "      <td>21.670047</td>\n",
       "      <td>8.003905</td>\n",
       "      <td>3846991.045580</td>\n",
       "    </tr>\n",
       "    <tr>\n",
       "      <th>min</th>\n",
       "      <td>78701.000000</td>\n",
       "      <td>36.000000</td>\n",
       "      <td>2800004.000000</td>\n",
       "    </tr>\n",
       "    <tr>\n",
       "      <th>25%</th>\n",
       "      <td>78705.000000</td>\n",
       "      <td>86.000000</td>\n",
       "      <td>2801979.000000</td>\n",
       "    </tr>\n",
       "    <tr>\n",
       "      <th>50%</th>\n",
       "      <td>78741.000000</td>\n",
       "      <td>92.000000</td>\n",
       "      <td>10091552.000000</td>\n",
       "    </tr>\n",
       "    <tr>\n",
       "      <th>75%</th>\n",
       "      <td>78752.000000</td>\n",
       "      <td>97.000000</td>\n",
       "      <td>10662646.000000</td>\n",
       "    </tr>\n",
       "    <tr>\n",
       "      <th>max</th>\n",
       "      <td>78759.000000</td>\n",
       "      <td>100.000000</td>\n",
       "      <td>11386831.000000</td>\n",
       "    </tr>\n",
       "  </tbody>\n",
       "</table>\n",
       "</div>"
      ],
      "text/plain": [
       "           Zip_Code         Score      Facility_ID\n",
       "count  16113.000000  16113.000000     16113.000000\n",
       "mean   78732.831565     90.556383   7290115.054118\n",
       "std       21.670047      8.003905   3846991.045580\n",
       "min    78701.000000     36.000000   2800004.000000\n",
       "25%    78705.000000     86.000000   2801979.000000\n",
       "50%    78741.000000     92.000000  10091552.000000\n",
       "75%    78752.000000     97.000000  10662646.000000\n",
       "max    78759.000000    100.000000  11386831.000000"
      ]
     },
     "execution_count": 31,
     "metadata": {},
     "output_type": "execute_result"
    }
   ],
   "source": [
    "# Create a new DataFrame only including Austin City Limits restaurants:\n",
    "\n",
    "ACL = df[df.Zip_Code.isin(ACL_zip)]\n",
    "ACL.describe()"
   ]
  },
  {
   "cell_type": "markdown",
   "metadata": {},
   "source": [
    "Let us now introduce the U.S. 2014 Census numerics data: "
   ]
  },
  {
   "cell_type": "code",
   "execution_count": 32,
   "metadata": {
    "collapsed": false
   },
   "outputs": [
    {
     "data": {
      "text/html": [
       "<div>\n",
       "<table border=\"1\" class=\"dataframe\">\n",
       "  <thead>\n",
       "    <tr style=\"text-align: right;\">\n",
       "      <th></th>\n",
       "      <th>Zip_Code</th>\n",
       "      <th>Med_Income</th>\n",
       "      <th>Population</th>\n",
       "      <th>Home_Ownership</th>\n",
       "    </tr>\n",
       "  </thead>\n",
       "  <tbody>\n",
       "    <tr>\n",
       "      <th>0</th>\n",
       "      <td>78701</td>\n",
       "      <td>35757</td>\n",
       "      <td>3780</td>\n",
       "      <td>0.377</td>\n",
       "    </tr>\n",
       "    <tr>\n",
       "      <th>1</th>\n",
       "      <td>78702</td>\n",
       "      <td>23348</td>\n",
       "      <td>22498</td>\n",
       "      <td>0.467</td>\n",
       "    </tr>\n",
       "    <tr>\n",
       "      <th>2</th>\n",
       "      <td>78703</td>\n",
       "      <td>54591</td>\n",
       "      <td>19522</td>\n",
       "      <td>0.515</td>\n",
       "    </tr>\n",
       "    <tr>\n",
       "      <th>3</th>\n",
       "      <td>78705</td>\n",
       "      <td>14740</td>\n",
       "      <td>26972</td>\n",
       "      <td>0.110</td>\n",
       "    </tr>\n",
       "    <tr>\n",
       "      <th>4</th>\n",
       "      <td>78721</td>\n",
       "      <td>26646</td>\n",
       "      <td>10192</td>\n",
       "      <td>0.576</td>\n",
       "    </tr>\n",
       "    <tr>\n",
       "      <th>5</th>\n",
       "      <td>78723</td>\n",
       "      <td>34242</td>\n",
       "      <td>30196</td>\n",
       "      <td>0.441</td>\n",
       "    </tr>\n",
       "    <tr>\n",
       "      <th>6</th>\n",
       "      <td>78712</td>\n",
       "      <td>NaN</td>\n",
       "      <td>NaN</td>\n",
       "      <td>NaN</td>\n",
       "    </tr>\n",
       "    <tr>\n",
       "      <th>7</th>\n",
       "      <td>78751</td>\n",
       "      <td>29779</td>\n",
       "      <td>13829</td>\n",
       "      <td>0.259</td>\n",
       "    </tr>\n",
       "    <tr>\n",
       "      <th>8</th>\n",
       "      <td>78756</td>\n",
       "      <td>36978</td>\n",
       "      <td>7253</td>\n",
       "      <td>0.395</td>\n",
       "    </tr>\n",
       "    <tr>\n",
       "      <th>9</th>\n",
       "      <td>78744</td>\n",
       "      <td>38256</td>\n",
       "      <td>34028</td>\n",
       "      <td>0.536</td>\n",
       "    </tr>\n",
       "    <tr>\n",
       "      <th>10</th>\n",
       "      <td>78747</td>\n",
       "      <td>60861</td>\n",
       "      <td>4908</td>\n",
       "      <td>0.890</td>\n",
       "    </tr>\n",
       "    <tr>\n",
       "      <th>11</th>\n",
       "      <td>78719</td>\n",
       "      <td>NaN</td>\n",
       "      <td>NaN</td>\n",
       "      <td>NaN</td>\n",
       "    </tr>\n",
       "    <tr>\n",
       "      <th>12</th>\n",
       "      <td>78741</td>\n",
       "      <td>25369</td>\n",
       "      <td>40678</td>\n",
       "      <td>0.146</td>\n",
       "    </tr>\n",
       "    <tr>\n",
       "      <th>13</th>\n",
       "      <td>78752</td>\n",
       "      <td>30207</td>\n",
       "      <td>17978</td>\n",
       "      <td>0.266</td>\n",
       "    </tr>\n",
       "    <tr>\n",
       "      <th>14</th>\n",
       "      <td>78753</td>\n",
       "      <td>38206</td>\n",
       "      <td>43788</td>\n",
       "      <td>0.407</td>\n",
       "    </tr>\n",
       "    <tr>\n",
       "      <th>15</th>\n",
       "      <td>78754</td>\n",
       "      <td>51810</td>\n",
       "      <td>5517</td>\n",
       "      <td>0.110</td>\n",
       "    </tr>\n",
       "    <tr>\n",
       "      <th>16</th>\n",
       "      <td>78704</td>\n",
       "      <td>35733</td>\n",
       "      <td>43343</td>\n",
       "      <td>0.302</td>\n",
       "    </tr>\n",
       "    <tr>\n",
       "      <th>17</th>\n",
       "      <td>78745</td>\n",
       "      <td>43458</td>\n",
       "      <td>53136</td>\n",
       "      <td>0.090</td>\n",
       "    </tr>\n",
       "    <tr>\n",
       "      <th>18</th>\n",
       "      <td>78748</td>\n",
       "      <td>57710</td>\n",
       "      <td>25138</td>\n",
       "      <td>0.739</td>\n",
       "    </tr>\n",
       "    <tr>\n",
       "      <th>19</th>\n",
       "      <td>78739</td>\n",
       "      <td>102707</td>\n",
       "      <td>8708</td>\n",
       "      <td>0.962</td>\n",
       "    </tr>\n",
       "    <tr>\n",
       "      <th>20</th>\n",
       "      <td>78749</td>\n",
       "      <td>68244</td>\n",
       "      <td>28420</td>\n",
       "      <td>0.360</td>\n",
       "    </tr>\n",
       "    <tr>\n",
       "      <th>21</th>\n",
       "      <td>78735</td>\n",
       "      <td>75204</td>\n",
       "      <td>9563</td>\n",
       "      <td>0.564</td>\n",
       "    </tr>\n",
       "    <tr>\n",
       "      <th>22</th>\n",
       "      <td>78733</td>\n",
       "      <td>102239</td>\n",
       "      <td>9144</td>\n",
       "      <td>0.901</td>\n",
       "    </tr>\n",
       "    <tr>\n",
       "      <th>23</th>\n",
       "      <td>78746</td>\n",
       "      <td>100571</td>\n",
       "      <td>25768</td>\n",
       "      <td>0.710</td>\n",
       "    </tr>\n",
       "    <tr>\n",
       "      <th>24</th>\n",
       "      <td>78757</td>\n",
       "      <td>45090</td>\n",
       "      <td>21434</td>\n",
       "      <td>0.566</td>\n",
       "    </tr>\n",
       "    <tr>\n",
       "      <th>25</th>\n",
       "      <td>78758</td>\n",
       "      <td>42398</td>\n",
       "      <td>42977</td>\n",
       "      <td>0.309</td>\n",
       "    </tr>\n",
       "    <tr>\n",
       "      <th>26</th>\n",
       "      <td>78727</td>\n",
       "      <td>62648</td>\n",
       "      <td>22332</td>\n",
       "      <td>0.573</td>\n",
       "    </tr>\n",
       "    <tr>\n",
       "      <th>27</th>\n",
       "      <td>78722</td>\n",
       "      <td>35794</td>\n",
       "      <td>6264</td>\n",
       "      <td>0.468</td>\n",
       "    </tr>\n",
       "    <tr>\n",
       "      <th>28</th>\n",
       "      <td>78729</td>\n",
       "      <td>59497</td>\n",
       "      <td>24539</td>\n",
       "      <td>0.516</td>\n",
       "    </tr>\n",
       "    <tr>\n",
       "      <th>29</th>\n",
       "      <td>78717</td>\n",
       "      <td>87290</td>\n",
       "      <td>8209</td>\n",
       "      <td>0.793</td>\n",
       "    </tr>\n",
       "    <tr>\n",
       "      <th>30</th>\n",
       "      <td>78750</td>\n",
       "      <td>78428</td>\n",
       "      <td>23563</td>\n",
       "      <td>0.717</td>\n",
       "    </tr>\n",
       "    <tr>\n",
       "      <th>31</th>\n",
       "      <td>78759</td>\n",
       "      <td>61284</td>\n",
       "      <td>40327</td>\n",
       "      <td>0.451</td>\n",
       "    </tr>\n",
       "    <tr>\n",
       "      <th>32</th>\n",
       "      <td>78726</td>\n",
       "      <td>89891</td>\n",
       "      <td>6547</td>\n",
       "      <td>0.700</td>\n",
       "    </tr>\n",
       "    <tr>\n",
       "      <th>33</th>\n",
       "      <td>78730</td>\n",
       "      <td>128524</td>\n",
       "      <td>4848</td>\n",
       "      <td>0.740</td>\n",
       "    </tr>\n",
       "    <tr>\n",
       "      <th>34</th>\n",
       "      <td>78731</td>\n",
       "      <td>62404</td>\n",
       "      <td>24068</td>\n",
       "      <td>0.593</td>\n",
       "    </tr>\n",
       "    <tr>\n",
       "      <th>35</th>\n",
       "      <td>78732</td>\n",
       "      <td>103951</td>\n",
       "      <td>3804</td>\n",
       "      <td>0.970</td>\n",
       "    </tr>\n",
       "  </tbody>\n",
       "</table>\n",
       "</div>"
      ],
      "text/plain": [
       "    Zip_Code  Med_Income  Population  Home_Ownership\n",
       "0      78701       35757        3780           0.377\n",
       "1      78702       23348       22498           0.467\n",
       "2      78703       54591       19522           0.515\n",
       "3      78705       14740       26972           0.110\n",
       "4      78721       26646       10192           0.576\n",
       "5      78723       34242       30196           0.441\n",
       "6      78712         NaN         NaN             NaN\n",
       "7      78751       29779       13829           0.259\n",
       "8      78756       36978        7253           0.395\n",
       "9      78744       38256       34028           0.536\n",
       "10     78747       60861        4908           0.890\n",
       "11     78719         NaN         NaN             NaN\n",
       "12     78741       25369       40678           0.146\n",
       "13     78752       30207       17978           0.266\n",
       "14     78753       38206       43788           0.407\n",
       "15     78754       51810        5517           0.110\n",
       "16     78704       35733       43343           0.302\n",
       "17     78745       43458       53136           0.090\n",
       "18     78748       57710       25138           0.739\n",
       "19     78739      102707        8708           0.962\n",
       "20     78749       68244       28420           0.360\n",
       "21     78735       75204        9563           0.564\n",
       "22     78733      102239        9144           0.901\n",
       "23     78746      100571       25768           0.710\n",
       "24     78757       45090       21434           0.566\n",
       "25     78758       42398       42977           0.309\n",
       "26     78727       62648       22332           0.573\n",
       "27     78722       35794        6264           0.468\n",
       "28     78729       59497       24539           0.516\n",
       "29     78717       87290        8209           0.793\n",
       "30     78750       78428       23563           0.717\n",
       "31     78759       61284       40327           0.451\n",
       "32     78726       89891        6547           0.700\n",
       "33     78730      128524        4848           0.740\n",
       "34     78731       62404       24068           0.593\n",
       "35     78732      103951        3804           0.970"
      ]
     },
     "execution_count": 32,
     "metadata": {},
     "output_type": "execute_result"
    }
   ],
   "source": [
    "raw_data = {\n",
    "        'Zip_Code': [78701, 78702, 78703, 78705, 78721, 78723, 78712, 78751, 78756, 78744, 78747, 78719, 78741,\\\n",
    "                    78752, 78753, 78754, 78704, 78745, 78748, 78739, 78749, 78735, 78733, 78746, 78757, 78758,\\\n",
    "                    78727, 78722, 78729, 78717, 78750, 78759, 78726, 78730, 78731, 78732],\n",
    "        'Med_Income': [35757, 23348, 54591, 14740, 26646, 34242, np.nan, 29779, 36978, 38256, 60861, np.nan, 25369,\\\n",
    "                      30207, 38206, 51810, 35733, 43458, 57710, 102707, 68244, 75204, 102239, 100571,\\\n",
    "                      45090, 42398, 62648, 35794, 59497, 87290, 78428, 61284, 89891, 128524, 62404, 103951],\n",
    "        'Population': [3780, 22498, 19522, 26972, 10192, 30196, np.nan, 13829, 7253, 34028, 4908, np.nan, 40678,\\\n",
    "                      17978, 43788, 5517, 43343, 53136, 25138, 8708, 28420, 9563, 9144, 25768,\\\n",
    "                      21434, 42977, 22332, 6264, 24539, 8209, 23563, 40327, 6547, 4848, 24068, 3804],\n",
    "        'Home_Ownership': [0.377, 0.467, 0.515, 0.11, 0.576, 0.441, np.nan, 0.259, 0.395, 0.536, 0.89, np.nan, 0.146,\\\n",
    "                          0.266, 0.407, 0.11, 0.302, 0.09, 0.739, 0.962, 0.36, 0.564, 0.901, 0.71,\\\n",
    "                          0.566, 0.309, 0.573, 0.468, 0.516, 0.793, 0.717, 0.451, 0.7, 0.74, 0.593, 0.97]}\n",
    "\n",
    "df_numerics = pd.DataFrame(raw_data, columns = ['Zip_Code','Med_Income', 'Population', 'Home_Ownership'])\n",
    "df_numerics"
   ]
  },
  {
   "cell_type": "markdown",
   "metadata": {},
   "source": [
    "78712 is the special Zip Code for the University of Texas Campus and 78719 corresponds to Austin - Bergstrom International Airport."
   ]
  },
  {
   "cell_type": "markdown",
   "metadata": {},
   "source": [
    "Let us now merge the two DataFrames, ACL and df_numerics into a common one:"
   ]
  },
  {
   "cell_type": "code",
   "execution_count": 33,
   "metadata": {
    "collapsed": false
   },
   "outputs": [
    {
     "data": {
      "text/html": [
       "<div>\n",
       "<table border=\"1\" class=\"dataframe\">\n",
       "  <thead>\n",
       "    <tr style=\"text-align: right;\">\n",
       "      <th></th>\n",
       "      <th>Restaurant_Name</th>\n",
       "      <th>Zip_Code</th>\n",
       "      <th>Inspection_Date</th>\n",
       "      <th>Score</th>\n",
       "      <th>Address</th>\n",
       "      <th>Facility_ID</th>\n",
       "      <th>Process_Description</th>\n",
       "      <th>string_id</th>\n",
       "      <th>Med_Income</th>\n",
       "      <th>Population</th>\n",
       "      <th>Home_Ownership</th>\n",
       "    </tr>\n",
       "  </thead>\n",
       "  <tbody>\n",
       "    <tr>\n",
       "      <th>0</th>\n",
       "      <td>Mr. Gatti's #118</td>\n",
       "      <td>78758</td>\n",
       "      <td>2015-12-23</td>\n",
       "      <td>94</td>\n",
       "      <td>2121 W PARMER LN\\nAUSTIN, TX 78758\\n(30.415649...</td>\n",
       "      <td>2801996</td>\n",
       "      <td>Routine Inspection</td>\n",
       "      <td>mr. gatti's #118_2801996</td>\n",
       "      <td>42398</td>\n",
       "      <td>42977</td>\n",
       "      <td>0.309</td>\n",
       "    </tr>\n",
       "    <tr>\n",
       "      <th>1</th>\n",
       "      <td>Subway</td>\n",
       "      <td>78758</td>\n",
       "      <td>2015-12-23</td>\n",
       "      <td>98</td>\n",
       "      <td>2501 W PARMER LN\\nAUSTIN, TX 78758\\n(30.418236...</td>\n",
       "      <td>10385802</td>\n",
       "      <td>Routine Inspection</td>\n",
       "      <td>subway_10385802</td>\n",
       "      <td>42398</td>\n",
       "      <td>42977</td>\n",
       "      <td>0.309</td>\n",
       "    </tr>\n",
       "    <tr>\n",
       "      <th>2</th>\n",
       "      <td>Baskin Robbins</td>\n",
       "      <td>78758</td>\n",
       "      <td>2015-12-23</td>\n",
       "      <td>99</td>\n",
       "      <td>12407 N MOPAC EXPY\\nAUSTIN, TX 78758\\n(30.4174...</td>\n",
       "      <td>2802274</td>\n",
       "      <td>Routine Inspection</td>\n",
       "      <td>baskin robbins_2802274</td>\n",
       "      <td>42398</td>\n",
       "      <td>42977</td>\n",
       "      <td>0.309</td>\n",
       "    </tr>\n",
       "    <tr>\n",
       "      <th>3</th>\n",
       "      <td>JR's Tacos</td>\n",
       "      <td>78758</td>\n",
       "      <td>2015-12-22</td>\n",
       "      <td>91</td>\n",
       "      <td>1921 CEDAR BEND DR\\nAUSTIN, TX 78758\\n(30.4083...</td>\n",
       "      <td>10964220</td>\n",
       "      <td>Routine Inspection</td>\n",
       "      <td>jr's tacos_10964220</td>\n",
       "      <td>42398</td>\n",
       "      <td>42977</td>\n",
       "      <td>0.309</td>\n",
       "    </tr>\n",
       "    <tr>\n",
       "      <th>4</th>\n",
       "      <td>Econo Lodge</td>\n",
       "      <td>78758</td>\n",
       "      <td>2015-12-22</td>\n",
       "      <td>91</td>\n",
       "      <td>9100 BURNET RD\\nAUSTIN, TX 78758\\n(30.37479048...</td>\n",
       "      <td>10778546</td>\n",
       "      <td>Routine Inspection</td>\n",
       "      <td>econo lodge_10778546</td>\n",
       "      <td>42398</td>\n",
       "      <td>42977</td>\n",
       "      <td>0.309</td>\n",
       "    </tr>\n",
       "  </tbody>\n",
       "</table>\n",
       "</div>"
      ],
      "text/plain": [
       "    Restaurant_Name  Zip_Code Inspection_Date  Score  \\\n",
       "0  Mr. Gatti's #118     78758      2015-12-23     94   \n",
       "1            Subway     78758      2015-12-23     98   \n",
       "2    Baskin Robbins     78758      2015-12-23     99   \n",
       "3        JR's Tacos     78758      2015-12-22     91   \n",
       "4       Econo Lodge     78758      2015-12-22     91   \n",
       "\n",
       "                                             Address  Facility_ID  \\\n",
       "0  2121 W PARMER LN\\nAUSTIN, TX 78758\\n(30.415649...      2801996   \n",
       "1  2501 W PARMER LN\\nAUSTIN, TX 78758\\n(30.418236...     10385802   \n",
       "2  12407 N MOPAC EXPY\\nAUSTIN, TX 78758\\n(30.4174...      2802274   \n",
       "3  1921 CEDAR BEND DR\\nAUSTIN, TX 78758\\n(30.4083...     10964220   \n",
       "4  9100 BURNET RD\\nAUSTIN, TX 78758\\n(30.37479048...     10778546   \n",
       "\n",
       "  Process_Description                 string_id  Med_Income  Population  \\\n",
       "0  Routine Inspection  mr. gatti's #118_2801996       42398       42977   \n",
       "1  Routine Inspection           subway_10385802       42398       42977   \n",
       "2  Routine Inspection    baskin robbins_2802274       42398       42977   \n",
       "3  Routine Inspection       jr's tacos_10964220       42398       42977   \n",
       "4  Routine Inspection      econo lodge_10778546       42398       42977   \n",
       "\n",
       "   Home_Ownership  \n",
       "0           0.309  \n",
       "1           0.309  \n",
       "2           0.309  \n",
       "3           0.309  \n",
       "4           0.309  "
      ]
     },
     "execution_count": 33,
     "metadata": {},
     "output_type": "execute_result"
    }
   ],
   "source": [
    "merged = pd.merge(ACL, df_numerics, on='Zip_Code')\n",
    "merged.head()"
   ]
  },
  {
   "cell_type": "markdown",
   "metadata": {},
   "source": [
    "### 5. DataFrame TLC and a very interesting visualization"
   ]
  },
  {
   "cell_type": "markdown",
   "metadata": {},
   "source": [
    "Our \"main\" DataFrame needs some TLC. We also have to exploit the \"Address\" column further by creating neat columns with street address, city information and coordinates for each row - even though we are focusing in the contiguous Austin area, we are still having the areas of Rollingwood, West Lake Hills, Sunset Valley and Bee Cave to take into account (and get some interesting associations between Restaurant Health Inspection Score and Income...)"
   ]
  },
  {
   "cell_type": "code",
   "execution_count": 34,
   "metadata": {
    "collapsed": false
   },
   "outputs": [],
   "source": [
    "# Creation of a DataFrame off of the constituent components of the 'Address' Column:\n",
    "\n",
    "merged_location = merged['Address'].apply(lambda x: pd.Series(x.split('\\n')))"
   ]
  },
  {
   "cell_type": "code",
   "execution_count": 35,
   "metadata": {
    "collapsed": false
   },
   "outputs": [
    {
     "data": {
      "text/html": [
       "<div>\n",
       "<table border=\"1\" class=\"dataframe\">\n",
       "  <thead>\n",
       "    <tr style=\"text-align: right;\">\n",
       "      <th></th>\n",
       "      <th>0</th>\n",
       "      <th>1</th>\n",
       "      <th>2</th>\n",
       "    </tr>\n",
       "  </thead>\n",
       "  <tbody>\n",
       "    <tr>\n",
       "      <th>0</th>\n",
       "      <td>2121 W PARMER LN</td>\n",
       "      <td>AUSTIN, TX 78758</td>\n",
       "      <td>(30.4156492668216, -97.6975693977174)</td>\n",
       "    </tr>\n",
       "    <tr>\n",
       "      <th>1</th>\n",
       "      <td>2501 W PARMER LN</td>\n",
       "      <td>AUSTIN, TX 78758</td>\n",
       "      <td>(30.4182363972979, -97.7022420545932)</td>\n",
       "    </tr>\n",
       "    <tr>\n",
       "      <th>2</th>\n",
       "      <td>12407 N MOPAC EXPY</td>\n",
       "      <td>AUSTIN, TX 78758</td>\n",
       "      <td>(30.4174621728585, -97.7028442208035)</td>\n",
       "    </tr>\n",
       "    <tr>\n",
       "      <th>3</th>\n",
       "      <td>1921 CEDAR BEND DR</td>\n",
       "      <td>AUSTIN, TX 78758</td>\n",
       "      <td>(30.408322328997, -97.6982433226702)</td>\n",
       "    </tr>\n",
       "    <tr>\n",
       "      <th>4</th>\n",
       "      <td>9100 BURNET RD</td>\n",
       "      <td>AUSTIN, TX 78758</td>\n",
       "      <td>(30.3747904817031, -97.7264170496741)</td>\n",
       "    </tr>\n",
       "  </tbody>\n",
       "</table>\n",
       "</div>"
      ],
      "text/plain": [
       "                    0                 1                                      2\n",
       "0    2121 W PARMER LN  AUSTIN, TX 78758  (30.4156492668216, -97.6975693977174)\n",
       "1    2501 W PARMER LN  AUSTIN, TX 78758  (30.4182363972979, -97.7022420545932)\n",
       "2  12407 N MOPAC EXPY  AUSTIN, TX 78758  (30.4174621728585, -97.7028442208035)\n",
       "3  1921 CEDAR BEND DR  AUSTIN, TX 78758   (30.408322328997, -97.6982433226702)\n",
       "4      9100 BURNET RD  AUSTIN, TX 78758  (30.3747904817031, -97.7264170496741)"
      ]
     },
     "execution_count": 35,
     "metadata": {},
     "output_type": "execute_result"
    }
   ],
   "source": [
    "merged_location.head()"
   ]
  },
  {
   "cell_type": "markdown",
   "metadata": {},
   "source": [
    "Let's reformat the first two columns for geocoding:"
   ]
  },
  {
   "cell_type": "code",
   "execution_count": 36,
   "metadata": {
    "collapsed": true
   },
   "outputs": [],
   "source": [
    "geocode = merged_location[0] + ', ' + merged_location[1]"
   ]
  },
  {
   "cell_type": "code",
   "execution_count": 37,
   "metadata": {
    "collapsed": false
   },
   "outputs": [
    {
     "data": {
      "text/plain": [
       "0      2121 W PARMER LN, AUSTIN, TX 78758\n",
       "1      2501 W PARMER LN, AUSTIN, TX 78758\n",
       "2    12407 N MOPAC EXPY, AUSTIN, TX 78758\n",
       "3    1921 CEDAR BEND DR, AUSTIN, TX 78758\n",
       "4        9100 BURNET RD, AUSTIN, TX 78758\n",
       "dtype: object"
      ]
     },
     "execution_count": 37,
     "metadata": {},
     "output_type": "execute_result"
    }
   ],
   "source": [
    "geocode.head()"
   ]
  },
  {
   "cell_type": "code",
   "execution_count": 40,
   "metadata": {
    "collapsed": false
   },
   "outputs": [
    {
     "data": {
      "text/plain": [
       "0    (30.4156492668216, -97.6975693977174)\n",
       "1    (30.4182363972979, -97.7022420545932)\n",
       "Name: 2, dtype: object"
      ]
     },
     "execution_count": 40,
     "metadata": {},
     "output_type": "execute_result"
    }
   ],
   "source": [
    "# What about the coordinates column?\n",
    "\n",
    "merged_location[2].head(2)"
   ]
  },
  {
   "cell_type": "markdown",
   "metadata": {},
   "source": [
    "Each element of column [2] of the merged_location DataFrame is a parenthesis with a pair of coordinates inside it, representing latitude and longitude. Those seem like an interesting addition to our dataframe, therefore we'll do a little bit more work to add them as individual columns:"
   ]
  },
  {
   "cell_type": "code",
   "execution_count": 41,
   "metadata": {
    "collapsed": true
   },
   "outputs": [],
   "source": [
    "# Get rid of the parentheses:\n",
    "\n",
    "coords = pd.Series(merged_location[2])\n",
    "\n",
    "stripped_coords = []\n",
    "for coord in coords:\n",
    "    coord = coord.strip('()')\n",
    "    stripped_coords.append(coord)"
   ]
  },
  {
   "cell_type": "code",
   "execution_count": 42,
   "metadata": {
    "collapsed": false
   },
   "outputs": [
    {
     "data": {
      "text/plain": [
       "'30.4182363972979, -97.7022420545932'"
      ]
     },
     "execution_count": 42,
     "metadata": {},
     "output_type": "execute_result"
    }
   ],
   "source": [
    "stripped_coords[1]"
   ]
  },
  {
   "cell_type": "code",
   "execution_count": 43,
   "metadata": {
    "collapsed": true
   },
   "outputs": [],
   "source": [
    "merged['Coordinates'] = pd.Series(stripped_coords)"
   ]
  },
  {
   "cell_type": "code",
   "execution_count": 44,
   "metadata": {
    "collapsed": true
   },
   "outputs": [],
   "source": [
    "merged['Latitude'] = 0\n",
    "merged['Longitude'] = 0"
   ]
  },
  {
   "cell_type": "markdown",
   "metadata": {},
   "source": [
    "Following Chris Albon's excellent [code snippet](http://chrisalbon.com/python/geocoding_and_reverse_geocoding.html):"
   ]
  },
  {
   "cell_type": "code",
   "execution_count": 45,
   "metadata": {
    "collapsed": true
   },
   "outputs": [],
   "source": [
    "# Create two lists for the loop results to be placed\n",
    "lat = []\n",
    "lon = []\n",
    "\n",
    "# For each row in a varible,\n",
    "for row in merged['Coordinates']:\n",
    "    # Try to,\n",
    "    try:\n",
    "        # Split the row by comma, convert to float, and append\n",
    "        # everything before the comma to lat\n",
    "        lat.append(float(row.split(',')[0]))\n",
    "        # Split the row by comma, convert to float, and append\n",
    "        # everything after the comma to lon\n",
    "        lon.append(float(row.split(',')[1]))\n",
    "    # But if you get an error\n",
    "    except:\n",
    "        # append a missing value to lat\n",
    "        lat.append(np.NaN)\n",
    "        # append a missing value to lon\n",
    "        lon.append(np.NaN)\n",
    "\n",
    "# Create two new columns from lat and lon\n",
    "merged['Latitude'] = lat\n",
    "merged['Longitude'] = lon"
   ]
  },
  {
   "cell_type": "code",
   "execution_count": 46,
   "metadata": {
    "collapsed": false
   },
   "outputs": [
    {
     "data": {
      "text/html": [
       "<div>\n",
       "<table border=\"1\" class=\"dataframe\">\n",
       "  <thead>\n",
       "    <tr style=\"text-align: right;\">\n",
       "      <th></th>\n",
       "      <th>Restaurant_Name</th>\n",
       "      <th>Zip_Code</th>\n",
       "      <th>Inspection_Date</th>\n",
       "      <th>Score</th>\n",
       "      <th>Address</th>\n",
       "      <th>Facility_ID</th>\n",
       "      <th>Process_Description</th>\n",
       "      <th>string_id</th>\n",
       "      <th>Med_Income</th>\n",
       "      <th>Population</th>\n",
       "      <th>Home_Ownership</th>\n",
       "      <th>Coordinates</th>\n",
       "      <th>Latitude</th>\n",
       "      <th>Longitude</th>\n",
       "    </tr>\n",
       "  </thead>\n",
       "  <tbody>\n",
       "    <tr>\n",
       "      <th>0</th>\n",
       "      <td>Mr. Gatti's #118</td>\n",
       "      <td>78758</td>\n",
       "      <td>2015-12-23</td>\n",
       "      <td>94</td>\n",
       "      <td>2121 W PARMER LN\\nAUSTIN, TX 78758\\n(30.415649...</td>\n",
       "      <td>2801996</td>\n",
       "      <td>Routine Inspection</td>\n",
       "      <td>mr. gatti's #118_2801996</td>\n",
       "      <td>42398</td>\n",
       "      <td>42977</td>\n",
       "      <td>0.309</td>\n",
       "      <td>30.4156492668216, -97.6975693977174</td>\n",
       "      <td>30.415649</td>\n",
       "      <td>-97.697569</td>\n",
       "    </tr>\n",
       "    <tr>\n",
       "      <th>1</th>\n",
       "      <td>Subway</td>\n",
       "      <td>78758</td>\n",
       "      <td>2015-12-23</td>\n",
       "      <td>98</td>\n",
       "      <td>2501 W PARMER LN\\nAUSTIN, TX 78758\\n(30.418236...</td>\n",
       "      <td>10385802</td>\n",
       "      <td>Routine Inspection</td>\n",
       "      <td>subway_10385802</td>\n",
       "      <td>42398</td>\n",
       "      <td>42977</td>\n",
       "      <td>0.309</td>\n",
       "      <td>30.4182363972979, -97.7022420545932</td>\n",
       "      <td>30.418236</td>\n",
       "      <td>-97.702242</td>\n",
       "    </tr>\n",
       "    <tr>\n",
       "      <th>2</th>\n",
       "      <td>Baskin Robbins</td>\n",
       "      <td>78758</td>\n",
       "      <td>2015-12-23</td>\n",
       "      <td>99</td>\n",
       "      <td>12407 N MOPAC EXPY\\nAUSTIN, TX 78758\\n(30.4174...</td>\n",
       "      <td>2802274</td>\n",
       "      <td>Routine Inspection</td>\n",
       "      <td>baskin robbins_2802274</td>\n",
       "      <td>42398</td>\n",
       "      <td>42977</td>\n",
       "      <td>0.309</td>\n",
       "      <td>30.4174621728585, -97.7028442208035</td>\n",
       "      <td>30.417462</td>\n",
       "      <td>-97.702844</td>\n",
       "    </tr>\n",
       "    <tr>\n",
       "      <th>3</th>\n",
       "      <td>JR's Tacos</td>\n",
       "      <td>78758</td>\n",
       "      <td>2015-12-22</td>\n",
       "      <td>91</td>\n",
       "      <td>1921 CEDAR BEND DR\\nAUSTIN, TX 78758\\n(30.4083...</td>\n",
       "      <td>10964220</td>\n",
       "      <td>Routine Inspection</td>\n",
       "      <td>jr's tacos_10964220</td>\n",
       "      <td>42398</td>\n",
       "      <td>42977</td>\n",
       "      <td>0.309</td>\n",
       "      <td>30.408322328997, -97.6982433226702</td>\n",
       "      <td>30.408322</td>\n",
       "      <td>-97.698243</td>\n",
       "    </tr>\n",
       "    <tr>\n",
       "      <th>4</th>\n",
       "      <td>Econo Lodge</td>\n",
       "      <td>78758</td>\n",
       "      <td>2015-12-22</td>\n",
       "      <td>91</td>\n",
       "      <td>9100 BURNET RD\\nAUSTIN, TX 78758\\n(30.37479048...</td>\n",
       "      <td>10778546</td>\n",
       "      <td>Routine Inspection</td>\n",
       "      <td>econo lodge_10778546</td>\n",
       "      <td>42398</td>\n",
       "      <td>42977</td>\n",
       "      <td>0.309</td>\n",
       "      <td>30.3747904817031, -97.7264170496741</td>\n",
       "      <td>30.374790</td>\n",
       "      <td>-97.726417</td>\n",
       "    </tr>\n",
       "  </tbody>\n",
       "</table>\n",
       "</div>"
      ],
      "text/plain": [
       "    Restaurant_Name  Zip_Code Inspection_Date  Score  \\\n",
       "0  Mr. Gatti's #118     78758      2015-12-23     94   \n",
       "1            Subway     78758      2015-12-23     98   \n",
       "2    Baskin Robbins     78758      2015-12-23     99   \n",
       "3        JR's Tacos     78758      2015-12-22     91   \n",
       "4       Econo Lodge     78758      2015-12-22     91   \n",
       "\n",
       "                                             Address  Facility_ID  \\\n",
       "0  2121 W PARMER LN\\nAUSTIN, TX 78758\\n(30.415649...      2801996   \n",
       "1  2501 W PARMER LN\\nAUSTIN, TX 78758\\n(30.418236...     10385802   \n",
       "2  12407 N MOPAC EXPY\\nAUSTIN, TX 78758\\n(30.4174...      2802274   \n",
       "3  1921 CEDAR BEND DR\\nAUSTIN, TX 78758\\n(30.4083...     10964220   \n",
       "4  9100 BURNET RD\\nAUSTIN, TX 78758\\n(30.37479048...     10778546   \n",
       "\n",
       "  Process_Description                 string_id  Med_Income  Population  \\\n",
       "0  Routine Inspection  mr. gatti's #118_2801996       42398       42977   \n",
       "1  Routine Inspection           subway_10385802       42398       42977   \n",
       "2  Routine Inspection    baskin robbins_2802274       42398       42977   \n",
       "3  Routine Inspection       jr's tacos_10964220       42398       42977   \n",
       "4  Routine Inspection      econo lodge_10778546       42398       42977   \n",
       "\n",
       "   Home_Ownership                          Coordinates   Latitude  Longitude  \n",
       "0           0.309  30.4156492668216, -97.6975693977174  30.415649 -97.697569  \n",
       "1           0.309  30.4182363972979, -97.7022420545932  30.418236 -97.702242  \n",
       "2           0.309  30.4174621728585, -97.7028442208035  30.417462 -97.702844  \n",
       "3           0.309   30.408322328997, -97.6982433226702  30.408322 -97.698243  \n",
       "4           0.309  30.3747904817031, -97.7264170496741  30.374790 -97.726417  "
      ]
     },
     "execution_count": 46,
     "metadata": {},
     "output_type": "execute_result"
    }
   ],
   "source": [
    "merged.head()"
   ]
  },
  {
   "cell_type": "code",
   "execution_count": 47,
   "metadata": {
    "collapsed": true
   },
   "outputs": [],
   "source": [
    "# Create a DataFrame off of column [1] of merged_location: City and State-Zip Code:\n",
    "\n",
    "cities = merged_location[1].apply(lambda x: pd.Series(x.split(',')))"
   ]
  },
  {
   "cell_type": "code",
   "execution_count": 48,
   "metadata": {
    "collapsed": false
   },
   "outputs": [
    {
     "data": {
      "text/html": [
       "<div>\n",
       "<table border=\"1\" class=\"dataframe\">\n",
       "  <thead>\n",
       "    <tr style=\"text-align: right;\">\n",
       "      <th></th>\n",
       "      <th>0</th>\n",
       "      <th>1</th>\n",
       "    </tr>\n",
       "  </thead>\n",
       "  <tbody>\n",
       "    <tr>\n",
       "      <th>0</th>\n",
       "      <td>AUSTIN</td>\n",
       "      <td>TX 78758</td>\n",
       "    </tr>\n",
       "    <tr>\n",
       "      <th>1</th>\n",
       "      <td>AUSTIN</td>\n",
       "      <td>TX 78758</td>\n",
       "    </tr>\n",
       "    <tr>\n",
       "      <th>2</th>\n",
       "      <td>AUSTIN</td>\n",
       "      <td>TX 78758</td>\n",
       "    </tr>\n",
       "    <tr>\n",
       "      <th>3</th>\n",
       "      <td>AUSTIN</td>\n",
       "      <td>TX 78758</td>\n",
       "    </tr>\n",
       "    <tr>\n",
       "      <th>4</th>\n",
       "      <td>AUSTIN</td>\n",
       "      <td>TX 78758</td>\n",
       "    </tr>\n",
       "  </tbody>\n",
       "</table>\n",
       "</div>"
      ],
      "text/plain": [
       "        0          1\n",
       "0  AUSTIN   TX 78758\n",
       "1  AUSTIN   TX 78758\n",
       "2  AUSTIN   TX 78758\n",
       "3  AUSTIN   TX 78758\n",
       "4  AUSTIN   TX 78758"
      ]
     },
     "execution_count": 48,
     "metadata": {},
     "output_type": "execute_result"
    }
   ],
   "source": [
    "cities.head()"
   ]
  },
  {
   "cell_type": "code",
   "execution_count": 49,
   "metadata": {
    "collapsed": false
   },
   "outputs": [
    {
     "data": {
      "text/plain": [
       "array(['AUSTIN', 'ROLLINGWOOD', 'WEST LAKE HILLS', 'SUNSET VALLEY',\n",
       "       'BEE CAVE'], dtype=object)"
      ]
     },
     "execution_count": 49,
     "metadata": {},
     "output_type": "execute_result"
    }
   ],
   "source": [
    "# How many are the unique cities in our DataFrame?\n",
    "\n",
    "pd.unique(cities[0].ravel())"
   ]
  },
  {
   "cell_type": "code",
   "execution_count": 50,
   "metadata": {
    "collapsed": true
   },
   "outputs": [],
   "source": [
    "# All our restaurants are in Texas, and we have already dealt with Zip Codes. Ergo we don't need column [1]:\n",
    "\n",
    "del cities[1]"
   ]
  },
  {
   "cell_type": "code",
   "execution_count": 51,
   "metadata": {
    "collapsed": false
   },
   "outputs": [
    {
     "data": {
      "text/html": [
       "<div>\n",
       "<table border=\"1\" class=\"dataframe\">\n",
       "  <thead>\n",
       "    <tr style=\"text-align: right;\">\n",
       "      <th></th>\n",
       "      <th>0</th>\n",
       "    </tr>\n",
       "  </thead>\n",
       "  <tbody>\n",
       "    <tr>\n",
       "      <th>0</th>\n",
       "      <td>AUSTIN</td>\n",
       "    </tr>\n",
       "    <tr>\n",
       "      <th>1</th>\n",
       "      <td>AUSTIN</td>\n",
       "    </tr>\n",
       "    <tr>\n",
       "      <th>2</th>\n",
       "      <td>AUSTIN</td>\n",
       "    </tr>\n",
       "    <tr>\n",
       "      <th>3</th>\n",
       "      <td>AUSTIN</td>\n",
       "    </tr>\n",
       "    <tr>\n",
       "      <th>4</th>\n",
       "      <td>AUSTIN</td>\n",
       "    </tr>\n",
       "  </tbody>\n",
       "</table>\n",
       "</div>"
      ],
      "text/plain": [
       "        0\n",
       "0  AUSTIN\n",
       "1  AUSTIN\n",
       "2  AUSTIN\n",
       "3  AUSTIN\n",
       "4  AUSTIN"
      ]
     },
     "execution_count": 51,
     "metadata": {},
     "output_type": "execute_result"
    }
   ],
   "source": [
    "cities.head()"
   ]
  },
  {
   "cell_type": "code",
   "execution_count": 52,
   "metadata": {
    "collapsed": false
   },
   "outputs": [],
   "source": [
    "# Let us add this neatly divided information into our main DataFrame:\n",
    "\n",
    "merged['Street'] = merged_location[0]\n",
    "merged['City'] = cities[0]\n",
    "merged['Geocode'] = geocode"
   ]
  },
  {
   "cell_type": "code",
   "execution_count": 53,
   "metadata": {
    "collapsed": false
   },
   "outputs": [
    {
     "data": {
      "text/html": [
       "<div>\n",
       "<table border=\"1\" class=\"dataframe\">\n",
       "  <thead>\n",
       "    <tr style=\"text-align: right;\">\n",
       "      <th></th>\n",
       "      <th>Restaurant_Name</th>\n",
       "      <th>Zip_Code</th>\n",
       "      <th>Inspection_Date</th>\n",
       "      <th>Score</th>\n",
       "      <th>Address</th>\n",
       "      <th>Facility_ID</th>\n",
       "      <th>Process_Description</th>\n",
       "      <th>string_id</th>\n",
       "      <th>Med_Income</th>\n",
       "      <th>Population</th>\n",
       "      <th>Home_Ownership</th>\n",
       "      <th>Coordinates</th>\n",
       "      <th>Latitude</th>\n",
       "      <th>Longitude</th>\n",
       "      <th>Street</th>\n",
       "      <th>City</th>\n",
       "      <th>Geocode</th>\n",
       "    </tr>\n",
       "  </thead>\n",
       "  <tbody>\n",
       "    <tr>\n",
       "      <th>0</th>\n",
       "      <td>Mr. Gatti's #118</td>\n",
       "      <td>78758</td>\n",
       "      <td>2015-12-23</td>\n",
       "      <td>94</td>\n",
       "      <td>2121 W PARMER LN\\nAUSTIN, TX 78758\\n(30.415649...</td>\n",
       "      <td>2801996</td>\n",
       "      <td>Routine Inspection</td>\n",
       "      <td>mr. gatti's #118_2801996</td>\n",
       "      <td>42398</td>\n",
       "      <td>42977</td>\n",
       "      <td>0.309</td>\n",
       "      <td>30.4156492668216, -97.6975693977174</td>\n",
       "      <td>30.415649</td>\n",
       "      <td>-97.697569</td>\n",
       "      <td>2121 W PARMER LN</td>\n",
       "      <td>AUSTIN</td>\n",
       "      <td>2121 W PARMER LN, AUSTIN, TX 78758</td>\n",
       "    </tr>\n",
       "    <tr>\n",
       "      <th>1</th>\n",
       "      <td>Subway</td>\n",
       "      <td>78758</td>\n",
       "      <td>2015-12-23</td>\n",
       "      <td>98</td>\n",
       "      <td>2501 W PARMER LN\\nAUSTIN, TX 78758\\n(30.418236...</td>\n",
       "      <td>10385802</td>\n",
       "      <td>Routine Inspection</td>\n",
       "      <td>subway_10385802</td>\n",
       "      <td>42398</td>\n",
       "      <td>42977</td>\n",
       "      <td>0.309</td>\n",
       "      <td>30.4182363972979, -97.7022420545932</td>\n",
       "      <td>30.418236</td>\n",
       "      <td>-97.702242</td>\n",
       "      <td>2501 W PARMER LN</td>\n",
       "      <td>AUSTIN</td>\n",
       "      <td>2501 W PARMER LN, AUSTIN, TX 78758</td>\n",
       "    </tr>\n",
       "    <tr>\n",
       "      <th>2</th>\n",
       "      <td>Baskin Robbins</td>\n",
       "      <td>78758</td>\n",
       "      <td>2015-12-23</td>\n",
       "      <td>99</td>\n",
       "      <td>12407 N MOPAC EXPY\\nAUSTIN, TX 78758\\n(30.4174...</td>\n",
       "      <td>2802274</td>\n",
       "      <td>Routine Inspection</td>\n",
       "      <td>baskin robbins_2802274</td>\n",
       "      <td>42398</td>\n",
       "      <td>42977</td>\n",
       "      <td>0.309</td>\n",
       "      <td>30.4174621728585, -97.7028442208035</td>\n",
       "      <td>30.417462</td>\n",
       "      <td>-97.702844</td>\n",
       "      <td>12407 N MOPAC EXPY</td>\n",
       "      <td>AUSTIN</td>\n",
       "      <td>12407 N MOPAC EXPY, AUSTIN, TX 78758</td>\n",
       "    </tr>\n",
       "    <tr>\n",
       "      <th>3</th>\n",
       "      <td>JR's Tacos</td>\n",
       "      <td>78758</td>\n",
       "      <td>2015-12-22</td>\n",
       "      <td>91</td>\n",
       "      <td>1921 CEDAR BEND DR\\nAUSTIN, TX 78758\\n(30.4083...</td>\n",
       "      <td>10964220</td>\n",
       "      <td>Routine Inspection</td>\n",
       "      <td>jr's tacos_10964220</td>\n",
       "      <td>42398</td>\n",
       "      <td>42977</td>\n",
       "      <td>0.309</td>\n",
       "      <td>30.408322328997, -97.6982433226702</td>\n",
       "      <td>30.408322</td>\n",
       "      <td>-97.698243</td>\n",
       "      <td>1921 CEDAR BEND DR</td>\n",
       "      <td>AUSTIN</td>\n",
       "      <td>1921 CEDAR BEND DR, AUSTIN, TX 78758</td>\n",
       "    </tr>\n",
       "    <tr>\n",
       "      <th>4</th>\n",
       "      <td>Econo Lodge</td>\n",
       "      <td>78758</td>\n",
       "      <td>2015-12-22</td>\n",
       "      <td>91</td>\n",
       "      <td>9100 BURNET RD\\nAUSTIN, TX 78758\\n(30.37479048...</td>\n",
       "      <td>10778546</td>\n",
       "      <td>Routine Inspection</td>\n",
       "      <td>econo lodge_10778546</td>\n",
       "      <td>42398</td>\n",
       "      <td>42977</td>\n",
       "      <td>0.309</td>\n",
       "      <td>30.3747904817031, -97.7264170496741</td>\n",
       "      <td>30.374790</td>\n",
       "      <td>-97.726417</td>\n",
       "      <td>9100 BURNET RD</td>\n",
       "      <td>AUSTIN</td>\n",
       "      <td>9100 BURNET RD, AUSTIN, TX 78758</td>\n",
       "    </tr>\n",
       "    <tr>\n",
       "      <th>5</th>\n",
       "      <td>Shahi Food Market</td>\n",
       "      <td>78758</td>\n",
       "      <td>2015-12-22</td>\n",
       "      <td>80</td>\n",
       "      <td>12410 N LAMAR BLVD\\nAUSTIN, TX 78758\\n(30.4066...</td>\n",
       "      <td>2803821</td>\n",
       "      <td>Routine Inspection</td>\n",
       "      <td>shahi food market_2803821</td>\n",
       "      <td>42398</td>\n",
       "      <td>42977</td>\n",
       "      <td>0.309</td>\n",
       "      <td>30.4066900253572, -97.6788692603716</td>\n",
       "      <td>30.406690</td>\n",
       "      <td>-97.678869</td>\n",
       "      <td>12410 N LAMAR BLVD</td>\n",
       "      <td>AUSTIN</td>\n",
       "      <td>12410 N LAMAR BLVD, AUSTIN, TX 78758</td>\n",
       "    </tr>\n",
       "    <tr>\n",
       "      <th>6</th>\n",
       "      <td>K1 Speed</td>\n",
       "      <td>78758</td>\n",
       "      <td>2015-12-22</td>\n",
       "      <td>87</td>\n",
       "      <td>2500 MC HALE CT\\nAUSTIN, TX 78758\\n(30.3851472...</td>\n",
       "      <td>10771103</td>\n",
       "      <td>Routine Inspection</td>\n",
       "      <td>k1 speed_10771103</td>\n",
       "      <td>42398</td>\n",
       "      <td>42977</td>\n",
       "      <td>0.309</td>\n",
       "      <td>30.3851472596582, -97.7212246080011</td>\n",
       "      <td>30.385147</td>\n",
       "      <td>-97.721225</td>\n",
       "      <td>2500 MC HALE CT</td>\n",
       "      <td>AUSTIN</td>\n",
       "      <td>2500 MC HALE CT, AUSTIN, TX 78758</td>\n",
       "    </tr>\n",
       "    <tr>\n",
       "      <th>7</th>\n",
       "      <td>Jasper's</td>\n",
       "      <td>78758</td>\n",
       "      <td>2015-12-22</td>\n",
       "      <td>83</td>\n",
       "      <td>11506 CENTURY OAKS TER\\nAUSTIN, TX 78758\\n(30....</td>\n",
       "      <td>10006802</td>\n",
       "      <td>Routine Inspection</td>\n",
       "      <td>jasper's_10006802</td>\n",
       "      <td>42398</td>\n",
       "      <td>42977</td>\n",
       "      <td>0.309</td>\n",
       "      <td>30.4025739974381, -97.7258935626451</td>\n",
       "      <td>30.402574</td>\n",
       "      <td>-97.725894</td>\n",
       "      <td>11506 CENTURY OAKS TER</td>\n",
       "      <td>AUSTIN</td>\n",
       "      <td>11506 CENTURY OAKS TER, AUSTIN, TX 78758</td>\n",
       "    </tr>\n",
       "    <tr>\n",
       "      <th>8</th>\n",
       "      <td>Papa John's Pizza #930</td>\n",
       "      <td>78758</td>\n",
       "      <td>2015-12-22</td>\n",
       "      <td>84</td>\n",
       "      <td>1925 RUTLAND DR\\nAUSTIN, TX 78758\\n(30.3788756...</td>\n",
       "      <td>2800815</td>\n",
       "      <td>Routine Inspection</td>\n",
       "      <td>papa john's pizza #930_2800815</td>\n",
       "      <td>42398</td>\n",
       "      <td>42977</td>\n",
       "      <td>0.309</td>\n",
       "      <td>30.3788756448479, -97.7130952607857</td>\n",
       "      <td>30.378876</td>\n",
       "      <td>-97.713095</td>\n",
       "      <td>1925 RUTLAND DR</td>\n",
       "      <td>AUSTIN</td>\n",
       "      <td>1925 RUTLAND DR, AUSTIN, TX 78758</td>\n",
       "    </tr>\n",
       "    <tr>\n",
       "      <th>9</th>\n",
       "      <td>Subway #43067</td>\n",
       "      <td>78758</td>\n",
       "      <td>2015-12-21</td>\n",
       "      <td>96</td>\n",
       "      <td>1910 W BRAKER LN\\nAUSTIN, TX 78758\\n(30.392307...</td>\n",
       "      <td>10091620</td>\n",
       "      <td>Routine Inspection</td>\n",
       "      <td>subway #43067_10091620</td>\n",
       "      <td>42398</td>\n",
       "      <td>42977</td>\n",
       "      <td>0.309</td>\n",
       "      <td>30.3923075644652, -97.7066994048772</td>\n",
       "      <td>30.392308</td>\n",
       "      <td>-97.706699</td>\n",
       "      <td>1910 W BRAKER LN</td>\n",
       "      <td>AUSTIN</td>\n",
       "      <td>1910 W BRAKER LN, AUSTIN, TX 78758</td>\n",
       "    </tr>\n",
       "  </tbody>\n",
       "</table>\n",
       "</div>"
      ],
      "text/plain": [
       "          Restaurant_Name  Zip_Code Inspection_Date  Score  \\\n",
       "0        Mr. Gatti's #118     78758      2015-12-23     94   \n",
       "1                  Subway     78758      2015-12-23     98   \n",
       "2          Baskin Robbins     78758      2015-12-23     99   \n",
       "3              JR's Tacos     78758      2015-12-22     91   \n",
       "4             Econo Lodge     78758      2015-12-22     91   \n",
       "5       Shahi Food Market     78758      2015-12-22     80   \n",
       "6                K1 Speed     78758      2015-12-22     87   \n",
       "7                Jasper's     78758      2015-12-22     83   \n",
       "8  Papa John's Pizza #930     78758      2015-12-22     84   \n",
       "9           Subway #43067     78758      2015-12-21     96   \n",
       "\n",
       "                                             Address  Facility_ID  \\\n",
       "0  2121 W PARMER LN\\nAUSTIN, TX 78758\\n(30.415649...      2801996   \n",
       "1  2501 W PARMER LN\\nAUSTIN, TX 78758\\n(30.418236...     10385802   \n",
       "2  12407 N MOPAC EXPY\\nAUSTIN, TX 78758\\n(30.4174...      2802274   \n",
       "3  1921 CEDAR BEND DR\\nAUSTIN, TX 78758\\n(30.4083...     10964220   \n",
       "4  9100 BURNET RD\\nAUSTIN, TX 78758\\n(30.37479048...     10778546   \n",
       "5  12410 N LAMAR BLVD\\nAUSTIN, TX 78758\\n(30.4066...      2803821   \n",
       "6  2500 MC HALE CT\\nAUSTIN, TX 78758\\n(30.3851472...     10771103   \n",
       "7  11506 CENTURY OAKS TER\\nAUSTIN, TX 78758\\n(30....     10006802   \n",
       "8  1925 RUTLAND DR\\nAUSTIN, TX 78758\\n(30.3788756...      2800815   \n",
       "9  1910 W BRAKER LN\\nAUSTIN, TX 78758\\n(30.392307...     10091620   \n",
       "\n",
       "  Process_Description                       string_id  Med_Income  Population  \\\n",
       "0  Routine Inspection        mr. gatti's #118_2801996       42398       42977   \n",
       "1  Routine Inspection                 subway_10385802       42398       42977   \n",
       "2  Routine Inspection          baskin robbins_2802274       42398       42977   \n",
       "3  Routine Inspection             jr's tacos_10964220       42398       42977   \n",
       "4  Routine Inspection            econo lodge_10778546       42398       42977   \n",
       "5  Routine Inspection       shahi food market_2803821       42398       42977   \n",
       "6  Routine Inspection               k1 speed_10771103       42398       42977   \n",
       "7  Routine Inspection               jasper's_10006802       42398       42977   \n",
       "8  Routine Inspection  papa john's pizza #930_2800815       42398       42977   \n",
       "9  Routine Inspection          subway #43067_10091620       42398       42977   \n",
       "\n",
       "   Home_Ownership                          Coordinates   Latitude  Longitude  \\\n",
       "0           0.309  30.4156492668216, -97.6975693977174  30.415649 -97.697569   \n",
       "1           0.309  30.4182363972979, -97.7022420545932  30.418236 -97.702242   \n",
       "2           0.309  30.4174621728585, -97.7028442208035  30.417462 -97.702844   \n",
       "3           0.309   30.408322328997, -97.6982433226702  30.408322 -97.698243   \n",
       "4           0.309  30.3747904817031, -97.7264170496741  30.374790 -97.726417   \n",
       "5           0.309  30.4066900253572, -97.6788692603716  30.406690 -97.678869   \n",
       "6           0.309  30.3851472596582, -97.7212246080011  30.385147 -97.721225   \n",
       "7           0.309  30.4025739974381, -97.7258935626451  30.402574 -97.725894   \n",
       "8           0.309  30.3788756448479, -97.7130952607857  30.378876 -97.713095   \n",
       "9           0.309  30.3923075644652, -97.7066994048772  30.392308 -97.706699   \n",
       "\n",
       "                   Street    City                                   Geocode  \n",
       "0        2121 W PARMER LN  AUSTIN        2121 W PARMER LN, AUSTIN, TX 78758  \n",
       "1        2501 W PARMER LN  AUSTIN        2501 W PARMER LN, AUSTIN, TX 78758  \n",
       "2      12407 N MOPAC EXPY  AUSTIN      12407 N MOPAC EXPY, AUSTIN, TX 78758  \n",
       "3      1921 CEDAR BEND DR  AUSTIN      1921 CEDAR BEND DR, AUSTIN, TX 78758  \n",
       "4          9100 BURNET RD  AUSTIN          9100 BURNET RD, AUSTIN, TX 78758  \n",
       "5      12410 N LAMAR BLVD  AUSTIN      12410 N LAMAR BLVD, AUSTIN, TX 78758  \n",
       "6         2500 MC HALE CT  AUSTIN         2500 MC HALE CT, AUSTIN, TX 78758  \n",
       "7  11506 CENTURY OAKS TER  AUSTIN  11506 CENTURY OAKS TER, AUSTIN, TX 78758  \n",
       "8         1925 RUTLAND DR  AUSTIN         1925 RUTLAND DR, AUSTIN, TX 78758  \n",
       "9        1910 W BRAKER LN  AUSTIN        1910 W BRAKER LN, AUSTIN, TX 78758  "
      ]
     },
     "execution_count": 53,
     "metadata": {},
     "output_type": "execute_result"
    }
   ],
   "source": [
    "merged.head(10)"
   ]
  },
  {
   "cell_type": "code",
   "execution_count": 55,
   "metadata": {
    "collapsed": false
   },
   "outputs": [
    {
     "data": {
      "text/plain": [
       "array(['Routine Inspection', '1st Follow Up to Routine of 50 - 69',\n",
       "       '2nd Follow Up to 50 - 69', '1st Follow Up to Routine of 49 or less'], dtype=object)"
      ]
     },
     "execution_count": 55,
     "metadata": {},
     "output_type": "execute_result"
    }
   ],
   "source": [
    "# How many kinds of inspections are there?\n",
    "\n",
    "pd.unique(merged['Process_Description'].ravel())"
   ]
  },
  {
   "cell_type": "code",
   "execution_count": 56,
   "metadata": {
    "collapsed": false
   },
   "outputs": [],
   "source": [
    "# Delete all columns we don't need anymore:\n",
    "\n",
    "del merged['Address']\n",
    "del merged['Coordinates']\n",
    "del merged['string_id']\n"
   ]
  },
  {
   "cell_type": "code",
   "execution_count": 57,
   "metadata": {
    "collapsed": false
   },
   "outputs": [
    {
     "data": {
      "text/html": [
       "<div>\n",
       "<table border=\"1\" class=\"dataframe\">\n",
       "  <thead>\n",
       "    <tr style=\"text-align: right;\">\n",
       "      <th></th>\n",
       "      <th>Facility_ID</th>\n",
       "      <th>Restaurant_Name</th>\n",
       "      <th>Inspection_Date</th>\n",
       "      <th>Process_Description</th>\n",
       "      <th>Geocode</th>\n",
       "      <th>Street</th>\n",
       "      <th>City</th>\n",
       "      <th>Zip_Code</th>\n",
       "      <th>Score</th>\n",
       "      <th>Med_Income</th>\n",
       "      <th>Population</th>\n",
       "      <th>Home_Ownership</th>\n",
       "      <th>Latitude</th>\n",
       "      <th>Longitude</th>\n",
       "    </tr>\n",
       "  </thead>\n",
       "  <tbody>\n",
       "    <tr>\n",
       "      <th>0</th>\n",
       "      <td>2801996</td>\n",
       "      <td>Mr. Gatti's #118</td>\n",
       "      <td>2015-12-23</td>\n",
       "      <td>Routine Inspection</td>\n",
       "      <td>2121 W PARMER LN, AUSTIN, TX 78758</td>\n",
       "      <td>2121 W PARMER LN</td>\n",
       "      <td>AUSTIN</td>\n",
       "      <td>78758</td>\n",
       "      <td>94</td>\n",
       "      <td>42398</td>\n",
       "      <td>42977</td>\n",
       "      <td>0.309</td>\n",
       "      <td>30.415649</td>\n",
       "      <td>-97.697569</td>\n",
       "    </tr>\n",
       "    <tr>\n",
       "      <th>1</th>\n",
       "      <td>10385802</td>\n",
       "      <td>Subway</td>\n",
       "      <td>2015-12-23</td>\n",
       "      <td>Routine Inspection</td>\n",
       "      <td>2501 W PARMER LN, AUSTIN, TX 78758</td>\n",
       "      <td>2501 W PARMER LN</td>\n",
       "      <td>AUSTIN</td>\n",
       "      <td>78758</td>\n",
       "      <td>98</td>\n",
       "      <td>42398</td>\n",
       "      <td>42977</td>\n",
       "      <td>0.309</td>\n",
       "      <td>30.418236</td>\n",
       "      <td>-97.702242</td>\n",
       "    </tr>\n",
       "    <tr>\n",
       "      <th>2</th>\n",
       "      <td>2802274</td>\n",
       "      <td>Baskin Robbins</td>\n",
       "      <td>2015-12-23</td>\n",
       "      <td>Routine Inspection</td>\n",
       "      <td>12407 N MOPAC EXPY, AUSTIN, TX 78758</td>\n",
       "      <td>12407 N MOPAC EXPY</td>\n",
       "      <td>AUSTIN</td>\n",
       "      <td>78758</td>\n",
       "      <td>99</td>\n",
       "      <td>42398</td>\n",
       "      <td>42977</td>\n",
       "      <td>0.309</td>\n",
       "      <td>30.417462</td>\n",
       "      <td>-97.702844</td>\n",
       "    </tr>\n",
       "  </tbody>\n",
       "</table>\n",
       "</div>"
      ],
      "text/plain": [
       "   Facility_ID   Restaurant_Name Inspection_Date Process_Description  \\\n",
       "0      2801996  Mr. Gatti's #118      2015-12-23  Routine Inspection   \n",
       "1     10385802            Subway      2015-12-23  Routine Inspection   \n",
       "2      2802274    Baskin Robbins      2015-12-23  Routine Inspection   \n",
       "\n",
       "                                Geocode              Street    City  Zip_Code  \\\n",
       "0    2121 W PARMER LN, AUSTIN, TX 78758    2121 W PARMER LN  AUSTIN     78758   \n",
       "1    2501 W PARMER LN, AUSTIN, TX 78758    2501 W PARMER LN  AUSTIN     78758   \n",
       "2  12407 N MOPAC EXPY, AUSTIN, TX 78758  12407 N MOPAC EXPY  AUSTIN     78758   \n",
       "\n",
       "   Score  Med_Income  Population  Home_Ownership   Latitude  Longitude  \n",
       "0     94       42398       42977           0.309  30.415649 -97.697569  \n",
       "1     98       42398       42977           0.309  30.418236 -97.702242  \n",
       "2     99       42398       42977           0.309  30.417462 -97.702844  "
      ]
     },
     "execution_count": 57,
     "metadata": {},
     "output_type": "execute_result"
    }
   ],
   "source": [
    "# Rearrange remaining columns in a nice way:\n",
    "\n",
    "merged = merged[['Facility_ID', 'Restaurant_Name', 'Inspection_Date',\\\n",
    "                 'Process_Description', 'Geocode', 'Street', 'City', 'Zip_Code', \\\n",
    "                 'Score', 'Med_Income', 'Population', 'Home_Ownership', 'Latitude', 'Longitude']]\n",
    "\n",
    "merged.head(3)"
   ]
  },
  {
   "cell_type": "code",
   "execution_count": 59,
   "metadata": {
    "collapsed": false
   },
   "outputs": [
    {
     "data": {
      "text/plain": [
       "16113"
      ]
     },
     "execution_count": 59,
     "metadata": {},
     "output_type": "execute_result"
    }
   ],
   "source": [
    "# We have 16113 rows with neat addresses which we will use for mapping\n",
    "\n",
    "len(merged['Geocode'])"
   ]
  },
  {
   "cell_type": "markdown",
   "metadata": {},
   "source": [
    "Finally, the interesting visualization I promised. Even though this will be studied in more detail in the next \"chapter\" of this project, supervised learning, I was wondering whether there is any stark correlation between a restaurant's health inspection score (*response*) and each one of the numerics columns I have added to our data: Median Income, Population and Home Ownership percentage (*features*) "
   ]
  },
  {
   "cell_type": "code",
   "execution_count": 60,
   "metadata": {
    "collapsed": false
   },
   "outputs": [
    {
     "data": {
      "image/png": "[encoded data removed]",
      "text/plain": [
       "<matplotlib.figure.Figure at 0x112ca5bd0>"
      ]
     },
     "metadata": {},
     "output_type": "display_data"
    }
   ],
   "source": [
    "# Visualize the relationship between the features and the response using scatterplots\n",
    "\n",
    "fig, axs = plt.subplots(1, 3, sharey=True)\n",
    "\n",
    "merged.plot(kind='scatter', x='Med_Income', y='Score', ax=axs[0], figsize=(16, 8));\n",
    "merged.plot(kind='scatter', x='Population', y='Score', ax=axs[1]);\n",
    "merged.plot(kind='scatter', x='Home_Ownership', y='Score', ax=axs[2]);\n",
    "\n"
   ]
  },
  {
   "cell_type": "markdown",
   "metadata": {},
   "source": [
    "At first sight the data looks scattered all over the place for all three plots, and there's possibly no correlation between any of the pairs. However there are some interesting remarks one could make:\n",
    "\n",
    "- As we have already seen, the vast majority of restaurants scores over 70 (passing grade)\n",
    "- In areas (Zip Codes) where the median income is relatively lower, it is more probable that there will be restaurants doing worse than average. Notice that when the median income is higher than \\$120,000, there is not a single restaurant failing the inspection. However this might just be a random fluctuation of our data, since there are a few failing restaurants in areas where the median income lies between \\$80,000 and \\$120,000\n",
    "- Population really doesn't seem to play any role; There is a more or less even distribution of health inspection grades irrespective of the Zip Code's population: both the sparsely and the densely populated areas of town have their share of passing and failing restaurants.\n",
    "- The scatterplot of restaurant health inspection scores vs. percentage of home ownership looks very similar to the one of scores vs median income. We can easily check whether the two quantities are correlated, which we intuitively expect. "
   ]
  },
  {
   "cell_type": "markdown",
   "metadata": {},
   "source": [
    "### Next: Supervised Learning - Regression Analysis"
   ]
  },
  {
   "cell_type": "markdown",
   "metadata": {},
   "source": [
    "Let us save our working DataFrame as a csv file so we can import it into the next Notebook."
   ]
  },
  {
   "cell_type": "code",
   "execution_count": 61,
   "metadata": {
    "collapsed": true
   },
   "outputs": [],
   "source": [
    "merged.to_csv('master.csv', index=False)"
   ]
  },
  {
   "cell_type": "markdown",
   "metadata": {},
   "source": [
    "We are also going to take a slight detour to the Jupyter Notebook **1a. Mapping Austin Restaurant Scores** where we are going to get our feet wet with geocoding and mapping. Therefore we will need the DataFrame we have been working on so far to be portable to a different notebook."
   ]
  }
 ],
 "metadata": {
  "kernelspec": {
   "display_name": "Python 2",
   "language": "python",
   "name": "python2"
  },
  "language_info": {
   "codemirror_mode": {
    "name": "ipython",
    "version": 2
   },
   "file_extension": ".py",
   "mimetype": "text/x-python",
   "name": "python",
   "nbconvert_exporter": "python",
   "pygments_lexer": "ipython2",
   "version": "2.7.11"
  }
 },
 "nbformat": 4,
 "nbformat_minor": 0
}
