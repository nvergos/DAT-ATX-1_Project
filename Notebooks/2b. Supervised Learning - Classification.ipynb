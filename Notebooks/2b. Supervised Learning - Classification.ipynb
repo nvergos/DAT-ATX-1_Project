{
 "cells": [
  {
   "cell_type": "markdown",
   "metadata": {},
   "source": [
    "# DAT-ATX-1 Capstone Project"
   ]
  },
  {
   "cell_type": "markdown",
   "metadata": {},
   "source": [
    "#### Nikolaos Vergos, February 2016\n",
    "<nvergos@gmail.com>"
   ]
  },
  {
   "cell_type": "markdown",
   "metadata": {},
   "source": [
    "## 2b. Supervised Learning: Classification"
   ]
  },
  {
   "cell_type": "markdown",
   "metadata": {},
   "source": [
    "### 0. Import libraries & packages"
   ]
  },
  {
   "cell_type": "code",
   "execution_count": 1,
   "metadata": {
    "collapsed": true
   },
   "outputs": [],
   "source": [
    "import warnings\n",
    "warnings.filterwarnings('ignore')"
   ]
  },
  {
   "cell_type": "code",
   "execution_count": 2,
   "metadata": {
    "collapsed": true
   },
   "outputs": [],
   "source": [
    "import pandas as pd\n",
    "import numpy as np\n",
    "import matplotlib.pyplot as plt\n",
    "import seaborn as sns\n",
    "%matplotlib inline"
   ]
  },
  {
   "cell_type": "markdown",
   "metadata": {},
   "source": [
    "### 1. Import dataset"
   ]
  },
  {
   "cell_type": "code",
   "execution_count": 3,
   "metadata": {
    "collapsed": false
   },
   "outputs": [
    {
     "data": {
      "text/html": [
       "<div>\n",
       "<table border=\"1\" class=\"dataframe\">\n",
       "  <thead>\n",
       "    <tr style=\"text-align: right;\">\n",
       "      <th></th>\n",
       "      <th>Facility_ID</th>\n",
       "      <th>Restaurant_Name</th>\n",
       "      <th>Inspection_Date</th>\n",
       "      <th>Process_Description</th>\n",
       "      <th>Geocode</th>\n",
       "      <th>Street</th>\n",
       "      <th>City</th>\n",
       "      <th>Zip_Code</th>\n",
       "      <th>Score</th>\n",
       "      <th>Med_Income</th>\n",
       "      <th>Population</th>\n",
       "      <th>Home_Ownership</th>\n",
       "      <th>Latitude</th>\n",
       "      <th>Longitude</th>\n",
       "    </tr>\n",
       "  </thead>\n",
       "  <tbody>\n",
       "    <tr>\n",
       "      <th>0</th>\n",
       "      <td>2801996</td>\n",
       "      <td>Mr. Gatti's #118</td>\n",
       "      <td>2015-12-23</td>\n",
       "      <td>Routine Inspection</td>\n",
       "      <td>2121 W PARMER LN, AUSTIN, TX 78758</td>\n",
       "      <td>2121 W PARMER LN</td>\n",
       "      <td>AUSTIN</td>\n",
       "      <td>78758</td>\n",
       "      <td>94</td>\n",
       "      <td>42398</td>\n",
       "      <td>42977</td>\n",
       "      <td>0.309</td>\n",
       "      <td>30.415649</td>\n",
       "      <td>-97.697569</td>\n",
       "    </tr>\n",
       "    <tr>\n",
       "      <th>1</th>\n",
       "      <td>10385802</td>\n",
       "      <td>Subway</td>\n",
       "      <td>2015-12-23</td>\n",
       "      <td>Routine Inspection</td>\n",
       "      <td>2501 W PARMER LN, AUSTIN, TX 78758</td>\n",
       "      <td>2501 W PARMER LN</td>\n",
       "      <td>AUSTIN</td>\n",
       "      <td>78758</td>\n",
       "      <td>98</td>\n",
       "      <td>42398</td>\n",
       "      <td>42977</td>\n",
       "      <td>0.309</td>\n",
       "      <td>30.418236</td>\n",
       "      <td>-97.702242</td>\n",
       "    </tr>\n",
       "    <tr>\n",
       "      <th>2</th>\n",
       "      <td>2802274</td>\n",
       "      <td>Baskin Robbins</td>\n",
       "      <td>2015-12-23</td>\n",
       "      <td>Routine Inspection</td>\n",
       "      <td>12407 N MOPAC EXPY, AUSTIN, TX 78758</td>\n",
       "      <td>12407 N MOPAC EXPY</td>\n",
       "      <td>AUSTIN</td>\n",
       "      <td>78758</td>\n",
       "      <td>99</td>\n",
       "      <td>42398</td>\n",
       "      <td>42977</td>\n",
       "      <td>0.309</td>\n",
       "      <td>30.417462</td>\n",
       "      <td>-97.702844</td>\n",
       "    </tr>\n",
       "    <tr>\n",
       "      <th>3</th>\n",
       "      <td>10964220</td>\n",
       "      <td>JR's Tacos</td>\n",
       "      <td>2015-12-22</td>\n",
       "      <td>Routine Inspection</td>\n",
       "      <td>1921 CEDAR BEND DR, AUSTIN, TX 78758</td>\n",
       "      <td>1921 CEDAR BEND DR</td>\n",
       "      <td>AUSTIN</td>\n",
       "      <td>78758</td>\n",
       "      <td>91</td>\n",
       "      <td>42398</td>\n",
       "      <td>42977</td>\n",
       "      <td>0.309</td>\n",
       "      <td>30.408322</td>\n",
       "      <td>-97.698243</td>\n",
       "    </tr>\n",
       "    <tr>\n",
       "      <th>4</th>\n",
       "      <td>10778546</td>\n",
       "      <td>Econo Lodge</td>\n",
       "      <td>2015-12-22</td>\n",
       "      <td>Routine Inspection</td>\n",
       "      <td>9100 BURNET RD, AUSTIN, TX 78758</td>\n",
       "      <td>9100 BURNET RD</td>\n",
       "      <td>AUSTIN</td>\n",
       "      <td>78758</td>\n",
       "      <td>91</td>\n",
       "      <td>42398</td>\n",
       "      <td>42977</td>\n",
       "      <td>0.309</td>\n",
       "      <td>30.374790</td>\n",
       "      <td>-97.726417</td>\n",
       "    </tr>\n",
       "  </tbody>\n",
       "</table>\n",
       "</div>"
      ],
      "text/plain": [
       "   Facility_ID   Restaurant_Name Inspection_Date Process_Description  \\\n",
       "0      2801996  Mr. Gatti's #118      2015-12-23  Routine Inspection   \n",
       "1     10385802            Subway      2015-12-23  Routine Inspection   \n",
       "2      2802274    Baskin Robbins      2015-12-23  Routine Inspection   \n",
       "3     10964220        JR's Tacos      2015-12-22  Routine Inspection   \n",
       "4     10778546       Econo Lodge      2015-12-22  Routine Inspection   \n",
       "\n",
       "                                Geocode              Street    City  Zip_Code  \\\n",
       "0    2121 W PARMER LN, AUSTIN, TX 78758    2121 W PARMER LN  AUSTIN     78758   \n",
       "1    2501 W PARMER LN, AUSTIN, TX 78758    2501 W PARMER LN  AUSTIN     78758   \n",
       "2  12407 N MOPAC EXPY, AUSTIN, TX 78758  12407 N MOPAC EXPY  AUSTIN     78758   \n",
       "3  1921 CEDAR BEND DR, AUSTIN, TX 78758  1921 CEDAR BEND DR  AUSTIN     78758   \n",
       "4      9100 BURNET RD, AUSTIN, TX 78758      9100 BURNET RD  AUSTIN     78758   \n",
       "\n",
       "   Score  Med_Income  Population  Home_Ownership   Latitude  Longitude  \n",
       "0     94       42398       42977           0.309  30.415649 -97.697569  \n",
       "1     98       42398       42977           0.309  30.418236 -97.702242  \n",
       "2     99       42398       42977           0.309  30.417462 -97.702844  \n",
       "3     91       42398       42977           0.309  30.408322 -97.698243  \n",
       "4     91       42398       42977           0.309  30.374790 -97.726417  "
      ]
     },
     "execution_count": 3,
     "metadata": {},
     "output_type": "execute_result"
    }
   ],
   "source": [
    "#Reading the dataset in a dataframe using Pandas\n",
    "df = pd.read_csv(\"../data/master.csv\")  \n",
    "\n",
    "#Print first observations\n",
    "df.head() "
   ]
  },
  {
   "cell_type": "markdown",
   "metadata": {},
   "source": [
    "Throughout the Machine Learning part of this project we will be using **scikit-learn**, an open source machine learning library for the Python programming language."
   ]
  },
  {
   "cell_type": "markdown",
   "metadata": {},
   "source": [
    "Recall our arbitrary division of the city into 5 \"Areas\" spanning 36 Zip Codes: Central, SE, NE, SW, NW"
   ]
  },
  {
   "cell_type": "code",
   "execution_count": 4,
   "metadata": {
    "collapsed": false
   },
   "outputs": [
    {
     "data": {
      "text/plain": [
       "36"
      ]
     },
     "execution_count": 4,
     "metadata": {},
     "output_type": "execute_result"
    }
   ],
   "source": [
    "# Focus on the main part of the city\n",
    "\n",
    "SE_zip = (78744, 78747, 78719, 78741)\n",
    "Central_zip = (78701, 78702, 78703, 78705, 78721, 78723, 78712, 78751, 78756)\n",
    "NE_zip = (78752, 78753, 78754)\n",
    "NW_zip = (78757, 78758, 78727, 78722, 78729, 78717, 78750, 78759, 78726, 78730, 78731, 78732)\n",
    "SW_zip = (78704, 78745, 78748, 78739, 78749, 78735, 78733, 78746)\n",
    "\n",
    "ACL_zip = SE_zip + Central_zip + NE_zip + NW_zip + SW_zip\n",
    "len(ACL_zip)"
   ]
  },
  {
   "cell_type": "markdown",
   "metadata": {},
   "source": [
    "We won't need the numerical data here, so let's delete those columns to declutter the Notebook:"
   ]
  },
  {
   "cell_type": "code",
   "execution_count": 5,
   "metadata": {
    "collapsed": true
   },
   "outputs": [],
   "source": [
    "del df['Population']\n",
    "del df['Med_Income']\n",
    "del df['Home_Ownership']"
   ]
  },
  {
   "cell_type": "markdown",
   "metadata": {},
   "source": [
    "Let us prepare our DataFrame for Binary Classification models by assigning those Areas, Letter Grades and Pass/Fail according to a restaurant's score (as discussed in the README file) as well as encoding dummy variables:"
   ]
  },
  {
   "cell_type": "code",
   "execution_count": 6,
   "metadata": {
    "collapsed": false
   },
   "outputs": [],
   "source": [
    "# City areas\n",
    "\n",
    "# Assign Area to each Restaurant, given its Zip Code\n",
    "\n",
    "mask_SE = df.Zip_Code.isin(SE_zip)\n",
    "mask_Central = df.Zip_Code.isin(Central_zip)\n",
    "mask_NE = df.Zip_Code.isin(NE_zip)\n",
    "mask_NW = df.Zip_Code.isin(NW_zip)\n",
    "mask_SW = df.Zip_Code.isin(SW_zip)\n",
    "\n",
    "df['Area'] = 'Austin'\n",
    "df.loc[mask_SE, 'Area'] = 'SE Austin'\n",
    "df.loc[mask_Central, 'Area'] = 'Central Austin'\n",
    "df.loc[mask_NE, 'Area'] = 'NE Austin'\n",
    "df.loc[mask_NW, 'Area'] = 'NW Austin'\n",
    "df.loc[mask_SW, 'Area'] = 'SW Austin'"
   ]
  },
  {
   "cell_type": "code",
   "execution_count": 7,
   "metadata": {
    "collapsed": true
   },
   "outputs": [],
   "source": [
    "# Assign Pass/Fail status and Letter Grades to each Restaurant\n",
    "\n",
    "df['Status'] = 'Fail'\n",
    "df['Letter_Grade'] = 'F'\n",
    "\n",
    "mask_pass = df['Score'] >= 70\n",
    "\n",
    "mask_A = df['Score'] >= 90\n",
    "mask_B = (df['Score'] >= 80) & (df['Score'] < 90)\n",
    "mask_C = (df['Score'] >= 70) & (df['Score'] < 80)\n",
    "\n",
    "df.loc[mask_pass, 'Status'] = 'Pass'\n",
    "\n",
    "df.loc[mask_A, 'Letter_Grade'] = 'A'\n",
    "df.loc[mask_B, 'Letter_Grade'] = 'B'\n",
    "df.loc[mask_C, 'Letter_Grade'] = 'C'"
   ]
  },
  {
   "cell_type": "code",
   "execution_count": 8,
   "metadata": {
    "collapsed": false
   },
   "outputs": [
    {
     "data": {
      "text/html": [
       "<div>\n",
       "<table border=\"1\" class=\"dataframe\">\n",
       "  <thead>\n",
       "    <tr style=\"text-align: right;\">\n",
       "      <th></th>\n",
       "      <th>Facility_ID</th>\n",
       "      <th>Restaurant_Name</th>\n",
       "      <th>Inspection_Date</th>\n",
       "      <th>Process_Description</th>\n",
       "      <th>Geocode</th>\n",
       "      <th>Street</th>\n",
       "      <th>City</th>\n",
       "      <th>Zip_Code</th>\n",
       "      <th>Score</th>\n",
       "      <th>Latitude</th>\n",
       "      <th>Longitude</th>\n",
       "      <th>Area</th>\n",
       "      <th>Status</th>\n",
       "      <th>Letter_Grade</th>\n",
       "    </tr>\n",
       "  </thead>\n",
       "  <tbody>\n",
       "    <tr>\n",
       "      <th>0</th>\n",
       "      <td>2801996</td>\n",
       "      <td>Mr. Gatti's #118</td>\n",
       "      <td>2015-12-23</td>\n",
       "      <td>Routine Inspection</td>\n",
       "      <td>2121 W PARMER LN, AUSTIN, TX 78758</td>\n",
       "      <td>2121 W PARMER LN</td>\n",
       "      <td>AUSTIN</td>\n",
       "      <td>78758</td>\n",
       "      <td>94</td>\n",
       "      <td>30.415649</td>\n",
       "      <td>-97.697569</td>\n",
       "      <td>NW Austin</td>\n",
       "      <td>Pass</td>\n",
       "      <td>A</td>\n",
       "    </tr>\n",
       "    <tr>\n",
       "      <th>1</th>\n",
       "      <td>10385802</td>\n",
       "      <td>Subway</td>\n",
       "      <td>2015-12-23</td>\n",
       "      <td>Routine Inspection</td>\n",
       "      <td>2501 W PARMER LN, AUSTIN, TX 78758</td>\n",
       "      <td>2501 W PARMER LN</td>\n",
       "      <td>AUSTIN</td>\n",
       "      <td>78758</td>\n",
       "      <td>98</td>\n",
       "      <td>30.418236</td>\n",
       "      <td>-97.702242</td>\n",
       "      <td>NW Austin</td>\n",
       "      <td>Pass</td>\n",
       "      <td>A</td>\n",
       "    </tr>\n",
       "    <tr>\n",
       "      <th>2</th>\n",
       "      <td>2802274</td>\n",
       "      <td>Baskin Robbins</td>\n",
       "      <td>2015-12-23</td>\n",
       "      <td>Routine Inspection</td>\n",
       "      <td>12407 N MOPAC EXPY, AUSTIN, TX 78758</td>\n",
       "      <td>12407 N MOPAC EXPY</td>\n",
       "      <td>AUSTIN</td>\n",
       "      <td>78758</td>\n",
       "      <td>99</td>\n",
       "      <td>30.417462</td>\n",
       "      <td>-97.702844</td>\n",
       "      <td>NW Austin</td>\n",
       "      <td>Pass</td>\n",
       "      <td>A</td>\n",
       "    </tr>\n",
       "  </tbody>\n",
       "</table>\n",
       "</div>"
      ],
      "text/plain": [
       "   Facility_ID   Restaurant_Name Inspection_Date Process_Description  \\\n",
       "0      2801996  Mr. Gatti's #118      2015-12-23  Routine Inspection   \n",
       "1     10385802            Subway      2015-12-23  Routine Inspection   \n",
       "2      2802274    Baskin Robbins      2015-12-23  Routine Inspection   \n",
       "\n",
       "                                Geocode              Street    City  Zip_Code  \\\n",
       "0    2121 W PARMER LN, AUSTIN, TX 78758    2121 W PARMER LN  AUSTIN     78758   \n",
       "1    2501 W PARMER LN, AUSTIN, TX 78758    2501 W PARMER LN  AUSTIN     78758   \n",
       "2  12407 N MOPAC EXPY, AUSTIN, TX 78758  12407 N MOPAC EXPY  AUSTIN     78758   \n",
       "\n",
       "   Score   Latitude  Longitude       Area Status Letter_Grade  \n",
       "0     94  30.415649 -97.697569  NW Austin   Pass            A  \n",
       "1     98  30.418236 -97.702242  NW Austin   Pass            A  \n",
       "2     99  30.417462 -97.702844  NW Austin   Pass            A  "
      ]
     },
     "execution_count": 8,
     "metadata": {},
     "output_type": "execute_result"
    }
   ],
   "source": [
    "df.head(3)"
   ]
  },
  {
   "cell_type": "code",
   "execution_count": 9,
   "metadata": {
    "collapsed": true
   },
   "outputs": [],
   "source": [
    "# Assign Dummy Variables for Binary Classifiers\n",
    "\n",
    "# create five dummy variables using get_dummies, then exclude the first dummy column\n",
    "# Note that the Area_Central variable is redundant\n",
    "\n",
    "area_dummies = pd.get_dummies(df.Area, prefix='Area').iloc[:, 1:]\n",
    "\n",
    "# create two dummy variables using get_dummies, then exclude the first dummy column\n",
    "# Note that the Outcome_Fail variable is redundant\n",
    "\n",
    "outcome_dummies = pd.get_dummies(df.Status, prefix='Status').iloc[:, 1:]\n",
    "\n",
    "# create four dummy variables using get_dummies, then exclude the first dummy column\n",
    "# Note that the Grade_A variable is redundant\n",
    "\n",
    "letter_dummies = pd.get_dummies(df.Letter_Grade, prefix='Grade').iloc[:, 1:]"
   ]
  },
  {
   "cell_type": "markdown",
   "metadata": {},
   "source": [
    "Let us check those DataFrames before we merge them into df:"
   ]
  },
  {
   "cell_type": "code",
   "execution_count": 10,
   "metadata": {
    "collapsed": false
   },
   "outputs": [
    {
     "data": {
      "text/html": [
       "<div>\n",
       "<table border=\"1\" class=\"dataframe\">\n",
       "  <thead>\n",
       "    <tr style=\"text-align: right;\">\n",
       "      <th></th>\n",
       "      <th>Area_NE Austin</th>\n",
       "      <th>Area_NW Austin</th>\n",
       "      <th>Area_SE Austin</th>\n",
       "      <th>Area_SW Austin</th>\n",
       "    </tr>\n",
       "  </thead>\n",
       "  <tbody>\n",
       "    <tr>\n",
       "      <th>0</th>\n",
       "      <td>0</td>\n",
       "      <td>1</td>\n",
       "      <td>0</td>\n",
       "      <td>0</td>\n",
       "    </tr>\n",
       "    <tr>\n",
       "      <th>1</th>\n",
       "      <td>0</td>\n",
       "      <td>1</td>\n",
       "      <td>0</td>\n",
       "      <td>0</td>\n",
       "    </tr>\n",
       "    <tr>\n",
       "      <th>2</th>\n",
       "      <td>0</td>\n",
       "      <td>1</td>\n",
       "      <td>0</td>\n",
       "      <td>0</td>\n",
       "    </tr>\n",
       "    <tr>\n",
       "      <th>3</th>\n",
       "      <td>0</td>\n",
       "      <td>1</td>\n",
       "      <td>0</td>\n",
       "      <td>0</td>\n",
       "    </tr>\n",
       "    <tr>\n",
       "      <th>4</th>\n",
       "      <td>0</td>\n",
       "      <td>1</td>\n",
       "      <td>0</td>\n",
       "      <td>0</td>\n",
       "    </tr>\n",
       "  </tbody>\n",
       "</table>\n",
       "</div>"
      ],
      "text/plain": [
       "   Area_NE Austin  Area_NW Austin  Area_SE Austin  Area_SW Austin\n",
       "0               0               1               0               0\n",
       "1               0               1               0               0\n",
       "2               0               1               0               0\n",
       "3               0               1               0               0\n",
       "4               0               1               0               0"
      ]
     },
     "execution_count": 10,
     "metadata": {},
     "output_type": "execute_result"
    }
   ],
   "source": [
    "area_dummies.head()"
   ]
  },
  {
   "cell_type": "code",
   "execution_count": 11,
   "metadata": {
    "collapsed": false
   },
   "outputs": [
    {
     "data": {
      "text/html": [
       "<div>\n",
       "<table border=\"1\" class=\"dataframe\">\n",
       "  <thead>\n",
       "    <tr style=\"text-align: right;\">\n",
       "      <th></th>\n",
       "      <th>Status_Pass</th>\n",
       "    </tr>\n",
       "  </thead>\n",
       "  <tbody>\n",
       "    <tr>\n",
       "      <th>0</th>\n",
       "      <td>1</td>\n",
       "    </tr>\n",
       "    <tr>\n",
       "      <th>1</th>\n",
       "      <td>1</td>\n",
       "    </tr>\n",
       "    <tr>\n",
       "      <th>2</th>\n",
       "      <td>1</td>\n",
       "    </tr>\n",
       "    <tr>\n",
       "      <th>3</th>\n",
       "      <td>1</td>\n",
       "    </tr>\n",
       "    <tr>\n",
       "      <th>4</th>\n",
       "      <td>1</td>\n",
       "    </tr>\n",
       "  </tbody>\n",
       "</table>\n",
       "</div>"
      ],
      "text/plain": [
       "   Status_Pass\n",
       "0            1\n",
       "1            1\n",
       "2            1\n",
       "3            1\n",
       "4            1"
      ]
     },
     "execution_count": 11,
     "metadata": {},
     "output_type": "execute_result"
    }
   ],
   "source": [
    "outcome_dummies.head()"
   ]
  },
  {
   "cell_type": "code",
   "execution_count": 12,
   "metadata": {
    "collapsed": false
   },
   "outputs": [
    {
     "data": {
      "text/html": [
       "<div>\n",
       "<table border=\"1\" class=\"dataframe\">\n",
       "  <thead>\n",
       "    <tr style=\"text-align: right;\">\n",
       "      <th></th>\n",
       "      <th>Grade_B</th>\n",
       "      <th>Grade_C</th>\n",
       "      <th>Grade_F</th>\n",
       "    </tr>\n",
       "  </thead>\n",
       "  <tbody>\n",
       "    <tr>\n",
       "      <th>0</th>\n",
       "      <td>0</td>\n",
       "      <td>0</td>\n",
       "      <td>0</td>\n",
       "    </tr>\n",
       "    <tr>\n",
       "      <th>1</th>\n",
       "      <td>0</td>\n",
       "      <td>0</td>\n",
       "      <td>0</td>\n",
       "    </tr>\n",
       "    <tr>\n",
       "      <th>2</th>\n",
       "      <td>0</td>\n",
       "      <td>0</td>\n",
       "      <td>0</td>\n",
       "    </tr>\n",
       "    <tr>\n",
       "      <th>3</th>\n",
       "      <td>0</td>\n",
       "      <td>0</td>\n",
       "      <td>0</td>\n",
       "    </tr>\n",
       "    <tr>\n",
       "      <th>4</th>\n",
       "      <td>0</td>\n",
       "      <td>0</td>\n",
       "      <td>0</td>\n",
       "    </tr>\n",
       "  </tbody>\n",
       "</table>\n",
       "</div>"
      ],
      "text/plain": [
       "   Grade_B  Grade_C  Grade_F\n",
       "0        0        0        0\n",
       "1        0        0        0\n",
       "2        0        0        0\n",
       "3        0        0        0\n",
       "4        0        0        0"
      ]
     },
     "execution_count": 12,
     "metadata": {},
     "output_type": "execute_result"
    }
   ],
   "source": [
    "letter_dummies.head()"
   ]
  },
  {
   "cell_type": "markdown",
   "metadata": {},
   "source": [
    "Let us now concatenate those created DataFrames, keeping a copy of the original DataFrame just in case:"
   ]
  },
  {
   "cell_type": "code",
   "execution_count": 13,
   "metadata": {
    "collapsed": false
   },
   "outputs": [
    {
     "data": {
      "text/html": [
       "<div>\n",
       "<table border=\"1\" class=\"dataframe\">\n",
       "  <thead>\n",
       "    <tr style=\"text-align: right;\">\n",
       "      <th></th>\n",
       "      <th>Facility_ID</th>\n",
       "      <th>Restaurant_Name</th>\n",
       "      <th>Inspection_Date</th>\n",
       "      <th>Process_Description</th>\n",
       "      <th>Geocode</th>\n",
       "      <th>Street</th>\n",
       "      <th>City</th>\n",
       "      <th>Zip_Code</th>\n",
       "      <th>Score</th>\n",
       "      <th>Latitude</th>\n",
       "      <th>...</th>\n",
       "      <th>Status</th>\n",
       "      <th>Letter_Grade</th>\n",
       "      <th>Area_NE Austin</th>\n",
       "      <th>Area_NW Austin</th>\n",
       "      <th>Area_SE Austin</th>\n",
       "      <th>Area_SW Austin</th>\n",
       "      <th>Status_Pass</th>\n",
       "      <th>Grade_B</th>\n",
       "      <th>Grade_C</th>\n",
       "      <th>Grade_F</th>\n",
       "    </tr>\n",
       "  </thead>\n",
       "  <tbody>\n",
       "    <tr>\n",
       "      <th>0</th>\n",
       "      <td>2801996</td>\n",
       "      <td>Mr. Gatti's #118</td>\n",
       "      <td>2015-12-23</td>\n",
       "      <td>Routine Inspection</td>\n",
       "      <td>2121 W PARMER LN, AUSTIN, TX 78758</td>\n",
       "      <td>2121 W PARMER LN</td>\n",
       "      <td>AUSTIN</td>\n",
       "      <td>78758</td>\n",
       "      <td>94</td>\n",
       "      <td>30.415649</td>\n",
       "      <td>...</td>\n",
       "      <td>Pass</td>\n",
       "      <td>A</td>\n",
       "      <td>0</td>\n",
       "      <td>1</td>\n",
       "      <td>0</td>\n",
       "      <td>0</td>\n",
       "      <td>1</td>\n",
       "      <td>0</td>\n",
       "      <td>0</td>\n",
       "      <td>0</td>\n",
       "    </tr>\n",
       "    <tr>\n",
       "      <th>1</th>\n",
       "      <td>10385802</td>\n",
       "      <td>Subway</td>\n",
       "      <td>2015-12-23</td>\n",
       "      <td>Routine Inspection</td>\n",
       "      <td>2501 W PARMER LN, AUSTIN, TX 78758</td>\n",
       "      <td>2501 W PARMER LN</td>\n",
       "      <td>AUSTIN</td>\n",
       "      <td>78758</td>\n",
       "      <td>98</td>\n",
       "      <td>30.418236</td>\n",
       "      <td>...</td>\n",
       "      <td>Pass</td>\n",
       "      <td>A</td>\n",
       "      <td>0</td>\n",
       "      <td>1</td>\n",
       "      <td>0</td>\n",
       "      <td>0</td>\n",
       "      <td>1</td>\n",
       "      <td>0</td>\n",
       "      <td>0</td>\n",
       "      <td>0</td>\n",
       "    </tr>\n",
       "    <tr>\n",
       "      <th>2</th>\n",
       "      <td>2802274</td>\n",
       "      <td>Baskin Robbins</td>\n",
       "      <td>2015-12-23</td>\n",
       "      <td>Routine Inspection</td>\n",
       "      <td>12407 N MOPAC EXPY, AUSTIN, TX 78758</td>\n",
       "      <td>12407 N MOPAC EXPY</td>\n",
       "      <td>AUSTIN</td>\n",
       "      <td>78758</td>\n",
       "      <td>99</td>\n",
       "      <td>30.417462</td>\n",
       "      <td>...</td>\n",
       "      <td>Pass</td>\n",
       "      <td>A</td>\n",
       "      <td>0</td>\n",
       "      <td>1</td>\n",
       "      <td>0</td>\n",
       "      <td>0</td>\n",
       "      <td>1</td>\n",
       "      <td>0</td>\n",
       "      <td>0</td>\n",
       "      <td>0</td>\n",
       "    </tr>\n",
       "    <tr>\n",
       "      <th>3</th>\n",
       "      <td>10964220</td>\n",
       "      <td>JR's Tacos</td>\n",
       "      <td>2015-12-22</td>\n",
       "      <td>Routine Inspection</td>\n",
       "      <td>1921 CEDAR BEND DR, AUSTIN, TX 78758</td>\n",
       "      <td>1921 CEDAR BEND DR</td>\n",
       "      <td>AUSTIN</td>\n",
       "      <td>78758</td>\n",
       "      <td>91</td>\n",
       "      <td>30.408322</td>\n",
       "      <td>...</td>\n",
       "      <td>Pass</td>\n",
       "      <td>A</td>\n",
       "      <td>0</td>\n",
       "      <td>1</td>\n",
       "      <td>0</td>\n",
       "      <td>0</td>\n",
       "      <td>1</td>\n",
       "      <td>0</td>\n",
       "      <td>0</td>\n",
       "      <td>0</td>\n",
       "    </tr>\n",
       "    <tr>\n",
       "      <th>4</th>\n",
       "      <td>10778546</td>\n",
       "      <td>Econo Lodge</td>\n",
       "      <td>2015-12-22</td>\n",
       "      <td>Routine Inspection</td>\n",
       "      <td>9100 BURNET RD, AUSTIN, TX 78758</td>\n",
       "      <td>9100 BURNET RD</td>\n",
       "      <td>AUSTIN</td>\n",
       "      <td>78758</td>\n",
       "      <td>91</td>\n",
       "      <td>30.374790</td>\n",
       "      <td>...</td>\n",
       "      <td>Pass</td>\n",
       "      <td>A</td>\n",
       "      <td>0</td>\n",
       "      <td>1</td>\n",
       "      <td>0</td>\n",
       "      <td>0</td>\n",
       "      <td>1</td>\n",
       "      <td>0</td>\n",
       "      <td>0</td>\n",
       "      <td>0</td>\n",
       "    </tr>\n",
       "  </tbody>\n",
       "</table>\n",
       "<p>5 rows × 22 columns</p>\n",
       "</div>"
      ],
      "text/plain": [
       "   Facility_ID   Restaurant_Name Inspection_Date Process_Description  \\\n",
       "0      2801996  Mr. Gatti's #118      2015-12-23  Routine Inspection   \n",
       "1     10385802            Subway      2015-12-23  Routine Inspection   \n",
       "2      2802274    Baskin Robbins      2015-12-23  Routine Inspection   \n",
       "3     10964220        JR's Tacos      2015-12-22  Routine Inspection   \n",
       "4     10778546       Econo Lodge      2015-12-22  Routine Inspection   \n",
       "\n",
       "                                Geocode              Street    City  Zip_Code  \\\n",
       "0    2121 W PARMER LN, AUSTIN, TX 78758    2121 W PARMER LN  AUSTIN     78758   \n",
       "1    2501 W PARMER LN, AUSTIN, TX 78758    2501 W PARMER LN  AUSTIN     78758   \n",
       "2  12407 N MOPAC EXPY, AUSTIN, TX 78758  12407 N MOPAC EXPY  AUSTIN     78758   \n",
       "3  1921 CEDAR BEND DR, AUSTIN, TX 78758  1921 CEDAR BEND DR  AUSTIN     78758   \n",
       "4      9100 BURNET RD, AUSTIN, TX 78758      9100 BURNET RD  AUSTIN     78758   \n",
       "\n",
       "   Score   Latitude   ...     Status Letter_Grade Area_NE Austin  \\\n",
       "0     94  30.415649   ...       Pass            A              0   \n",
       "1     98  30.418236   ...       Pass            A              0   \n",
       "2     99  30.417462   ...       Pass            A              0   \n",
       "3     91  30.408322   ...       Pass            A              0   \n",
       "4     91  30.374790   ...       Pass            A              0   \n",
       "\n",
       "  Area_NW Austin  Area_SE Austin  Area_SW Austin  Status_Pass  Grade_B  \\\n",
       "0              1               0               0            1        0   \n",
       "1              1               0               0            1        0   \n",
       "2              1               0               0            1        0   \n",
       "3              1               0               0            1        0   \n",
       "4              1               0               0            1        0   \n",
       "\n",
       "   Grade_C  Grade_F  \n",
       "0        0        0  \n",
       "1        0        0  \n",
       "2        0        0  \n",
       "3        0        0  \n",
       "4        0        0  \n",
       "\n",
       "[5 rows x 22 columns]"
      ]
     },
     "execution_count": 13,
     "metadata": {},
     "output_type": "execute_result"
    }
   ],
   "source": [
    "# Concatenate\n",
    "\n",
    "# concatenate the dummy variable columns onto the original DataFrame (axis=0 means rows, axis=1 means columns)\n",
    "\n",
    "data = pd.concat([df, area_dummies, outcome_dummies, letter_dummies], axis=1)\n",
    "data.head()"
   ]
  },
  {
   "cell_type": "markdown",
   "metadata": {},
   "source": [
    "With 22 columns, the DataFrame has already become very hard to visualize, therefore we need to be very careful with our operations from now on."
   ]
  },
  {
   "cell_type": "markdown",
   "metadata": {},
   "source": [
    "### Logistic Regression"
   ]
  },
  {
   "cell_type": "markdown",
   "metadata": {},
   "source": [
    "We will at first present an ill-fated approach in order to illustrate the workings of the logistic regression algorithm on our dataset as well as to discuss the evident class imbalance problem and attempt some techniques to mitigate its effects. A naive first approach was to use some of the features in order to predict whether a restaurant will pass the Health Inspection (Score > 69) or not."
   ]
  },
  {
   "cell_type": "markdown",
   "metadata": {},
   "source": [
    "The issue that makes this problem almost impossible to deal with:"
   ]
  },
  {
   "cell_type": "code",
   "execution_count": 14,
   "metadata": {
    "collapsed": false
   },
   "outputs": [],
   "source": [
    "num_pass = data[data[\"Status\"]=='Pass'].count()\n",
    "num_fail = data[data[\"Status\"]=='Fail'].count()"
   ]
  },
  {
   "cell_type": "code",
   "execution_count": 15,
   "metadata": {
    "collapsed": false
   },
   "outputs": [
    {
     "name": "stdout",
     "output_type": "stream",
     "text": [
      "Passing Inspections = 15936\n",
      "Failing Inspections = 177\n"
     ]
    }
   ],
   "source": [
    "print \"Passing Inspections = {0}\".format(num_pass[0])\n",
    "print \"Failing Inspections = {0}\".format(num_fail[0])"
   ]
  },
  {
   "cell_type": "markdown",
   "metadata": {},
   "source": [
    "In a sum of 15936 rows, we have 99% passing restaurants (that have scored 70 or higher) and only 1% failing restaurants (that have scored 69 or lower). This is the **Class Imbalance** problem."
   ]
  },
  {
   "cell_type": "markdown",
   "metadata": {},
   "source": [
    "The approaches for addressing this are:\n",
    "* **Sampling based** : By **oversampling** the minority class, it has more effect on the machine learning algorithm, or by **undersampling** majority class so it has less effect on the machine learning algorithm.\n",
    "* **Cost function based approaches** : Make it more 'costly' for the learning algorithm to make mistakes in the minority class. This is done by tweaking the **cost function**."
   ]
  },
  {
   "cell_type": "markdown",
   "metadata": {},
   "source": [
    "I will try both approaches, starting from the latter: **scikit-learn** *Logistic Regression* model has the attribute *class_weight* that takes the default value *None* but can optionally take the value *balanced*. \n",
    "\n",
    "From the documentation: *\"The “balanced” mode uses the values of y to automatically adjust weights inversely proportional to class frequencies in the input data as n_samples / (n_classes * np.bincount(y))\n",
    "Note that these weights will be multiplied with sample_weight (passed through the fit method) if sample_weight is specified.\"*"
   ]
  },
  {
   "cell_type": "markdown",
   "metadata": {},
   "source": [
    "Let us start by trying to predict whether a restaurant will pass or fail inspection given the part of town (area) it is at:"
   ]
  },
  {
   "cell_type": "code",
   "execution_count": 16,
   "metadata": {
    "collapsed": true
   },
   "outputs": [],
   "source": [
    "from sklearn import linear_model\n",
    "logm = linear_model.LogisticRegression(class_weight='balanced')\n",
    "\n",
    "feature_cols = ['Area_NE Austin', 'Area_NW Austin', 'Area_SE Austin', 'Area_SW Austin']\n",
    "\n",
    "X = data[ feature_cols ].values\n",
    "y = data['Status_Pass'].values"
   ]
  },
  {
   "cell_type": "code",
   "execution_count": 17,
   "metadata": {
    "collapsed": false
   },
   "outputs": [
    {
     "name": "stdout",
     "output_type": "stream",
     "text": [
      "(16113, 4)\n",
      "(16113,)\n"
     ]
    }
   ],
   "source": [
    "# Check the shapes of the X and y vectors:\n",
    "\n",
    "print X.shape\n",
    "print y.shape"
   ]
  },
  {
   "cell_type": "code",
   "execution_count": 18,
   "metadata": {
    "collapsed": false
   },
   "outputs": [
    {
     "data": {
      "text/plain": [
       "LogisticRegression(C=1.0, class_weight='balanced', dual=False,\n",
       "          fit_intercept=True, intercept_scaling=1, max_iter=100,\n",
       "          multi_class='ovr', n_jobs=1, penalty='l2', random_state=None,\n",
       "          solver='liblinear', tol=0.0001, verbose=0, warm_start=False)"
      ]
     },
     "execution_count": 18,
     "metadata": {},
     "output_type": "execute_result"
    }
   ],
   "source": [
    "logm.fit(X,y)"
   ]
  },
  {
   "cell_type": "code",
   "execution_count": 19,
   "metadata": {
    "collapsed": false
   },
   "outputs": [
    {
     "name": "stdout",
     "output_type": "stream",
     "text": [
      "[ 1.  1.  1. ...,  0.  0.  0.]\n",
      "[ 0.  1.]\n",
      "[[ 0.41056793  0.58943207]\n",
      " [ 0.41056793  0.58943207]\n",
      " [ 0.41056793  0.58943207]\n",
      " ..., \n",
      " [ 0.55157616  0.44842384]\n",
      " [ 0.55157616  0.44842384]\n",
      " [ 0.55157616  0.44842384]]\n"
     ]
    }
   ],
   "source": [
    "print logm.predict(X)           # The array of our model's predictions for each area\n",
    "print logm.classes_             # 0: Fail, 1: Pass\n",
    "print logm.predict_proba(X)     # Probabilities for each entry to be assigned a \"Fail\" or a \"Pass\""
   ]
  },
  {
   "cell_type": "code",
   "execution_count": 20,
   "metadata": {
    "collapsed": false
   },
   "outputs": [
    {
     "data": {
      "text/plain": [
       "0.55824489542605349"
      ]
     },
     "execution_count": 20,
     "metadata": {},
     "output_type": "execute_result"
    }
   ],
   "source": [
    "logm.score(X, y)"
   ]
  },
  {
   "cell_type": "markdown",
   "metadata": {},
   "source": [
    "Our classifier score is barely better than a coin toss. It seems we will have to improve our approach."
   ]
  },
  {
   "cell_type": "code",
   "execution_count": 21,
   "metadata": {
    "collapsed": false
   },
   "outputs": [
    {
     "data": {
      "text/html": [
       "<div>\n",
       "<table border=\"1\" class=\"dataframe\">\n",
       "  <thead>\n",
       "    <tr style=\"text-align: right;\">\n",
       "      <th></th>\n",
       "      <th>0</th>\n",
       "      <th>1</th>\n",
       "    </tr>\n",
       "  </thead>\n",
       "  <tbody>\n",
       "    <tr>\n",
       "      <th>0</th>\n",
       "      <td>Area_NE Austin</td>\n",
       "      <td>[0.165347643264]</td>\n",
       "    </tr>\n",
       "    <tr>\n",
       "      <th>1</th>\n",
       "      <td>Area_NW Austin</td>\n",
       "      <td>[0.568659146497]</td>\n",
       "    </tr>\n",
       "    <tr>\n",
       "      <th>2</th>\n",
       "      <td>Area_SE Austin</td>\n",
       "      <td>[-0.3470889829]</td>\n",
       "    </tr>\n",
       "    <tr>\n",
       "      <th>3</th>\n",
       "      <td>Area_SW Austin</td>\n",
       "      <td>[0.345019569204]</td>\n",
       "    </tr>\n",
       "  </tbody>\n",
       "</table>\n",
       "</div>"
      ],
      "text/plain": [
       "                0                 1\n",
       "0  Area_NE Austin  [0.165347643264]\n",
       "1  Area_NW Austin  [0.568659146497]\n",
       "2  Area_SE Austin   [-0.3470889829]\n",
       "3  Area_SW Austin  [0.345019569204]"
      ]
     },
     "execution_count": 21,
     "metadata": {},
     "output_type": "execute_result"
    }
   ],
   "source": [
    "# examine the coefficients\n",
    "pd.DataFrame(zip(data[feature_cols], np.transpose(logm.coef_)))"
   ]
  },
  {
   "cell_type": "markdown",
   "metadata": {},
   "source": [
    "The coefficients above aren't necessarily significant but they show associations with increased/decreased likelihood of passing the health inspection set. As a matter of fact, a restaurant being located in Northwest Austin is more likely to pass the test whereas a restaurant in Southeast Austin is less likely to do so."
   ]
  },
  {
   "cell_type": "markdown",
   "metadata": {},
   "source": [
    "The real test of a good model is to train the model on a training set and then test it with data that it has not fitted. Here’s where the rubber meets the road."
   ]
  },
  {
   "cell_type": "code",
   "execution_count": 22,
   "metadata": {
    "collapsed": false
   },
   "outputs": [],
   "source": [
    "from sklearn import cross_validation\n",
    "\n",
    "X_train, X_test, y_train, y_test = cross_validation.train_test_split(X, y, train_size=0.8)"
   ]
  },
  {
   "cell_type": "code",
   "execution_count": 23,
   "metadata": {
    "collapsed": false
   },
   "outputs": [
    {
     "data": {
      "text/plain": [
       "LogisticRegression(C=1.0, class_weight='balanced', dual=False,\n",
       "          fit_intercept=True, intercept_scaling=1, max_iter=100,\n",
       "          multi_class='ovr', n_jobs=1, penalty='l2', random_state=None,\n",
       "          solver='liblinear', tol=0.0001, verbose=0, warm_start=False)"
      ]
     },
     "execution_count": 23,
     "metadata": {},
     "output_type": "execute_result"
    }
   ],
   "source": [
    "logm.fit(X_train,y_train)"
   ]
  },
  {
   "cell_type": "code",
   "execution_count": 24,
   "metadata": {
    "collapsed": false
   },
   "outputs": [
    {
     "name": "stdout",
     "output_type": "stream",
     "text": [
      "[ 1.  1.  1. ...,  1.  0.  1.]\n",
      "[[ 0.42271349  0.57728651]\n",
      " [ 0.42271349  0.57728651]\n",
      " [ 0.42271349  0.57728651]\n",
      " ..., \n",
      " [ 0.42271349  0.57728651]\n",
      " [ 0.55507747  0.44492253]\n",
      " [ 0.43280539  0.56719461]]\n"
     ]
    }
   ],
   "source": [
    "# predict class labels for the test set\n",
    "predicted = logm.predict(X_test)\n",
    "\n",
    "print predicted\n",
    "\n",
    "# generate class probabilities\n",
    "probs = logm.predict_proba(X_test)\n",
    "\n",
    "print probs"
   ]
  },
  {
   "cell_type": "code",
   "execution_count": 25,
   "metadata": {
    "collapsed": false
   },
   "outputs": [
    {
     "data": {
      "text/plain": [
       "0.55848588271796462"
      ]
     },
     "execution_count": 25,
     "metadata": {},
     "output_type": "execute_result"
    }
   ],
   "source": [
    "logm.score(X_test, y_test)"
   ]
  },
  {
   "cell_type": "markdown",
   "metadata": {},
   "source": [
    "k-fold Cross Validation has not really helped us improve the score of our classifier.\n",
    "\n",
    "Even though we are far from creating a foolproof model, we can definitely discern some interesting trends."
   ]
  },
  {
   "cell_type": "code",
   "execution_count": 26,
   "metadata": {
    "collapsed": false
   },
   "outputs": [
    {
     "name": "stdout",
     "output_type": "stream",
     "text": [
      "0.558485882718\n",
      "0.505858051723\n"
     ]
    }
   ],
   "source": [
    "# Evaluation Metrics\n",
    "\n",
    "from sklearn import metrics\n",
    "\n",
    "print metrics.accuracy_score(y_test, predicted)\n",
    "print metrics.roc_auc_score(y_test, probs[:, 1])"
   ]
  },
  {
   "cell_type": "markdown",
   "metadata": {},
   "source": [
    "The 0.506 ROC score is fairly low. It is telling us that our model is doing slightly better in predicting a restaurant's inspection outcome (pass/fail) than a coin toss (which would have a 0.5 probability)"
   ]
  },
  {
   "cell_type": "code",
   "execution_count": 27,
   "metadata": {
    "collapsed": false
   },
   "outputs": [
    {
     "data": {
      "text/plain": [
       "array([[1781, 1404],\n",
       "       [  19,   19]])"
      ]
     },
     "execution_count": 27,
     "metadata": {},
     "output_type": "execute_result"
    }
   ],
   "source": [
    "# Confusion Matrix and Classification Report:\n",
    "\n",
    "# Confusion Matrix\n",
    "\n",
    "cm = metrics.confusion_matrix(y_test, logm.predict(X_test), labels=[1,0]) #labels = [1,0] will change the order: T,F\n",
    "\n",
    "cm"
   ]
  },
  {
   "cell_type": "code",
   "execution_count": 28,
   "metadata": {
    "collapsed": false
   },
   "outputs": [
    {
     "name": "stdout",
     "output_type": "stream",
     "text": [
      "[[1781 1404]\n",
      " [  19   19]]\n",
      "             precision    recall  f1-score   support\n",
      "\n",
      "          1       0.99      0.56      0.71      3185\n",
      "          0       0.01      0.50      0.03        38\n",
      "\n",
      "avg / total       0.98      0.56      0.71      3223\n",
      "\n"
     ]
    }
   ],
   "source": [
    "print metrics.confusion_matrix(y_test, predicted, labels=[1,0])\n",
    "print metrics.classification_report(y_test, predicted,labels=[1,0])"
   ]
  },
  {
   "cell_type": "code",
   "execution_count": 29,
   "metadata": {
    "collapsed": false
   },
   "outputs": [
    {
     "data": {
      "image/png": "[encoded data removed]",
      "text/plain": [
       "<matplotlib.figure.Figure at 0x10c6cd190>"
      ]
     },
     "metadata": {},
     "output_type": "display_data"
    }
   ],
   "source": [
    "# Visualize Confusion Matrix:\n",
    "\n",
    "def plot_confusion_matrix(cm, title='Confusion matrix', cmap=plt.cm.Blues):\n",
    "    plt.imshow(cm, interpolation='nearest', cmap=cmap)\n",
    "    plt.title(title)\n",
    "    plt.colorbar()\n",
    "    plt.tight_layout()\n",
    "    plt.ylabel('True label')\n",
    "    plt.xlabel('Predicted label')\n",
    "    \n",
    "plot_confusion_matrix(cm)"
   ]
  },
  {
   "cell_type": "markdown",
   "metadata": {},
   "source": [
    "There really isn't any reason for us to delve further into that model because the misclassification rate is really substantial and as we mentioned it's not really doing significantly better than a coin toss."
   ]
  },
  {
   "cell_type": "markdown",
   "metadata": {},
   "source": [
    "Let us now quickly approach a different strategy to mitigate the results of class imbalance: oversampling the minority class (failing restaurants)"
   ]
  },
  {
   "cell_type": "code",
   "execution_count": 30,
   "metadata": {
    "collapsed": true
   },
   "outputs": [],
   "source": [
    "#Grab DataFramea rows where column has certain values\n",
    "\n",
    "value_list_f = ['Fail']\n",
    "failures = data[data.Status.isin(value_list_f)]\n",
    "\n",
    "value_list_p = ['Pass']\n",
    "passes = data[data.Status.isin(value_list_p)]"
   ]
  },
  {
   "cell_type": "code",
   "execution_count": 31,
   "metadata": {
    "collapsed": true
   },
   "outputs": [],
   "source": [
    "# Let us pick two random samples of 100 rows each from the \"failures\" and \"passes\" dataframes: \n",
    "\n",
    "rows_f = np.random.choice(failures.index.values, 100)\n",
    "rows_p = np.random.choice(passes.index.values, 100)"
   ]
  },
  {
   "cell_type": "code",
   "execution_count": 32,
   "metadata": {
    "collapsed": true
   },
   "outputs": [],
   "source": [
    "# Convert to dataframes:\n",
    "\n",
    "sampled_f = failures.ix[rows_f]\n",
    "sampled_p = passes.ix[rows_p]"
   ]
  },
  {
   "cell_type": "code",
   "execution_count": 33,
   "metadata": {
    "collapsed": false
   },
   "outputs": [
    {
     "name": "stdout",
     "output_type": "stream",
     "text": [
      "The training DataFrame comprises 200 rows\n"
     ]
    }
   ],
   "source": [
    "# Concatenate into \"training\" dataframe:\n",
    "\n",
    "training_df = pd.concat([sampled_p, sampled_f], axis=0)\n",
    "print \"The training DataFrame comprises {0} rows\".format(len(training_df))"
   ]
  },
  {
   "cell_type": "code",
   "execution_count": 34,
   "metadata": {
    "collapsed": false
   },
   "outputs": [
    {
     "data": {
      "text/plain": [
       "LogisticRegression(C=1.0, class_weight=None, dual=False, fit_intercept=True,\n",
       "          intercept_scaling=1, max_iter=100, multi_class='ovr', n_jobs=1,\n",
       "          penalty='l2', random_state=None, solver='liblinear', tol=0.0001,\n",
       "          verbose=0, warm_start=False)"
      ]
     },
     "execution_count": 34,
     "metadata": {},
     "output_type": "execute_result"
    }
   ],
   "source": [
    "# Train our logistic regression model on this data:\n",
    "\n",
    "logm = linear_model.LogisticRegression() # We don't need balanced class weights anymore\n",
    " \n",
    "feature_cols = ['Area_NE Austin', 'Area_NW Austin', 'Area_SE Austin', 'Area_SW Austin']\n",
    "\n",
    "X_tr = training_df[ feature_cols ].values\n",
    "y_tr = training_df['Status_Pass'].values\n",
    "\n",
    "logm.fit(X_tr, y_tr)"
   ]
  },
  {
   "cell_type": "code",
   "execution_count": 36,
   "metadata": {
    "collapsed": false
   },
   "outputs": [
    {
     "name": "stdout",
     "output_type": "stream",
     "text": [
      "The model's score on the training data is 62.0%\n"
     ]
    }
   ],
   "source": [
    "print \"The model's score on the training data is {0}%\".format(logm.score(X_tr, y_tr)*100)"
   ]
  },
  {
   "cell_type": "markdown",
   "metadata": {},
   "source": [
    "This doesn't sound very promising. Regardless, let us construct the testing DataFrame (comprising all rows that aren't already seen by the model)"
   ]
  },
  {
   "cell_type": "code",
   "execution_count": 37,
   "metadata": {
    "collapsed": true
   },
   "outputs": [],
   "source": [
    "# Create a DataFrame with all rows that are in data but NOT in training_df:\n",
    "\n",
    "df1 = data\n",
    "df2 = training_df\n",
    "\n",
    "common_cols = list(set(df1.columns) & set(df2.columns))\n",
    "\n",
    "testing_df = pd.merge(df1,df2,on=common_cols,how=\"outer\",indicator=True)\n",
    "\n",
    "testing_df = testing_df.loc[testing_df['_merge'] == 'left_only']"
   ]
  },
  {
   "cell_type": "code",
   "execution_count": 38,
   "metadata": {
    "collapsed": false
   },
   "outputs": [],
   "source": [
    "X_ts = testing_df[ feature_cols ].values\n",
    "y_ts = testing_df['Status_Pass'].values"
   ]
  },
  {
   "cell_type": "code",
   "execution_count": 39,
   "metadata": {
    "collapsed": false
   },
   "outputs": [
    {
     "name": "stdout",
     "output_type": "stream",
     "text": [
      "0.637721169532\n",
      "0.540206009614\n"
     ]
    }
   ],
   "source": [
    "# Model Validation:\n",
    "\n",
    "# predict class labels for the test set\n",
    "predicted = logm.predict(X_ts)\n",
    "\n",
    "# generate class probabilities\n",
    "probs = logm.predict_proba(X_ts)\n",
    "\n",
    "# Evaluation Metrics:\n",
    "\n",
    "print metrics.accuracy_score(y_ts, predicted)\n",
    "print metrics.roc_auc_score(y_ts, probs[:, 1])"
   ]
  },
  {
   "cell_type": "markdown",
   "metadata": {},
   "source": [
    "The results are no better than before, and possibly more disappointing. It seems that the part of town a restaurant is located in is a terrible predictor of its Health Inspection broad outcome. (Pass/Fail)"
   ]
  },
  {
   "cell_type": "markdown",
   "metadata": {},
   "source": [
    "From now on I am changing my approach to something more drastic. Instead of aiming to classify health inspection outcomes as \"Passes\" or \"Fails\", I will implement a different kind of classification: A resulting letter grade of \"A\" (which implies a Health Inspection score of 90 or higher) vs. everything else (Scores 89 and below)\n",
    "\n",
    "Before throwing my hands up in the air with the use of Area as input features for my models, I will try once more:"
   ]
  },
  {
   "cell_type": "code",
   "execution_count": 40,
   "metadata": {
    "collapsed": true
   },
   "outputs": [],
   "source": [
    "num_A = data[data[\"Letter_Grade\"]=='A'].count()\n",
    "num_other = data[data[\"Letter_Grade\"]!='A'].count()"
   ]
  },
  {
   "cell_type": "code",
   "execution_count": 41,
   "metadata": {
    "collapsed": false
   },
   "outputs": [
    {
     "name": "stdout",
     "output_type": "stream",
     "text": [
      "Pristine Restaurants (90 or above) = 10091\n",
      "Restaurants scoring 89 or below = 6022\n"
     ]
    }
   ],
   "source": [
    "print \"Pristine Restaurants (90 or above) = {0}\".format(num_A[0])\n",
    "print \"Restaurants scoring 89 or below = {0}\".format(num_other[0])"
   ]
  },
  {
   "cell_type": "markdown",
   "metadata": {},
   "source": [
    "There is a much nicer distribution between the classes now! Let us construct two new dummy variables, one for \"Pristine\" restaurants (the same ones obtaining a grade \"A\", which has been the redundant dummy variable in my previous treatment) and one for everything else:"
   ]
  },
  {
   "cell_type": "code",
   "execution_count": 42,
   "metadata": {
    "collapsed": true
   },
   "outputs": [],
   "source": [
    "# I need the \"Grade_A\" column:\n",
    "\n",
    "def pristine(x):\n",
    "    if x >= 90:\n",
    "        return 1\n",
    "    else:\n",
    "        return 0"
   ]
  },
  {
   "cell_type": "code",
   "execution_count": 43,
   "metadata": {
    "collapsed": false
   },
   "outputs": [
    {
     "data": {
      "text/html": [
       "<div>\n",
       "<table border=\"1\" class=\"dataframe\">\n",
       "  <thead>\n",
       "    <tr style=\"text-align: right;\">\n",
       "      <th></th>\n",
       "      <th>Facility_ID</th>\n",
       "      <th>Restaurant_Name</th>\n",
       "      <th>Inspection_Date</th>\n",
       "      <th>Process_Description</th>\n",
       "      <th>Geocode</th>\n",
       "      <th>Street</th>\n",
       "      <th>City</th>\n",
       "      <th>Zip_Code</th>\n",
       "      <th>Score</th>\n",
       "      <th>Latitude</th>\n",
       "      <th>...</th>\n",
       "      <th>Letter_Grade</th>\n",
       "      <th>Area_NE Austin</th>\n",
       "      <th>Area_NW Austin</th>\n",
       "      <th>Area_SE Austin</th>\n",
       "      <th>Area_SW Austin</th>\n",
       "      <th>Status_Pass</th>\n",
       "      <th>Grade_B</th>\n",
       "      <th>Grade_C</th>\n",
       "      <th>Grade_F</th>\n",
       "      <th>Pristine</th>\n",
       "    </tr>\n",
       "  </thead>\n",
       "  <tbody>\n",
       "    <tr>\n",
       "      <th>0</th>\n",
       "      <td>2801996</td>\n",
       "      <td>Mr. Gatti's #118</td>\n",
       "      <td>2015-12-23</td>\n",
       "      <td>Routine Inspection</td>\n",
       "      <td>2121 W PARMER LN, AUSTIN, TX 78758</td>\n",
       "      <td>2121 W PARMER LN</td>\n",
       "      <td>AUSTIN</td>\n",
       "      <td>78758</td>\n",
       "      <td>94</td>\n",
       "      <td>30.415649</td>\n",
       "      <td>...</td>\n",
       "      <td>A</td>\n",
       "      <td>0</td>\n",
       "      <td>1</td>\n",
       "      <td>0</td>\n",
       "      <td>0</td>\n",
       "      <td>1</td>\n",
       "      <td>0</td>\n",
       "      <td>0</td>\n",
       "      <td>0</td>\n",
       "      <td>1</td>\n",
       "    </tr>\n",
       "    <tr>\n",
       "      <th>1</th>\n",
       "      <td>10385802</td>\n",
       "      <td>Subway</td>\n",
       "      <td>2015-12-23</td>\n",
       "      <td>Routine Inspection</td>\n",
       "      <td>2501 W PARMER LN, AUSTIN, TX 78758</td>\n",
       "      <td>2501 W PARMER LN</td>\n",
       "      <td>AUSTIN</td>\n",
       "      <td>78758</td>\n",
       "      <td>98</td>\n",
       "      <td>30.418236</td>\n",
       "      <td>...</td>\n",
       "      <td>A</td>\n",
       "      <td>0</td>\n",
       "      <td>1</td>\n",
       "      <td>0</td>\n",
       "      <td>0</td>\n",
       "      <td>1</td>\n",
       "      <td>0</td>\n",
       "      <td>0</td>\n",
       "      <td>0</td>\n",
       "      <td>1</td>\n",
       "    </tr>\n",
       "  </tbody>\n",
       "</table>\n",
       "<p>2 rows × 23 columns</p>\n",
       "</div>"
      ],
      "text/plain": [
       "   Facility_ID   Restaurant_Name Inspection_Date Process_Description  \\\n",
       "0      2801996  Mr. Gatti's #118      2015-12-23  Routine Inspection   \n",
       "1     10385802            Subway      2015-12-23  Routine Inspection   \n",
       "\n",
       "                              Geocode            Street    City  Zip_Code  \\\n",
       "0  2121 W PARMER LN, AUSTIN, TX 78758  2121 W PARMER LN  AUSTIN     78758   \n",
       "1  2501 W PARMER LN, AUSTIN, TX 78758  2501 W PARMER LN  AUSTIN     78758   \n",
       "\n",
       "   Score   Latitude    ...     Letter_Grade Area_NE Austin Area_NW Austin  \\\n",
       "0     94  30.415649    ...                A              0              1   \n",
       "1     98  30.418236    ...                A              0              1   \n",
       "\n",
       "  Area_SE Austin  Area_SW Austin  Status_Pass  Grade_B  Grade_C  Grade_F  \\\n",
       "0              0               0            1        0        0        0   \n",
       "1              0               0            1        0        0        0   \n",
       "\n",
       "   Pristine  \n",
       "0         1  \n",
       "1         1  \n",
       "\n",
       "[2 rows x 23 columns]"
      ]
     },
     "execution_count": 43,
     "metadata": {},
     "output_type": "execute_result"
    }
   ],
   "source": [
    "data['Pristine'] = data['Score'].apply(pristine)\n",
    "data.head(2)"
   ]
  },
  {
   "cell_type": "markdown",
   "metadata": {},
   "source": [
    "Let us save this DataFrame as a csv file because we are going to use it again in the next Notebook (Text mining):"
   ]
  },
  {
   "cell_type": "code",
   "execution_count": 44,
   "metadata": {
    "collapsed": true
   },
   "outputs": [],
   "source": [
    "data.to_csv('../data/data.csv', index=False)"
   ]
  },
  {
   "cell_type": "code",
   "execution_count": 45,
   "metadata": {
    "collapsed": true
   },
   "outputs": [],
   "source": [
    "# Off to modeling:\n",
    "\n",
    "logm = linear_model.LogisticRegression()\n",
    "\n",
    "feature_cols = ['Area_NE Austin', 'Area_NW Austin', 'Area_SE Austin', 'Area_SW Austin']\n",
    "\n",
    "X = data[ feature_cols ].values\n",
    "y = data['Pristine'].values"
   ]
  },
  {
   "cell_type": "code",
   "execution_count": 46,
   "metadata": {
    "collapsed": true
   },
   "outputs": [],
   "source": [
    "# Cross-validation:\n",
    "\n",
    "X_train, X_test, y_train, y_test = cross_validation.train_test_split(X, y, train_size=0.75)"
   ]
  },
  {
   "cell_type": "code",
   "execution_count": 47,
   "metadata": {
    "collapsed": false
   },
   "outputs": [
    {
     "data": {
      "text/plain": [
       "LogisticRegression(C=1.0, class_weight=None, dual=False, fit_intercept=True,\n",
       "          intercept_scaling=1, max_iter=100, multi_class='ovr', n_jobs=1,\n",
       "          penalty='l2', random_state=None, solver='liblinear', tol=0.0001,\n",
       "          verbose=0, warm_start=False)"
      ]
     },
     "execution_count": 47,
     "metadata": {},
     "output_type": "execute_result"
    }
   ],
   "source": [
    "# Fitting the model:\n",
    "\n",
    "logm.fit(X_train, y_train)"
   ]
  },
  {
   "cell_type": "code",
   "execution_count": 48,
   "metadata": {
    "collapsed": false
   },
   "outputs": [
    {
     "name": "stdout",
     "output_type": "stream",
     "text": [
      "0.619508562919\n",
      "0.554171998093\n"
     ]
    }
   ],
   "source": [
    "# Model Validation:\n",
    "\n",
    "# predict class labels for the test set\n",
    "predicted = logm.predict(X_test)\n",
    "\n",
    "# generate class probabilities\n",
    "probs = logm.predict_proba(X_test)\n",
    "\n",
    "# Evaluation Metrics:\n",
    "\n",
    "print metrics.accuracy_score(y_test, predicted)\n",
    "print metrics.roc_auc_score(y_test, probs[:, 1])"
   ]
  },
  {
   "cell_type": "markdown",
   "metadata": {},
   "source": [
    "Even though our goal has changed (we are seeking to predict whether a restaurant will ace the health inspection) the results of our model are still disappointing. It is becoming more and more evident that Area isn't a good predictor.\n",
    "\n",
    "Our final attempt will be to \"strong-arm\" our model by manually changing the logistic regression classification threshold from 0.5 to something much higher like 0.8\n",
    "\n",
    "Hopefully this will eradicate some of the misclassifications. In order to manipulate our model like that, we will use *statsmodels* instead of scikit-learn: "
   ]
  },
  {
   "cell_type": "code",
   "execution_count": 49,
   "metadata": {
    "collapsed": true
   },
   "outputs": [],
   "source": [
    "import statsmodels.api as sm\n",
    "\n",
    "logit = sm.Logit(data['Pristine'], data[ feature_cols ])"
   ]
  },
  {
   "cell_type": "code",
   "execution_count": 50,
   "metadata": {
    "collapsed": false
   },
   "outputs": [
    {
     "name": "stdout",
     "output_type": "stream",
     "text": [
      "Optimization terminated successfully.\n",
      "         Current function value: 0.664674\n",
      "         Iterations 4\n"
     ]
    }
   ],
   "source": [
    "# fit the model\n",
    "\n",
    "model_result = logit.fit()"
   ]
  },
  {
   "cell_type": "code",
   "execution_count": 51,
   "metadata": {
    "collapsed": false
   },
   "outputs": [],
   "source": [
    "predicted = model_result.predict(data[ feature_cols ])"
   ]
  },
  {
   "cell_type": "code",
   "execution_count": 52,
   "metadata": {
    "collapsed": false
   },
   "outputs": [
    {
     "name": "stdout",
     "output_type": "stream",
     "text": [
      "The number of restaurants predicted to pass inspection (grade A) with logistic threshold = 0.5 is 11442\n",
      "The number of restaurants predicted to pass inspection (grade A) with logistic threshold = 0.6 is 8972\n",
      "The number of restaurants predicted to pass inspection (grade A) with logistic threshold = 0.7 is 0\n",
      "The number of restaurants predicted to pass inspection (grade A) with logistic threshold = 0.8 is 0\n",
      "The number of restaurants predicted to pass inspection (grade A) with logistic threshold = 0.9 is 0\n"
     ]
    }
   ],
   "source": [
    "thresholds = [0.5, 0.6, 0.7, 0.8, 0.9]\n",
    "\n",
    "for i in thresholds:\n",
    "    predicted_choice = (predicted > i).astype(int)\n",
    "    print \"The number of restaurants predicted to pass inspection (grade A) with logistic threshold = {0} is {1}\".\\\n",
    "    format(i, sum(predicted_choice) )"
   ]
  },
  {
   "cell_type": "markdown",
   "metadata": {},
   "source": [
    "Raising the logistic regression classifier threshold to anything higher than 60% results in zero restaurants predicted to pass inspection with a grade \"A\", given the area."
   ]
  },
  {
   "cell_type": "code",
   "execution_count": 53,
   "metadata": {
    "collapsed": false
   },
   "outputs": [
    {
     "name": "stdout",
     "output_type": "stream",
     "text": [
      "                           Logit Regression Results                           \n",
      "==============================================================================\n",
      "Dep. Variable:               Pristine   No. Observations:                16113\n",
      "Model:                          Logit   Df Residuals:                    16109\n",
      "Method:                           MLE   Df Model:                            3\n",
      "Date:                Mon, 15 Feb 2016   Pseudo R-squ.:               -0.005689\n",
      "Time:                        16:23:23   Log-Likelihood:                -10710.\n",
      "converged:                       True   LL-Null:                       -10649.\n",
      "                                        LLR p-value:                     1.000\n",
      "==================================================================================\n",
      "                     coef    std err          z      P>|z|      [95.0% Conf. Int.]\n",
      "----------------------------------------------------------------------------------\n",
      "Area_NE Austin     0.1944      0.055      3.502      0.000         0.086     0.303\n",
      "Area_NW Austin     0.7522      0.031     24.043      0.000         0.691     0.814\n",
      "Area_SE Austin     0.2305      0.059      3.898      0.000         0.115     0.346\n",
      "Area_SW Austin     0.5108      0.032     16.179      0.000         0.449     0.573\n",
      "==================================================================================\n"
     ]
    }
   ],
   "source": [
    "print model_result.summary()"
   ]
  },
  {
   "cell_type": "markdown",
   "metadata": {},
   "source": [
    "We get a great overview of the coefficients of the model, how well those coefficients fit, the overall fit quality, and several other statistical measures.\n",
    "\n",
    "The result object also lets us to isolate and inspect parts of the model output. The confidence interval gives an idea for how robust the coefficients of the model are. Once again, we might not be getting anything really important from this classifier, but we can definitely see the \"trend\" of restaurants being located in my ad hoc \"Northwest Austin\" area being more prone to do better."
   ]
  },
  {
   "cell_type": "code",
   "execution_count": 54,
   "metadata": {
    "collapsed": false
   },
   "outputs": [
    {
     "name": "stdout",
     "output_type": "stream",
     "text": [
      "Area_NE Austin    1.214527\n",
      "Area_NW Austin    2.121756\n",
      "Area_SE Austin    1.259259\n",
      "Area_SW Austin    1.666667\n",
      "dtype: float64\n"
     ]
    }
   ],
   "source": [
    "# Odds ratio:\n",
    "\n",
    "print np.exp(model_result.params)"
   ]
  },
  {
   "cell_type": "markdown",
   "metadata": {},
   "source": [
    "This tells us how a 1 unit increase or decrease in a variable affects the odds of scoring an \"A\". For example, we can expect the odds of scoring an \"A\" to increase by about 212% if the restaurant is located in Northwest Austin. However we should be really cautious and only perceive those odds ratios relative to each other."
   ]
  },
  {
   "cell_type": "markdown",
   "metadata": {},
   "source": [
    "#### Logistic Regression outcome:"
   ]
  },
  {
   "cell_type": "markdown",
   "metadata": {},
   "source": [
    "Regardless of the model used, the overall prediction accuracy for the city is close to 60%, which is almost equal to random guessing and therefore implies that the area is probably not a useful factor.\n",
    "\n",
    "The poor performance of this factor is likely due to the fact that each area is very large and consists of many diverse neighborhoods (zip codes), which means there is too much variation within each area."
   ]
  },
  {
   "cell_type": "markdown",
   "metadata": {},
   "source": [
    "### k - Nearest Neighbors Classification on average scores"
   ]
  },
  {
   "cell_type": "markdown",
   "metadata": {},
   "source": [
    "The greatest plight of our DataFrame and our attempts to apply supervised learning techniques to predict the inspection score is the absence of continuous (or categorical) features **specific** to each restaurant. Let us attempt a different binary classifier, k Nearest Neighbors, for the case where our DataFrame comprises the averaged scores of each Zip Code. Again, we need to be overly cautious because we only have 35 rows now:"
   ]
  },
  {
   "cell_type": "code",
   "execution_count": 55,
   "metadata": {
    "collapsed": false
   },
   "outputs": [
    {
     "data": {
      "text/plain": [
       "35"
      ]
     },
     "execution_count": 55,
     "metadata": {},
     "output_type": "execute_result"
    }
   ],
   "source": [
    "average_scores = data.groupby('Zip_Code').mean()\n",
    "len(average_scores)"
   ]
  },
  {
   "cell_type": "code",
   "execution_count": 56,
   "metadata": {
    "collapsed": false
   },
   "outputs": [
    {
     "data": {
      "text/html": [
       "<div>\n",
       "<table border=\"1\" class=\"dataframe\">\n",
       "  <thead>\n",
       "    <tr style=\"text-align: right;\">\n",
       "      <th></th>\n",
       "      <th>Facility_ID</th>\n",
       "      <th>Score</th>\n",
       "      <th>Latitude</th>\n",
       "      <th>Longitude</th>\n",
       "      <th>Area_NE Austin</th>\n",
       "      <th>Area_NW Austin</th>\n",
       "      <th>Area_SE Austin</th>\n",
       "      <th>Area_SW Austin</th>\n",
       "      <th>Status_Pass</th>\n",
       "      <th>Grade_B</th>\n",
       "      <th>Grade_C</th>\n",
       "      <th>Grade_F</th>\n",
       "      <th>Pristine</th>\n",
       "    </tr>\n",
       "    <tr>\n",
       "      <th>Zip_Code</th>\n",
       "      <th></th>\n",
       "      <th></th>\n",
       "      <th></th>\n",
       "      <th></th>\n",
       "      <th></th>\n",
       "      <th></th>\n",
       "      <th></th>\n",
       "      <th></th>\n",
       "      <th></th>\n",
       "      <th></th>\n",
       "      <th></th>\n",
       "      <th></th>\n",
       "      <th></th>\n",
       "    </tr>\n",
       "  </thead>\n",
       "  <tbody>\n",
       "    <tr>\n",
       "      <th>78701</th>\n",
       "      <td>7394822.662348</td>\n",
       "      <td>87.714939</td>\n",
       "      <td>30.268113</td>\n",
       "      <td>-97.742015</td>\n",
       "      <td>0</td>\n",
       "      <td>0</td>\n",
       "      <td>0</td>\n",
       "      <td>0</td>\n",
       "      <td>0.983994</td>\n",
       "      <td>0.350610</td>\n",
       "      <td>0.153963</td>\n",
       "      <td>0.016006</td>\n",
       "      <td>0.479421</td>\n",
       "    </tr>\n",
       "    <tr>\n",
       "      <th>78702</th>\n",
       "      <td>7173129.697500</td>\n",
       "      <td>89.976250</td>\n",
       "      <td>30.263794</td>\n",
       "      <td>-97.718697</td>\n",
       "      <td>0</td>\n",
       "      <td>0</td>\n",
       "      <td>0</td>\n",
       "      <td>0</td>\n",
       "      <td>0.980000</td>\n",
       "      <td>0.282500</td>\n",
       "      <td>0.087500</td>\n",
       "      <td>0.020000</td>\n",
       "      <td>0.610000</td>\n",
       "    </tr>\n",
       "    <tr>\n",
       "      <th>78703</th>\n",
       "      <td>6246431.545220</td>\n",
       "      <td>90.149871</td>\n",
       "      <td>30.280433</td>\n",
       "      <td>-97.761260</td>\n",
       "      <td>0</td>\n",
       "      <td>0</td>\n",
       "      <td>0</td>\n",
       "      <td>0</td>\n",
       "      <td>1.000000</td>\n",
       "      <td>0.312661</td>\n",
       "      <td>0.093023</td>\n",
       "      <td>0.000000</td>\n",
       "      <td>0.594315</td>\n",
       "    </tr>\n",
       "    <tr>\n",
       "      <th>78704</th>\n",
       "      <td>7250249.096037</td>\n",
       "      <td>89.975610</td>\n",
       "      <td>30.244061</td>\n",
       "      <td>-97.764413</td>\n",
       "      <td>0</td>\n",
       "      <td>0</td>\n",
       "      <td>0</td>\n",
       "      <td>1</td>\n",
       "      <td>0.990854</td>\n",
       "      <td>0.304878</td>\n",
       "      <td>0.091463</td>\n",
       "      <td>0.009146</td>\n",
       "      <td>0.594512</td>\n",
       "    </tr>\n",
       "    <tr>\n",
       "      <th>78705</th>\n",
       "      <td>6567070.349493</td>\n",
       "      <td>92.064262</td>\n",
       "      <td>30.291497</td>\n",
       "      <td>-97.741109</td>\n",
       "      <td>0</td>\n",
       "      <td>0</td>\n",
       "      <td>0</td>\n",
       "      <td>0</td>\n",
       "      <td>0.988726</td>\n",
       "      <td>0.205186</td>\n",
       "      <td>0.068771</td>\n",
       "      <td>0.011274</td>\n",
       "      <td>0.714769</td>\n",
       "    </tr>\n",
       "  </tbody>\n",
       "</table>\n",
       "</div>"
      ],
      "text/plain": [
       "             Facility_ID      Score   Latitude  Longitude  Area_NE Austin  \\\n",
       "Zip_Code                                                                    \n",
       "78701     7394822.662348  87.714939  30.268113 -97.742015               0   \n",
       "78702     7173129.697500  89.976250  30.263794 -97.718697               0   \n",
       "78703     6246431.545220  90.149871  30.280433 -97.761260               0   \n",
       "78704     7250249.096037  89.975610  30.244061 -97.764413               0   \n",
       "78705     6567070.349493  92.064262  30.291497 -97.741109               0   \n",
       "\n",
       "          Area_NW Austin  Area_SE Austin  Area_SW Austin  Status_Pass  \\\n",
       "Zip_Code                                                                \n",
       "78701                  0               0               0     0.983994   \n",
       "78702                  0               0               0     0.980000   \n",
       "78703                  0               0               0     1.000000   \n",
       "78704                  0               0               1     0.990854   \n",
       "78705                  0               0               0     0.988726   \n",
       "\n",
       "           Grade_B   Grade_C   Grade_F  Pristine  \n",
       "Zip_Code                                          \n",
       "78701     0.350610  0.153963  0.016006  0.479421  \n",
       "78702     0.282500  0.087500  0.020000  0.610000  \n",
       "78703     0.312661  0.093023  0.000000  0.594315  \n",
       "78704     0.304878  0.091463  0.009146  0.594512  \n",
       "78705     0.205186  0.068771  0.011274  0.714769  "
      ]
     },
     "execution_count": 56,
     "metadata": {},
     "output_type": "execute_result"
    }
   ],
   "source": [
    "average_scores.head()"
   ]
  },
  {
   "cell_type": "markdown",
   "metadata": {},
   "source": [
    "We will need to create another dummy column for \"Pristine\" since averaging removed the 1-0 dichotomy. We do get some interesting average scores for each zip code though."
   ]
  },
  {
   "cell_type": "code",
   "execution_count": 57,
   "metadata": {
    "collapsed": false
   },
   "outputs": [
    {
     "data": {
      "text/html": [
       "<div>\n",
       "<table border=\"1\" class=\"dataframe\">\n",
       "  <thead>\n",
       "    <tr style=\"text-align: right;\">\n",
       "      <th></th>\n",
       "      <th>Facility_ID</th>\n",
       "      <th>Score</th>\n",
       "      <th>Latitude</th>\n",
       "      <th>Longitude</th>\n",
       "      <th>Area_NE Austin</th>\n",
       "      <th>Area_NW Austin</th>\n",
       "      <th>Area_SE Austin</th>\n",
       "      <th>Area_SW Austin</th>\n",
       "      <th>Status_Pass</th>\n",
       "      <th>Grade_B</th>\n",
       "      <th>Grade_C</th>\n",
       "      <th>Grade_F</th>\n",
       "      <th>Pristine</th>\n",
       "      <th>Pristine_Dummy</th>\n",
       "    </tr>\n",
       "    <tr>\n",
       "      <th>Zip_Code</th>\n",
       "      <th></th>\n",
       "      <th></th>\n",
       "      <th></th>\n",
       "      <th></th>\n",
       "      <th></th>\n",
       "      <th></th>\n",
       "      <th></th>\n",
       "      <th></th>\n",
       "      <th></th>\n",
       "      <th></th>\n",
       "      <th></th>\n",
       "      <th></th>\n",
       "      <th></th>\n",
       "      <th></th>\n",
       "    </tr>\n",
       "  </thead>\n",
       "  <tbody>\n",
       "    <tr>\n",
       "      <th>78701</th>\n",
       "      <td>7394822.662348</td>\n",
       "      <td>87.714939</td>\n",
       "      <td>30.268113</td>\n",
       "      <td>-97.742015</td>\n",
       "      <td>0</td>\n",
       "      <td>0</td>\n",
       "      <td>0</td>\n",
       "      <td>0</td>\n",
       "      <td>0.983994</td>\n",
       "      <td>0.350610</td>\n",
       "      <td>0.153963</td>\n",
       "      <td>0.016006</td>\n",
       "      <td>0.479421</td>\n",
       "      <td>0</td>\n",
       "    </tr>\n",
       "    <tr>\n",
       "      <th>78702</th>\n",
       "      <td>7173129.697500</td>\n",
       "      <td>89.976250</td>\n",
       "      <td>30.263794</td>\n",
       "      <td>-97.718697</td>\n",
       "      <td>0</td>\n",
       "      <td>0</td>\n",
       "      <td>0</td>\n",
       "      <td>0</td>\n",
       "      <td>0.980000</td>\n",
       "      <td>0.282500</td>\n",
       "      <td>0.087500</td>\n",
       "      <td>0.020000</td>\n",
       "      <td>0.610000</td>\n",
       "      <td>1</td>\n",
       "    </tr>\n",
       "    <tr>\n",
       "      <th>78703</th>\n",
       "      <td>6246431.545220</td>\n",
       "      <td>90.149871</td>\n",
       "      <td>30.280433</td>\n",
       "      <td>-97.761260</td>\n",
       "      <td>0</td>\n",
       "      <td>0</td>\n",
       "      <td>0</td>\n",
       "      <td>0</td>\n",
       "      <td>1.000000</td>\n",
       "      <td>0.312661</td>\n",
       "      <td>0.093023</td>\n",
       "      <td>0.000000</td>\n",
       "      <td>0.594315</td>\n",
       "      <td>1</td>\n",
       "    </tr>\n",
       "    <tr>\n",
       "      <th>78704</th>\n",
       "      <td>7250249.096037</td>\n",
       "      <td>89.975610</td>\n",
       "      <td>30.244061</td>\n",
       "      <td>-97.764413</td>\n",
       "      <td>0</td>\n",
       "      <td>0</td>\n",
       "      <td>0</td>\n",
       "      <td>1</td>\n",
       "      <td>0.990854</td>\n",
       "      <td>0.304878</td>\n",
       "      <td>0.091463</td>\n",
       "      <td>0.009146</td>\n",
       "      <td>0.594512</td>\n",
       "      <td>1</td>\n",
       "    </tr>\n",
       "    <tr>\n",
       "      <th>78705</th>\n",
       "      <td>6567070.349493</td>\n",
       "      <td>92.064262</td>\n",
       "      <td>30.291497</td>\n",
       "      <td>-97.741109</td>\n",
       "      <td>0</td>\n",
       "      <td>0</td>\n",
       "      <td>0</td>\n",
       "      <td>0</td>\n",
       "      <td>0.988726</td>\n",
       "      <td>0.205186</td>\n",
       "      <td>0.068771</td>\n",
       "      <td>0.011274</td>\n",
       "      <td>0.714769</td>\n",
       "      <td>1</td>\n",
       "    </tr>\n",
       "  </tbody>\n",
       "</table>\n",
       "</div>"
      ],
      "text/plain": [
       "             Facility_ID      Score   Latitude  Longitude  Area_NE Austin  \\\n",
       "Zip_Code                                                                    \n",
       "78701     7394822.662348  87.714939  30.268113 -97.742015               0   \n",
       "78702     7173129.697500  89.976250  30.263794 -97.718697               0   \n",
       "78703     6246431.545220  90.149871  30.280433 -97.761260               0   \n",
       "78704     7250249.096037  89.975610  30.244061 -97.764413               0   \n",
       "78705     6567070.349493  92.064262  30.291497 -97.741109               0   \n",
       "\n",
       "          Area_NW Austin  Area_SE Austin  Area_SW Austin  Status_Pass  \\\n",
       "Zip_Code                                                                \n",
       "78701                  0               0               0     0.983994   \n",
       "78702                  0               0               0     0.980000   \n",
       "78703                  0               0               0     1.000000   \n",
       "78704                  0               0               1     0.990854   \n",
       "78705                  0               0               0     0.988726   \n",
       "\n",
       "           Grade_B   Grade_C   Grade_F  Pristine  Pristine_Dummy  \n",
       "Zip_Code                                                          \n",
       "78701     0.350610  0.153963  0.016006  0.479421               0  \n",
       "78702     0.282500  0.087500  0.020000  0.610000               1  \n",
       "78703     0.312661  0.093023  0.000000  0.594315               1  \n",
       "78704     0.304878  0.091463  0.009146  0.594512               1  \n",
       "78705     0.205186  0.068771  0.011274  0.714769               1  "
      ]
     },
     "execution_count": 57,
     "metadata": {},
     "output_type": "execute_result"
    }
   ],
   "source": [
    "def dummy_pristine(x):\n",
    "    if x >= 0.50:\n",
    "        return 1\n",
    "    else:\n",
    "        return 0\n",
    "    \n",
    "average_scores['Pristine_Dummy'] = average_scores['Pristine'].apply(dummy_pristine)\n",
    "average_scores.head()"
   ]
  },
  {
   "cell_type": "code",
   "execution_count": 58,
   "metadata": {
    "collapsed": true
   },
   "outputs": [],
   "source": [
    "from matplotlib.colors import ListedColormap\n",
    "from sklearn import feature_selection\n",
    "from sklearn.neighbors import KNeighborsClassifier as KNN"
   ]
  },
  {
   "cell_type": "code",
   "execution_count": 59,
   "metadata": {
    "collapsed": false
   },
   "outputs": [
    {
     "name": "stdout",
     "output_type": "stream",
     "text": [
      "0.914285714286\n"
     ]
    }
   ],
   "source": [
    "feature_cols = ['Area_NE Austin', 'Area_NW Austin', 'Area_SE Austin', 'Area_SW Austin']\n",
    "\n",
    "X = average_scores[ feature_cols ].values\n",
    "y = average_scores['Pristine_Dummy'].values\n",
    "\n",
    "clf = KNN(3)\n",
    "clf.fit(X, y)\n",
    "print clf.score(X, y)"
   ]
  },
  {
   "cell_type": "markdown",
   "metadata": {},
   "source": [
    "A score of 91% on 35 rows of data isn't exciting; it is overfitting. Even though we only have few points, we can attempt train/test split and cross validation:"
   ]
  },
  {
   "cell_type": "code",
   "execution_count": 60,
   "metadata": {
    "collapsed": true
   },
   "outputs": [],
   "source": [
    "# Cross-validation:\n",
    "\n",
    "X_train, X_test, y_train, y_test = cross_validation.train_test_split(X, y, train_size=0.8)"
   ]
  },
  {
   "cell_type": "code",
   "execution_count": 61,
   "metadata": {
    "collapsed": false
   },
   "outputs": [
    {
     "name": "stdout",
     "output_type": "stream",
     "text": [
      "0.857142857143\n"
     ]
    }
   ],
   "source": [
    "clf.fit(X_train, y_train)\n",
    "print clf.score(X_test, y_test)"
   ]
  },
  {
   "cell_type": "markdown",
   "metadata": {},
   "source": [
    "Looks slightly better"
   ]
  },
  {
   "cell_type": "code",
   "execution_count": 62,
   "metadata": {
    "collapsed": false
   },
   "outputs": [
    {
     "data": {
      "image/png": "[encoded data removed]",
      "text/plain": [
       "<matplotlib.figure.Figure at 0x10e4d1b10>"
      ]
     },
     "metadata": {},
     "output_type": "display_data"
    }
   ],
   "source": [
    "# Let's figure out what our most powerful features are.\n",
    "\n",
    "F = feature_selection.f_classif(X, y)[0]\n",
    "title = 'Health Inspection Features with F-Values'\n",
    "\n",
    "plt.figure(figsize=(13, 8))\n",
    "ax = sns.barplot(x=feature_cols,y=F)\n",
    "ax.set_title(title)\n",
    "ax.set(xlabel=\"Features\");"
   ]
  },
  {
   "cell_type": "markdown",
   "metadata": {},
   "source": [
    "The k Nearest Neighbors classifier yields another interesting feature: the importance of \"Southeast Austin\" in classifying a restaurant as \"pristine\" or not."
   ]
  },
  {
   "cell_type": "code",
   "execution_count": 63,
   "metadata": {
    "collapsed": false
   },
   "outputs": [
    {
     "data": {
      "image/png": "[encoded data removed]",
      "text/plain": [
       "<matplotlib.figure.Figure at 0x10e4da9d0>"
      ]
     },
     "metadata": {},
     "output_type": "display_data"
    }
   ],
   "source": [
    "g = sns.PairGrid(average_scores, vars=[\"Latitude\", \"Longitude\"],\n",
    "                 hue=\"Pristine\", aspect=1, size=5)\n",
    "g.map(plt.scatter);"
   ]
  },
  {
   "cell_type": "code",
   "execution_count": 64,
   "metadata": {
    "collapsed": false
   },
   "outputs": [],
   "source": [
    "y = average_scores['Pristine']\n",
    "a = list(y.unique())\n",
    "a = [round(n, 1) for n in a]"
   ]
  },
  {
   "cell_type": "code",
   "execution_count": 65,
   "metadata": {
    "collapsed": true
   },
   "outputs": [],
   "source": [
    "average_scores['Round_Pristine'] = a"
   ]
  },
  {
   "cell_type": "code",
   "execution_count": 66,
   "metadata": {
    "collapsed": false
   },
   "outputs": [
    {
     "data": {
      "image/png": "[encoded data removed]",
      "text/plain": [
       "<matplotlib.figure.Figure at 0x10f3e6410>"
      ]
     },
     "metadata": {},
     "output_type": "display_data"
    }
   ],
   "source": [
    "g = sns.PairGrid(average_scores, vars=[\"Latitude\", \"Longitude\"],\n",
    "                 hue=\"Round_Pristine\", aspect=1, size=5)\n",
    "g.map(plt.scatter);\n",
    "g = g.add_legend()"
   ]
  },
  {
   "cell_type": "markdown",
   "metadata": {},
   "source": [
    "We have plotted those averages on this longitude/latitude plane that resembles a map. The hue of the data points corresponds to \"Pristine\", which in our case is the fraction of restaurants that have been awarded a perfect score in each Zip Code."
   ]
  },
  {
   "cell_type": "code",
   "execution_count": 67,
   "metadata": {
    "collapsed": false
   },
   "outputs": [
    {
     "data": {
      "text/plain": [
       "5"
      ]
     },
     "execution_count": 67,
     "metadata": {},
     "output_type": "execute_result"
    }
   ],
   "source": [
    "r = set(a)\n",
    "len(r) # The number of unique \"Rounded Pristine\" scores, we will use that to visualize decision boundaries:"
   ]
  },
  {
   "cell_type": "markdown",
   "metadata": {},
   "source": [
    "#### Visualizing the decision boundaries"
   ]
  },
  {
   "cell_type": "code",
   "execution_count": 68,
   "metadata": {
    "collapsed": true
   },
   "outputs": [],
   "source": [
    "h = .02  # step size in the mesh"
   ]
  },
  {
   "cell_type": "code",
   "execution_count": 69,
   "metadata": {
    "collapsed": false
   },
   "outputs": [
    {
     "data": {
      "image/png": "[encoded data removed]",
      "text/plain": [
       "<matplotlib.figure.Figure at 0x10fa5ea50>"
      ]
     },
     "metadata": {},
     "output_type": "display_data"
    }
   ],
   "source": [
    "# Create color maps\n",
    "col_map = sns.color_palette(\"Paired\")\n",
    "sns.palplot(col_map)\n",
    "cmap_light = ListedColormap(['#A6CEE3', '#AFDD8A', '#FA9897'])\n",
    "cmap_bold = ListedColormap(['#2078B4', '#35A12E', '#E31A1C'])"
   ]
  },
  {
   "cell_type": "code",
   "execution_count": 70,
   "metadata": {
    "collapsed": false
   },
   "outputs": [
    {
     "name": "stdout",
     "output_type": "stream",
     "text": [
      "[0.5, 0.6, 0.6, 0.6, 0.7, 0.7, 0.7, 0.6, 0.6, 0.6, 0.8, 0.7, 0.6, 0.8, 0.8, 0.8, 0.7, 0.7, 0.6, 0.5, 0.6, 0.5, 0.7, 0.4, 0.6, 0.7, 0.7, 0.7, 0.5, 0.5, 0.8, 0.8, 0.7, 0.6, 0.7]\n"
     ]
    }
   ],
   "source": [
    "print a"
   ]
  },
  {
   "cell_type": "code",
   "execution_count": 71,
   "metadata": {
    "collapsed": false
   },
   "outputs": [],
   "source": [
    "features = ['Latitude', 'Longitude']\n",
    "X_ = average_scores[features].values\n",
    "\n",
    "r =list(r)\n",
    "y_ = [r.index(v) for v in a] # Encode the rounded scores to integers"
   ]
  },
  {
   "cell_type": "code",
   "execution_count": 72,
   "metadata": {
    "collapsed": false
   },
   "outputs": [
    {
     "name": "stdout",
     "output_type": "stream",
     "text": [
      "[0, 2, 2, 2, 1, 1, 1, 2, 2, 2, 4, 1, 2, 4, 4, 4, 1, 1, 2, 0, 2, 0, 1, 3, 2, 1, 1, 1, 0, 0, 4, 4, 1, 2, 1]\n"
     ]
    }
   ],
   "source": [
    "print y_"
   ]
  },
  {
   "cell_type": "code",
   "execution_count": 73,
   "metadata": {
    "collapsed": false
   },
   "outputs": [
    {
     "data": {
      "text/plain": [
       "KNeighborsClassifier(algorithm='auto', leaf_size=30, metric='minkowski',\n",
       "           metric_params=None, n_jobs=1, n_neighbors=2, p=2,\n",
       "           weights='uniform')"
      ]
     },
     "execution_count": 73,
     "metadata": {},
     "output_type": "execute_result"
    }
   ],
   "source": [
    "clf = KNN(2, weights='uniform')\n",
    "clf.fit(X_, y_)"
   ]
  },
  {
   "cell_type": "code",
   "execution_count": 74,
   "metadata": {
    "collapsed": true
   },
   "outputs": [],
   "source": [
    "# Plot the decision boundary. For that, we will assign a color to each\n",
    "# point in the mesh [x_min, m_max]*[y_min, y_max].\n",
    "x_min, x_max = X_[:, 0].min() - 1, X_[:, 0].max() + 1\n",
    "y_min, y_max = X_[:, 1].min() - 1, X_[:, 1].max() + 1"
   ]
  },
  {
   "cell_type": "code",
   "execution_count": 75,
   "metadata": {
    "collapsed": true
   },
   "outputs": [],
   "source": [
    "xx, yy = np.meshgrid(np.arange(x_min, x_max, h), np.arange(y_min, y_max, h))\n",
    "\n",
    "Z = clf.predict(np.c_[xx.ravel(), yy.ravel()])"
   ]
  },
  {
   "cell_type": "code",
   "execution_count": 76,
   "metadata": {
    "collapsed": true
   },
   "outputs": [],
   "source": [
    "# Put the result into a color plot\n",
    "Z = Z.reshape(xx.shape)"
   ]
  },
  {
   "cell_type": "code",
   "execution_count": 78,
   "metadata": {
    "collapsed": false
   },
   "outputs": [
    {
     "data": {
      "image/png": "[encoded data removed]",
      "text/plain": [
       "<matplotlib.figure.Figure at 0x10ff50190>"
      ]
     },
     "metadata": {},
     "output_type": "display_data"
    }
   ],
   "source": [
    "# Plot also the training points\n",
    "plt.figure(figsize=(13,8))\n",
    "plt.pcolormesh(xx, yy, Z, cmap=cmap_light)\n",
    "plt.scatter(X_[:, 0], X_[:, 1], c=y_, cmap=cmap_bold)\n",
    "plt.xlim(xx.min(), xx.max())\n",
    "plt.ylim(yy.min(), yy.max())\n",
    "plt.title(\"5-Class classification (k = %i, weights = '%s')\"\n",
    "         % (2, 'uniform'));"
   ]
  },
  {
   "cell_type": "markdown",
   "metadata": {},
   "source": [
    "We only got 3 classes when running our KNN algorithm for k=2 (and less classes if we raise k) - this makes sense because we have a very small number of points to classify and they all seem clustered together."
   ]
  },
  {
   "cell_type": "markdown",
   "metadata": {},
   "source": [
    "Let us take a step back and remember what are the prerequisites for a successful implementation of the k Nearest Neighbors binary classifier:\n",
    "\n",
    "* **Density of training data**: you should have roughly the same number of samples for each class. Doesn't need to be exact, but I'd say not more than 10% disparity. Otherwise the boundaries will be very fuzzy.\n",
    "* **Size of your whole training set**: you need to have sufficiently enough examples in your training set so your model can generalize to unknown samples.\n",
    "* **Noise**: KNN is very sensitive to noise by nature, so you want to avoid noise in your training set as much as possible.\n",
    "\n",
    "None of those prerequisites is really satisfied, so choosing a KNN Classifier was a bad idea, save from the nice scatter plot."
   ]
  },
  {
   "cell_type": "markdown",
   "metadata": {},
   "source": [
    "### Decision Trees - Random Forests"
   ]
  },
  {
   "cell_type": "markdown",
   "metadata": {},
   "source": [
    "Going back to our \"data\" DataFrame, let us now attempt to implement a decision tree as a binary classifier"
   ]
  },
  {
   "cell_type": "code",
   "execution_count": 79,
   "metadata": {
    "collapsed": false
   },
   "outputs": [
    {
     "data": {
      "text/html": [
       "<div>\n",
       "<table border=\"1\" class=\"dataframe\">\n",
       "  <thead>\n",
       "    <tr style=\"text-align: right;\">\n",
       "      <th></th>\n",
       "      <th>Facility_ID</th>\n",
       "      <th>Restaurant_Name</th>\n",
       "      <th>Inspection_Date</th>\n",
       "      <th>Process_Description</th>\n",
       "      <th>Geocode</th>\n",
       "      <th>Street</th>\n",
       "      <th>City</th>\n",
       "      <th>Zip_Code</th>\n",
       "      <th>Score</th>\n",
       "      <th>Latitude</th>\n",
       "      <th>...</th>\n",
       "      <th>Letter_Grade</th>\n",
       "      <th>Area_NE Austin</th>\n",
       "      <th>Area_NW Austin</th>\n",
       "      <th>Area_SE Austin</th>\n",
       "      <th>Area_SW Austin</th>\n",
       "      <th>Status_Pass</th>\n",
       "      <th>Grade_B</th>\n",
       "      <th>Grade_C</th>\n",
       "      <th>Grade_F</th>\n",
       "      <th>Pristine</th>\n",
       "    </tr>\n",
       "  </thead>\n",
       "  <tbody>\n",
       "    <tr>\n",
       "      <th>0</th>\n",
       "      <td>2801996</td>\n",
       "      <td>Mr. Gatti's #118</td>\n",
       "      <td>2015-12-23</td>\n",
       "      <td>Routine Inspection</td>\n",
       "      <td>2121 W PARMER LN, AUSTIN, TX 78758</td>\n",
       "      <td>2121 W PARMER LN</td>\n",
       "      <td>AUSTIN</td>\n",
       "      <td>78758</td>\n",
       "      <td>94</td>\n",
       "      <td>30.415649</td>\n",
       "      <td>...</td>\n",
       "      <td>A</td>\n",
       "      <td>0</td>\n",
       "      <td>1</td>\n",
       "      <td>0</td>\n",
       "      <td>0</td>\n",
       "      <td>1</td>\n",
       "      <td>0</td>\n",
       "      <td>0</td>\n",
       "      <td>0</td>\n",
       "      <td>1</td>\n",
       "    </tr>\n",
       "    <tr>\n",
       "      <th>1</th>\n",
       "      <td>10385802</td>\n",
       "      <td>Subway</td>\n",
       "      <td>2015-12-23</td>\n",
       "      <td>Routine Inspection</td>\n",
       "      <td>2501 W PARMER LN, AUSTIN, TX 78758</td>\n",
       "      <td>2501 W PARMER LN</td>\n",
       "      <td>AUSTIN</td>\n",
       "      <td>78758</td>\n",
       "      <td>98</td>\n",
       "      <td>30.418236</td>\n",
       "      <td>...</td>\n",
       "      <td>A</td>\n",
       "      <td>0</td>\n",
       "      <td>1</td>\n",
       "      <td>0</td>\n",
       "      <td>0</td>\n",
       "      <td>1</td>\n",
       "      <td>0</td>\n",
       "      <td>0</td>\n",
       "      <td>0</td>\n",
       "      <td>1</td>\n",
       "    </tr>\n",
       "    <tr>\n",
       "      <th>2</th>\n",
       "      <td>2802274</td>\n",
       "      <td>Baskin Robbins</td>\n",
       "      <td>2015-12-23</td>\n",
       "      <td>Routine Inspection</td>\n",
       "      <td>12407 N MOPAC EXPY, AUSTIN, TX 78758</td>\n",
       "      <td>12407 N MOPAC EXPY</td>\n",
       "      <td>AUSTIN</td>\n",
       "      <td>78758</td>\n",
       "      <td>99</td>\n",
       "      <td>30.417462</td>\n",
       "      <td>...</td>\n",
       "      <td>A</td>\n",
       "      <td>0</td>\n",
       "      <td>1</td>\n",
       "      <td>0</td>\n",
       "      <td>0</td>\n",
       "      <td>1</td>\n",
       "      <td>0</td>\n",
       "      <td>0</td>\n",
       "      <td>0</td>\n",
       "      <td>1</td>\n",
       "    </tr>\n",
       "  </tbody>\n",
       "</table>\n",
       "<p>3 rows × 23 columns</p>\n",
       "</div>"
      ],
      "text/plain": [
       "   Facility_ID   Restaurant_Name Inspection_Date Process_Description  \\\n",
       "0      2801996  Mr. Gatti's #118      2015-12-23  Routine Inspection   \n",
       "1     10385802            Subway      2015-12-23  Routine Inspection   \n",
       "2      2802274    Baskin Robbins      2015-12-23  Routine Inspection   \n",
       "\n",
       "                                Geocode              Street    City  Zip_Code  \\\n",
       "0    2121 W PARMER LN, AUSTIN, TX 78758    2121 W PARMER LN  AUSTIN     78758   \n",
       "1    2501 W PARMER LN, AUSTIN, TX 78758    2501 W PARMER LN  AUSTIN     78758   \n",
       "2  12407 N MOPAC EXPY, AUSTIN, TX 78758  12407 N MOPAC EXPY  AUSTIN     78758   \n",
       "\n",
       "   Score   Latitude    ...     Letter_Grade Area_NE Austin Area_NW Austin  \\\n",
       "0     94  30.415649    ...                A              0              1   \n",
       "1     98  30.418236    ...                A              0              1   \n",
       "2     99  30.417462    ...                A              0              1   \n",
       "\n",
       "  Area_SE Austin  Area_SW Austin  Status_Pass  Grade_B  Grade_C  Grade_F  \\\n",
       "0              0               0            1        0        0        0   \n",
       "1              0               0            1        0        0        0   \n",
       "2              0               0            1        0        0        0   \n",
       "\n",
       "   Pristine  \n",
       "0         1  \n",
       "1         1  \n",
       "2         1  \n",
       "\n",
       "[3 rows x 23 columns]"
      ]
     },
     "execution_count": 79,
     "metadata": {},
     "output_type": "execute_result"
    }
   ],
   "source": [
    "data.head(3)"
   ]
  },
  {
   "cell_type": "code",
   "execution_count": 80,
   "metadata": {
    "collapsed": false
   },
   "outputs": [
    {
     "name": "stdout",
     "output_type": "stream",
     "text": [
      "Number of mislabeled points : 6022\n",
      "Classifier score: 0\n"
     ]
    }
   ],
   "source": [
    "from sklearn import tree\n",
    "\n",
    "feature_cols = ['Area_NE Austin', 'Area_NW Austin', 'Area_SE Austin', 'Area_SW Austin']\n",
    "\n",
    "X = data[ feature_cols ].values\n",
    "y = data['Pristine'].values\n",
    "\n",
    "clf = tree.DecisionTreeClassifier()\n",
    "clf.fit(X, y)\n",
    "y_pred = clf.predict(X)\n",
    "\n",
    "print \"Number of mislabeled points : %d\" % (y != y_pred).sum()\n",
    "print \"Classifier score: %d\" % clf.score(X, y)"
   ]
  },
  {
   "cell_type": "code",
   "execution_count": 81,
   "metadata": {
    "collapsed": false
   },
   "outputs": [
    {
     "data": {
      "text/plain": [
       "16113"
      ]
     },
     "execution_count": 81,
     "metadata": {},
     "output_type": "execute_result"
    }
   ],
   "source": [
    "len(y)"
   ]
  },
  {
   "cell_type": "markdown",
   "metadata": {},
   "source": [
    "***We have mislabeled 6022 out of the 16113 points, yet the classifier's score is equal to zero. (?)***\n",
    "\n",
    "Let us attempt a train/test split and cross-validation:"
   ]
  },
  {
   "cell_type": "code",
   "execution_count": 82,
   "metadata": {
    "collapsed": false
   },
   "outputs": [
    {
     "name": "stdout",
     "output_type": "stream",
     "text": [
      "[[   0 4540]\n",
      " [   0 7544]]\n",
      "             precision    recall  f1-score   support\n",
      "\n",
      "          0       0.00      0.00      0.00      4540\n",
      "          1       0.62      1.00      0.77      7544\n",
      "\n",
      "avg / total       0.39      0.62      0.48     12084\n",
      "\n",
      "The score of the Decision Tree classifier on the training data is 0.624296590533\n",
      "\n",
      "[[   0 1482]\n",
      " [   0 2547]]\n",
      "             precision    recall  f1-score   support\n",
      "\n",
      "          0       0.00      0.00      0.00      1482\n",
      "          1       0.63      1.00      0.77      2547\n",
      "\n",
      "avg / total       0.40      0.63      0.49      4029\n",
      "\n",
      "The score of the Decision Tree classifier on the test data is 0.632166790767\n"
     ]
    }
   ],
   "source": [
    "X_train, X_test, y_train, y_test = cross_validation.train_test_split(X, y, test_size=.25)\n",
    "clf.set_params(min_samples_leaf=4)\n",
    "clf.set_params(max_depth=3)\n",
    "clf.fit(X_train, y_train)\n",
    "\n",
    "print metrics.confusion_matrix(y_train, clf.predict(X_train))\n",
    "print metrics.classification_report(y_train, clf.predict(X_train))\n",
    "print \"The score of the Decision Tree classifier on the training data is {0}\".format(clf.score(X_train,y_train))\n",
    "print \"\"\n",
    "print metrics.confusion_matrix(y_test, clf.predict(X_test))\n",
    "print metrics.classification_report(y_test, clf.predict(X_test))\n",
    "print \"The score of the Decision Tree classifier on the test data is {0}\".format(clf.score(X_test,y_test))\n",
    "\n"
   ]
  },
  {
   "cell_type": "markdown",
   "metadata": {},
   "source": [
    "The zeros in the $[0][0]$ element of the confusion matrix are really bad news: they mean that our tree classifier is really incapable of correctly classifying any true positives (i.e. restaurants passing the health inspection)\n",
    "\n",
    "We can still try to visualize our tree, which does have some merit due to its 63.2% classification score, but it is becoming more and more evident that this broad area division is a poor feature for our classification purposes."
   ]
  },
  {
   "cell_type": "code",
   "execution_count": 83,
   "metadata": {
    "collapsed": true
   },
   "outputs": [],
   "source": [
    "from sklearn.externals.six import StringIO\n",
    "with open(\"pristine.dot\", 'w') as f:\n",
    "    f = tree.export_graphviz(clf, out_file=f, feature_names=feature_cols)"
   ]
  },
  {
   "cell_type": "code",
   "execution_count": 84,
   "metadata": {
    "collapsed": true
   },
   "outputs": [],
   "source": [
    "!dot -Tpng pristine.dot > pristine.png"
   ]
  },
  {
   "cell_type": "markdown",
   "metadata": {},
   "source": [
    "![Pristine Graphviz Plot](pristine.png)"
   ]
  },
  {
   "cell_type": "code",
   "execution_count": 86,
   "metadata": {
    "collapsed": false
   },
   "outputs": [
    {
     "name": "stdout",
     "output_type": "stream",
     "text": [
      "DecisionTreeClassifier: 0.632166790767\n",
      "RandomForestClassifier: 0.632166790767\n"
     ]
    }
   ],
   "source": [
    "# Even a random forest comprising 250 trees yields the exact same classifier score:\n",
    "\n",
    "from sklearn.ensemble import RandomForestClassifier\n",
    "\n",
    "## DecisionTreeClassifier\n",
    "dtree = tree.DecisionTreeClassifier(max_depth=None, min_samples_split=1,\n",
    "       random_state=0)\n",
    "scores = cross_validation.cross_val_score(dtree, X_test, y_test)\n",
    "print \"DecisionTreeClassifier:\", scores.mean()\n",
    "\n",
    "## RandomForestClassifier\n",
    "forest = RandomForestClassifier(n_estimators=250,\n",
    "     max_features=4, random_state=0, max_depth=None)\n",
    "scores = cross_validation.cross_val_score(forest, X_test, y_test)\n",
    "print \"RandomForestClassifier:\", scores.mean()"
   ]
  },
  {
   "cell_type": "markdown",
   "metadata": {},
   "source": [
    "Decision Trees and Random Forests give us some interesting information concerning the relative importance of their estimators, and we can visualize those importances:"
   ]
  },
  {
   "cell_type": "code",
   "execution_count": 87,
   "metadata": {
    "collapsed": false
   },
   "outputs": [
    {
     "name": "stdout",
     "output_type": "stream",
     "text": [
      "Feature ranking:\n",
      "1. feature Area_NE Austin (0.670741452591)\n",
      "2. feature Area_NW Austin (0.163122826641)\n",
      "3. feature Area_SE Austin (0.123291877223)\n",
      "4. feature Area_SW Austin (0.0428438435446)\n"
     ]
    },
    {
     "data": {
      "image/png": "[encoded data removed]",
      "text/plain": [
       "<matplotlib.figure.Figure at 0x110441a10>"
      ]
     },
     "metadata": {},
     "output_type": "display_data"
    }
   ],
   "source": [
    "importances = forest.fit(X, y).feature_importances_\n",
    "std = np.std([tree.feature_importances_ for tree in forest.estimators_],\n",
    "             axis=0)\n",
    "indices = np.argsort(importances)[::-1]\n",
    "\n",
    "# Print the feature ranking\n",
    "print(\"Feature ranking:\")\n",
    "\n",
    "for f in range(X.shape[1]):\n",
    "    print(\"{0}. feature {1} ({2})\".format(f + 1, feature_cols[f], importances[indices[f]]))\n",
    "\n",
    "# Plot the feature importances of the forest\n",
    "\n",
    "import matplotlib.pyplot as plt\n",
    "%matplotlib inline \n",
    "\n",
    "plt.figure()\n",
    "plt.title(\"Feature importances\")\n",
    "plt.bar(range(X.shape[1]), importances[indices],\n",
    "       color=\"r\", yerr=std[indices], align=\"center\")\n",
    "plt.xticks(range(X.shape[1]), indices)\n",
    "plt.xlim([-1, X.shape[1]])\n",
    "plt.show()"
   ]
  },
  {
   "cell_type": "markdown",
   "metadata": {},
   "source": [
    "According to our Random Forest model, the most important feature is a restaurant's location in Northeast Austin. However, given the terrible performance of the classifier in actually finding any passing restaurants, we can safely ignore this result."
   ]
  },
  {
   "cell_type": "markdown",
   "metadata": {},
   "source": [
    "### Support Vector Classifier"
   ]
  },
  {
   "cell_type": "markdown",
   "metadata": {},
   "source": [
    "Our final attempt before we give up trying to classify restaurants given the (ad hoc) area of town they are located in is a support vector machine classifier:"
   ]
  },
  {
   "cell_type": "code",
   "execution_count": 88,
   "metadata": {
    "collapsed": true
   },
   "outputs": [],
   "source": [
    "from sklearn import svm"
   ]
  },
  {
   "cell_type": "code",
   "execution_count": 95,
   "metadata": {
    "collapsed": false
   },
   "outputs": [
    {
     "data": {
      "text/plain": [
       "SVC(C=1.0, cache_size=200, class_weight=None, coef0=0.0,\n",
       "  decision_function_shape=None, degree=3, gamma='auto', kernel='linear',\n",
       "  max_iter=-1, probability=False, random_state=None, shrinking=True,\n",
       "  tol=0.001, verbose=False)"
      ]
     },
     "execution_count": 95,
     "metadata": {},
     "output_type": "execute_result"
    }
   ],
   "source": [
    "svc = svm.SVC(kernel='linear')\n",
    "\n",
    "X = data[ feature_cols ].values\n",
    "y = data['Pristine'].values\n",
    "\n",
    "svc.fit(X, y)"
   ]
  },
  {
   "cell_type": "code",
   "execution_count": 90,
   "metadata": {
    "collapsed": true
   },
   "outputs": [],
   "source": [
    "from matplotlib.colors import ListedColormap\n",
    "# Create color maps for 2-class classification problem\n",
    "cmap_light = ListedColormap(['#FFAAAA', '#AAFFAA', '#AAAAFF'])\n",
    "cmap_bold = ListedColormap(['#FF0000', '#00FF00', '#0000FF'])\n",
    "\n",
    "def plot_estimator(estimator, X, y):\n",
    "    estimator.fit(X, y)\n",
    "    x_min, x_max = X[:, 0].min() - .1, X[:, 0].max() + .1\n",
    "    y_min, y_max = X[:, 1].min() - .1, X[:, 1].max() + .1\n",
    "    xx, yy = np.meshgrid(np.linspace(x_min, x_max, 100),\n",
    "                         np.linspace(y_min, y_max, 100))\n",
    "    Z = estimator.predict(np.c_[xx.ravel(), yy.ravel()])\n",
    "\n",
    "    # Put the result into a color plot\n",
    "    Z = Z.reshape(xx.shape)\n",
    "    plt.figure()\n",
    "    plt.pcolormesh(xx, yy, Z, cmap=cmap_light)\n",
    "\n",
    "    # Plot also the training points\n",
    "    plt.scatter(X[:, 0], X[:, 1], c=y, cmap=cmap_bold)\n",
    "    plt.axis('tight')\n",
    "    plt.axis('off')\n",
    "    plt.tight_layout()"
   ]
  },
  {
   "cell_type": "code",
   "execution_count": 92,
   "metadata": {
    "collapsed": false
   },
   "outputs": [
    {
     "data": {
      "image/png": "[encoded data removed]",
      "text/plain": [
       "<matplotlib.figure.Figure at 0x10cb49750>"
      ]
     },
     "metadata": {},
     "output_type": "display_data"
    }
   ],
   "source": [
    "X_ = data[['Area_NW Austin', 'Area_SE Austin']].values # picking two \"important\" features\n",
    "y_ = data['Score'].values\n",
    "plot_estimator(svc, X_, y_)"
   ]
  },
  {
   "cell_type": "markdown",
   "metadata": {},
   "source": [
    "Visualizing the decision boundaries of our SVC yield a terrible picture, and I assume it is because of the categorical nature of both the features and the output. Let us score it instead:"
   ]
  },
  {
   "cell_type": "code",
   "execution_count": 93,
   "metadata": {
    "collapsed": false
   },
   "outputs": [
    {
     "name": "stdout",
     "output_type": "stream",
     "text": [
      "(16113, 4)\n",
      "(16113,)\n"
     ]
    }
   ],
   "source": [
    "print X.shape\n",
    "print y.shape"
   ]
  },
  {
   "cell_type": "code",
   "execution_count": 96,
   "metadata": {
    "collapsed": false
   },
   "outputs": [
    {
     "data": {
      "text/plain": [
       "0.62626450691987834"
      ]
     },
     "execution_count": 96,
     "metadata": {},
     "output_type": "execute_result"
    }
   ],
   "source": [
    "svc.score(X,y)"
   ]
  },
  {
   "cell_type": "markdown",
   "metadata": {},
   "source": [
    "The support vector classifier yielded a slightly better score when ran on the entire data set. Let us try a train/test split and cross validation to make sure we are not overfitting:"
   ]
  },
  {
   "cell_type": "code",
   "execution_count": 100,
   "metadata": {
    "collapsed": true
   },
   "outputs": [],
   "source": [
    "# Cross-validation:\n",
    "\n",
    "X_train, X_test, y_train, y_test = cross_validation.train_test_split(X, y, train_size=0.8)"
   ]
  },
  {
   "cell_type": "code",
   "execution_count": 101,
   "metadata": {
    "collapsed": false
   },
   "outputs": [
    {
     "data": {
      "text/plain": [
       "SVC(C=1.0, cache_size=200, class_weight=None, coef0=0.0,\n",
       "  decision_function_shape=None, degree=3, gamma='auto', kernel='linear',\n",
       "  max_iter=-1, probability=False, random_state=None, shrinking=True,\n",
       "  tol=0.001, verbose=False)"
      ]
     },
     "execution_count": 101,
     "metadata": {},
     "output_type": "execute_result"
    }
   ],
   "source": [
    "svc.fit(X_train, y_train)"
   ]
  },
  {
   "cell_type": "code",
   "execution_count": 102,
   "metadata": {
    "collapsed": false
   },
   "outputs": [
    {
     "name": "stdout",
     "output_type": "stream",
     "text": [
      "0.627055538318\n"
     ]
    }
   ],
   "source": [
    "print svc.score(X_test, y_test)"
   ]
  },
  {
   "cell_type": "markdown",
   "metadata": {},
   "source": [
    "This is a rather respectable score, 62.7%"
   ]
  },
  {
   "cell_type": "markdown",
   "metadata": {},
   "source": [
    "Interestingly enough, changing the kernel function from 'linear' to 'polynomial' or 'radial' doesn't seem to really affect the classifier's performance. The same applied to changing the *class_weight* parameter to *balanced*."
   ]
  },
  {
   "cell_type": "markdown",
   "metadata": {
    "collapsed": true
   },
   "source": [
    "Remember that even though the Support Vector Classifier has definitely resulted in the most promising classifier (because decision trees and the random forest fail to classify ANY restaurant as \"pristine\") for our data, the price we have to pay is our model's interpretability, since SVMs are largely \"black boxes\". Our firm conviction is that Area is not a good predictor of a restaurant's health inspection status, therefore our next attempt will be text mining and using a restaurant's name or the name of the street it is located at as a predictor."
   ]
  },
  {
   "cell_type": "markdown",
   "metadata": {},
   "source": [
    "### Next: Supervised Learning - Text Mining for Classification"
   ]
  }
 ],
 "metadata": {
  "kernelspec": {
   "display_name": "Python 2",
   "language": "python",
   "name": "python2"
  },
  "language_info": {
   "codemirror_mode": {
    "name": "ipython",
    "version": 2
   },
   "file_extension": ".py",
   "mimetype": "text/x-python",
   "name": "python",
   "nbconvert_exporter": "python",
   "pygments_lexer": "ipython2",
   "version": "2.7.11"
  }
 },
 "nbformat": 4,
 "nbformat_minor": 0
}
