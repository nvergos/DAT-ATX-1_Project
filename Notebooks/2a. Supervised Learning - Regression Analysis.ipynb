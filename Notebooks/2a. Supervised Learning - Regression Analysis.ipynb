{
 "cells": [
  {
   "cell_type": "markdown",
   "metadata": {},
   "source": [
    "# DAT-ATX-1 Capstone Project"
   ]
  },
  {
   "cell_type": "markdown",
   "metadata": {},
   "source": [
    "#### Nikolaos Vergos, February 2016\n",
    "<nvergos@gmail.com>"
   ]
  },
  {
   "cell_type": "markdown",
   "metadata": {},
   "source": [
    "## 2a. Supervised Learning: Regression Analysis"
   ]
  },
  {
   "cell_type": "markdown",
   "metadata": {},
   "source": [
    "### 0. Import libraries & packages"
   ]
  },
  {
   "cell_type": "code",
   "execution_count": 1,
   "metadata": {
    "collapsed": true
   },
   "outputs": [],
   "source": [
    "import warnings\n",
    "warnings.filterwarnings('ignore')"
   ]
  },
  {
   "cell_type": "code",
   "execution_count": 2,
   "metadata": {
    "collapsed": true
   },
   "outputs": [],
   "source": [
    "import pandas as pd\n",
    "import numpy as np\n",
    "import matplotlib.pyplot as plt\n",
    "import seaborn as sns\n",
    "\n",
    "%matplotlib inline"
   ]
  },
  {
   "cell_type": "markdown",
   "metadata": {},
   "source": [
    "### 1. Import dataset"
   ]
  },
  {
   "cell_type": "code",
   "execution_count": 3,
   "metadata": {
    "collapsed": false
   },
   "outputs": [
    {
     "data": {
      "text/html": [
       "<div>\n",
       "<table border=\"1\" class=\"dataframe\">\n",
       "  <thead>\n",
       "    <tr style=\"text-align: right;\">\n",
       "      <th></th>\n",
       "      <th>Facility_ID</th>\n",
       "      <th>Restaurant_Name</th>\n",
       "      <th>Inspection_Date</th>\n",
       "      <th>Process_Description</th>\n",
       "      <th>Geocode</th>\n",
       "      <th>Street</th>\n",
       "      <th>City</th>\n",
       "      <th>Zip_Code</th>\n",
       "      <th>Score</th>\n",
       "      <th>Med_Income</th>\n",
       "      <th>Population</th>\n",
       "      <th>Home_Ownership</th>\n",
       "      <th>Latitude</th>\n",
       "      <th>Longitude</th>\n",
       "    </tr>\n",
       "  </thead>\n",
       "  <tbody>\n",
       "    <tr>\n",
       "      <th>0</th>\n",
       "      <td>2801996</td>\n",
       "      <td>Mr. Gatti's #118</td>\n",
       "      <td>2015-12-23</td>\n",
       "      <td>Routine Inspection</td>\n",
       "      <td>2121 W PARMER LN, AUSTIN, TX 78758</td>\n",
       "      <td>2121 W PARMER LN</td>\n",
       "      <td>AUSTIN</td>\n",
       "      <td>78758</td>\n",
       "      <td>94</td>\n",
       "      <td>42398</td>\n",
       "      <td>42977</td>\n",
       "      <td>0.309</td>\n",
       "      <td>30.415649</td>\n",
       "      <td>-97.697569</td>\n",
       "    </tr>\n",
       "    <tr>\n",
       "      <th>1</th>\n",
       "      <td>10385802</td>\n",
       "      <td>Subway</td>\n",
       "      <td>2015-12-23</td>\n",
       "      <td>Routine Inspection</td>\n",
       "      <td>2501 W PARMER LN, AUSTIN, TX 78758</td>\n",
       "      <td>2501 W PARMER LN</td>\n",
       "      <td>AUSTIN</td>\n",
       "      <td>78758</td>\n",
       "      <td>98</td>\n",
       "      <td>42398</td>\n",
       "      <td>42977</td>\n",
       "      <td>0.309</td>\n",
       "      <td>30.418236</td>\n",
       "      <td>-97.702242</td>\n",
       "    </tr>\n",
       "    <tr>\n",
       "      <th>2</th>\n",
       "      <td>2802274</td>\n",
       "      <td>Baskin Robbins</td>\n",
       "      <td>2015-12-23</td>\n",
       "      <td>Routine Inspection</td>\n",
       "      <td>12407 N MOPAC EXPY, AUSTIN, TX 78758</td>\n",
       "      <td>12407 N MOPAC EXPY</td>\n",
       "      <td>AUSTIN</td>\n",
       "      <td>78758</td>\n",
       "      <td>99</td>\n",
       "      <td>42398</td>\n",
       "      <td>42977</td>\n",
       "      <td>0.309</td>\n",
       "      <td>30.417462</td>\n",
       "      <td>-97.702844</td>\n",
       "    </tr>\n",
       "    <tr>\n",
       "      <th>3</th>\n",
       "      <td>10964220</td>\n",
       "      <td>JR's Tacos</td>\n",
       "      <td>2015-12-22</td>\n",
       "      <td>Routine Inspection</td>\n",
       "      <td>1921 CEDAR BEND DR, AUSTIN, TX 78758</td>\n",
       "      <td>1921 CEDAR BEND DR</td>\n",
       "      <td>AUSTIN</td>\n",
       "      <td>78758</td>\n",
       "      <td>91</td>\n",
       "      <td>42398</td>\n",
       "      <td>42977</td>\n",
       "      <td>0.309</td>\n",
       "      <td>30.408322</td>\n",
       "      <td>-97.698243</td>\n",
       "    </tr>\n",
       "    <tr>\n",
       "      <th>4</th>\n",
       "      <td>10778546</td>\n",
       "      <td>Econo Lodge</td>\n",
       "      <td>2015-12-22</td>\n",
       "      <td>Routine Inspection</td>\n",
       "      <td>9100 BURNET RD, AUSTIN, TX 78758</td>\n",
       "      <td>9100 BURNET RD</td>\n",
       "      <td>AUSTIN</td>\n",
       "      <td>78758</td>\n",
       "      <td>91</td>\n",
       "      <td>42398</td>\n",
       "      <td>42977</td>\n",
       "      <td>0.309</td>\n",
       "      <td>30.374790</td>\n",
       "      <td>-97.726417</td>\n",
       "    </tr>\n",
       "  </tbody>\n",
       "</table>\n",
       "</div>"
      ],
      "text/plain": [
       "   Facility_ID   Restaurant_Name Inspection_Date Process_Description  \\\n",
       "0      2801996  Mr. Gatti's #118      2015-12-23  Routine Inspection   \n",
       "1     10385802            Subway      2015-12-23  Routine Inspection   \n",
       "2      2802274    Baskin Robbins      2015-12-23  Routine Inspection   \n",
       "3     10964220        JR's Tacos      2015-12-22  Routine Inspection   \n",
       "4     10778546       Econo Lodge      2015-12-22  Routine Inspection   \n",
       "\n",
       "                                Geocode              Street    City  Zip_Code  \\\n",
       "0    2121 W PARMER LN, AUSTIN, TX 78758    2121 W PARMER LN  AUSTIN     78758   \n",
       "1    2501 W PARMER LN, AUSTIN, TX 78758    2501 W PARMER LN  AUSTIN     78758   \n",
       "2  12407 N MOPAC EXPY, AUSTIN, TX 78758  12407 N MOPAC EXPY  AUSTIN     78758   \n",
       "3  1921 CEDAR BEND DR, AUSTIN, TX 78758  1921 CEDAR BEND DR  AUSTIN     78758   \n",
       "4      9100 BURNET RD, AUSTIN, TX 78758      9100 BURNET RD  AUSTIN     78758   \n",
       "\n",
       "   Score  Med_Income  Population  Home_Ownership   Latitude  Longitude  \n",
       "0     94       42398       42977           0.309  30.415649 -97.697569  \n",
       "1     98       42398       42977           0.309  30.418236 -97.702242  \n",
       "2     99       42398       42977           0.309  30.417462 -97.702844  \n",
       "3     91       42398       42977           0.309  30.408322 -97.698243  \n",
       "4     91       42398       42977           0.309  30.374790 -97.726417  "
      ]
     },
     "execution_count": 3,
     "metadata": {},
     "output_type": "execute_result"
    }
   ],
   "source": [
    "#Reading the dataset in a dataframe using Pandas\n",
    "df = pd.read_csv('../data/master.csv')  \n",
    "\n",
    "#Print first observations\n",
    "df.head() "
   ]
  },
  {
   "cell_type": "markdown",
   "metadata": {},
   "source": [
    "Throughout the Machine Learning part of this project we will be using **scikit-learn**, an open source machine learning library for the Python programming language."
   ]
  },
  {
   "cell_type": "markdown",
   "metadata": {},
   "source": [
    "### Linear Regression"
   ]
  },
  {
   "cell_type": "markdown",
   "metadata": {},
   "source": [
    "#### a. Multiple Linear Regression in ALL data - bad idea"
   ]
  },
  {
   "cell_type": "markdown",
   "metadata": {},
   "source": [
    "We are starting with an absurd idea: let us try to create a simple linear regression model to predict a restaurant's score given our numerics as features: the median income, population and home ownership percentage:"
   ]
  },
  {
   "cell_type": "code",
   "execution_count": 4,
   "metadata": {
    "collapsed": false
   },
   "outputs": [
    {
     "name": "stdout",
     "output_type": "stream",
     "text": [
      "89.1811143368\n",
      "[  4.58900571e-05  -1.64372962e-05  -8.17131991e-01]\n"
     ]
    }
   ],
   "source": [
    "# There are some NaN values in our numerics (UT Campus and ABIA)\n",
    "# Let us remove rows from those zip codes from the DataFrame:\n",
    "\n",
    "df = df[np.isfinite(df['Population'])]\n",
    "\n",
    "# create X and y\n",
    "feature_cols = ['Med_Income', 'Population', 'Home_Ownership']\n",
    "X = df[feature_cols]\n",
    "y = df.Score\n",
    "\n",
    "# follow the usual sklearn pattern: import, instantiate, fit\n",
    "from sklearn.linear_model import LinearRegression\n",
    "lm = LinearRegression()\n",
    "lm.fit(X, y)\n",
    "\n",
    "# print intercept and coefficients\n",
    "print lm.intercept_\n",
    "print lm.coef_"
   ]
  },
  {
   "cell_type": "code",
   "execution_count": 5,
   "metadata": {
    "collapsed": false
   },
   "outputs": [
    {
     "data": {
      "text/plain": [
       "[('Med_Income', 4.5890057114049346e-05),\n",
       " ('Population', -1.6437296248362439e-05),\n",
       " ('Home_Ownership', -0.81713199137826042)]"
      ]
     },
     "execution_count": 5,
     "metadata": {},
     "output_type": "execute_result"
    }
   ],
   "source": [
    "# pair the feature names with the coefficients\n",
    "zip(feature_cols, lm.coef_)"
   ]
  },
  {
   "cell_type": "code",
   "execution_count": 6,
   "metadata": {
    "collapsed": false
   },
   "outputs": [
    {
     "name": "stdout",
     "output_type": "stream",
     "text": [
      "Variance score: 0.01\n"
     ]
    }
   ],
   "source": [
    "# Explained variance score: 1 is perfect prediction\n",
    "print('Variance score: %.2f' % lm.score(X,y))"
   ]
  },
  {
   "cell_type": "markdown",
   "metadata": {},
   "source": [
    "We are explaining 1% of the variance with our model. Definitely nothing to write home about... This was to be expected anyway, since the numerical data we have added pertain to a whole zip code, not each individual restaurant."
   ]
  },
  {
   "cell_type": "code",
   "execution_count": 8,
   "metadata": {
    "collapsed": false
   },
   "outputs": [
    {
     "data": {
      "text/plain": [
       "15957"
      ]
     },
     "execution_count": 8,
     "metadata": {},
     "output_type": "execute_result"
    }
   ],
   "source": [
    "# Let us check how many rows we are left with after excluding the UT Campus and ABIA areas:\n",
    "\n",
    "len(df)"
   ]
  },
  {
   "cell_type": "markdown",
   "metadata": {},
   "source": [
    "#### b. Linear Regression on averaged data"
   ]
  },
  {
   "cell_type": "markdown",
   "metadata": {},
   "source": [
    "As we have mentioned, the reason why the above model was so terrible is quite straightforward: even though the numerical data we have in our DataFrame (Median Income, Population, Home Ownership Percentage) pertain to a whole Zip Code, we attached them to each individual row - every restaurant was supposed to carry those features. This, of course, is absurd and wrong. However we can still try a weak prediction if instead of using all 15,957 rows we dramatically shrink our dataset to... 34 rows - i.e. one for each Zip Code. So, we will have an average restaurant score which we will be trying to predict, or, how do restaurants in a certain area do on average, given the demographics of its inhabitants."
   ]
  },
  {
   "cell_type": "code",
   "execution_count": 9,
   "metadata": {
    "collapsed": false
   },
   "outputs": [
    {
     "data": {
      "text/plain": [
       "34"
      ]
     },
     "execution_count": 9,
     "metadata": {},
     "output_type": "execute_result"
    }
   ],
   "source": [
    "average_scores = df.groupby('Zip_Code').mean()\n",
    "len(average_scores)"
   ]
  },
  {
   "cell_type": "code",
   "execution_count": 10,
   "metadata": {
    "collapsed": false
   },
   "outputs": [
    {
     "data": {
      "text/html": [
       "<div>\n",
       "<table border=\"1\" class=\"dataframe\">\n",
       "  <thead>\n",
       "    <tr style=\"text-align: right;\">\n",
       "      <th></th>\n",
       "      <th>Facility_ID</th>\n",
       "      <th>Score</th>\n",
       "      <th>Med_Income</th>\n",
       "      <th>Population</th>\n",
       "      <th>Home_Ownership</th>\n",
       "      <th>Latitude</th>\n",
       "      <th>Longitude</th>\n",
       "    </tr>\n",
       "    <tr>\n",
       "      <th>Zip_Code</th>\n",
       "      <th></th>\n",
       "      <th></th>\n",
       "      <th></th>\n",
       "      <th></th>\n",
       "      <th></th>\n",
       "      <th></th>\n",
       "      <th></th>\n",
       "    </tr>\n",
       "  </thead>\n",
       "  <tbody>\n",
       "    <tr>\n",
       "      <th>78701</th>\n",
       "      <td>7394822.662348</td>\n",
       "      <td>87.714939</td>\n",
       "      <td>35757</td>\n",
       "      <td>3780</td>\n",
       "      <td>0.377</td>\n",
       "      <td>30.268113</td>\n",
       "      <td>-97.742015</td>\n",
       "    </tr>\n",
       "    <tr>\n",
       "      <th>78702</th>\n",
       "      <td>7173129.697500</td>\n",
       "      <td>89.976250</td>\n",
       "      <td>23348</td>\n",
       "      <td>22498</td>\n",
       "      <td>0.467</td>\n",
       "      <td>30.263794</td>\n",
       "      <td>-97.718697</td>\n",
       "    </tr>\n",
       "    <tr>\n",
       "      <th>78703</th>\n",
       "      <td>6246431.545220</td>\n",
       "      <td>90.149871</td>\n",
       "      <td>54591</td>\n",
       "      <td>19522</td>\n",
       "      <td>0.515</td>\n",
       "      <td>30.280433</td>\n",
       "      <td>-97.761260</td>\n",
       "    </tr>\n",
       "    <tr>\n",
       "      <th>78704</th>\n",
       "      <td>7250249.096037</td>\n",
       "      <td>89.975610</td>\n",
       "      <td>35733</td>\n",
       "      <td>43343</td>\n",
       "      <td>0.302</td>\n",
       "      <td>30.244061</td>\n",
       "      <td>-97.764413</td>\n",
       "    </tr>\n",
       "    <tr>\n",
       "      <th>78705</th>\n",
       "      <td>6567070.349493</td>\n",
       "      <td>92.064262</td>\n",
       "      <td>14740</td>\n",
       "      <td>26972</td>\n",
       "      <td>0.110</td>\n",
       "      <td>30.291497</td>\n",
       "      <td>-97.741109</td>\n",
       "    </tr>\n",
       "  </tbody>\n",
       "</table>\n",
       "</div>"
      ],
      "text/plain": [
       "             Facility_ID      Score  Med_Income  Population  Home_Ownership  \\\n",
       "Zip_Code                                                                      \n",
       "78701     7394822.662348  87.714939       35757        3780           0.377   \n",
       "78702     7173129.697500  89.976250       23348       22498           0.467   \n",
       "78703     6246431.545220  90.149871       54591       19522           0.515   \n",
       "78704     7250249.096037  89.975610       35733       43343           0.302   \n",
       "78705     6567070.349493  92.064262       14740       26972           0.110   \n",
       "\n",
       "           Latitude  Longitude  \n",
       "Zip_Code                        \n",
       "78701     30.268113 -97.742015  \n",
       "78702     30.263794 -97.718697  \n",
       "78703     30.280433 -97.761260  \n",
       "78704     30.244061 -97.764413  \n",
       "78705     30.291497 -97.741109  "
      ]
     },
     "execution_count": 10,
     "metadata": {},
     "output_type": "execute_result"
    }
   ],
   "source": [
    "average_scores.head()"
   ]
  },
  {
   "cell_type": "markdown",
   "metadata": {},
   "source": [
    "It is of paramount importance to remember that we are **NOT** supposed to be extracting any useful information from this regression model we are about to apply. After all, we only have a tiny number of rows, each one corresponding to an entire Zip Code. However we might still be able to create a model that will yield some strong trends which would help us make, if not a prediction, an **educated guess** about the average score of all restaurants in a Zip Code with given demographic data."
   ]
  },
  {
   "cell_type": "markdown",
   "metadata": {},
   "source": [
    "Let's take it one by one:"
   ]
  },
  {
   "cell_type": "markdown",
   "metadata": {},
   "source": [
    "##### Predict Score using zip code's Median Income"
   ]
  },
  {
   "cell_type": "code",
   "execution_count": 17,
   "metadata": {
    "collapsed": false
   },
   "outputs": [],
   "source": [
    "from sklearn.linear_model import LinearRegression\n",
    "lm = LinearRegression()\n",
    "\n",
    "X = average_scores['Med_Income'].values\n",
    "y = average_scores['Score'].values"
   ]
  },
  {
   "cell_type": "code",
   "execution_count": 18,
   "metadata": {
    "collapsed": false
   },
   "outputs": [
    {
     "name": "stdout",
     "output_type": "stream",
     "text": [
      "(34,)\n",
      "(34,)\n"
     ]
    }
   ],
   "source": [
    "# Check the shapes of the X and y vectors:\n",
    "\n",
    "print X.shape\n",
    "print y.shape"
   ]
  },
  {
   "cell_type": "code",
   "execution_count": 19,
   "metadata": {
    "collapsed": true
   },
   "outputs": [],
   "source": [
    "# Reshape to get them to work when we fit the model:\n",
    "\n",
    "X = X.reshape(34,1);\n",
    "y = y.reshape(34,1);"
   ]
  },
  {
   "cell_type": "code",
   "execution_count": 20,
   "metadata": {
    "collapsed": false
   },
   "outputs": [
    {
     "name": "stdout",
     "output_type": "stream",
     "text": [
      "[ 88.71868357]\n",
      "[[  4.12805195e-05]]\n"
     ]
    }
   ],
   "source": [
    "# Fit linear regression model:\n",
    "lm.fit(X, y)\n",
    "\n",
    "# print intercept and coefficients\n",
    "print lm.intercept_\n",
    "print lm.coef_"
   ]
  },
  {
   "cell_type": "code",
   "execution_count": 21,
   "metadata": {
    "collapsed": false
   },
   "outputs": [
    {
     "data": {
      "text/plain": [
       "0.35211721509154936"
      ]
     },
     "execution_count": 21,
     "metadata": {},
     "output_type": "execute_result"
    }
   ],
   "source": [
    "# And score it:\n",
    "\n",
    "lm.score(X,y)"
   ]
  },
  {
   "cell_type": "markdown",
   "metadata": {},
   "source": [
    "This is a not a very exciting score for our model; We are explaining 35.2% of the variance, but we have to keep into account that:\n",
    "- We have 35 pairs of data points: (Median Income, Score)\n",
    "- We have trained our model on our entire dataset so we have really overfit the data"
   ]
  },
  {
   "cell_type": "markdown",
   "metadata": {},
   "source": [
    "The Linear Regression Part of this Notebook is purely a toy problem, not expected to yield any respectable results. Therefore I will not bother with train/test split and cross validation techniques yet - even if those do raise my model's score, they won't compensate for the lack of data."
   ]
  },
  {
   "cell_type": "code",
   "execution_count": 22,
   "metadata": {
    "collapsed": false
   },
   "outputs": [
    {
     "data": {
      "image/png": "[encoded data removed]",
      "text/plain": [
       "<matplotlib.figure.Figure at 0x10c08b090>"
      ]
     },
     "metadata": {},
     "output_type": "display_data"
    }
   ],
   "source": [
    "# Visualization using Seaborn:\n",
    "\n",
    "sns.lmplot(x=\"Med_Income\", y=\"Score\", data=average_scores);"
   ]
  },
  {
   "cell_type": "code",
   "execution_count": 23,
   "metadata": {
    "collapsed": false
   },
   "outputs": [
    {
     "name": "stdout",
     "output_type": "stream",
     "text": [
      "The Pearson Correlation coefficient between Median Income and Average Score is 0.593394653744\n"
     ]
    }
   ],
   "source": [
    "print \"The Pearson Correlation coefficient between Median Income and Average Score is {0}\".\\\n",
    "format(np.corrcoef(average_scores['Med_Income'].values, average_scores['Score'].values)[1][0])"
   ]
  },
  {
   "cell_type": "markdown",
   "metadata": {},
   "source": [
    "We can see from the scatterplot and the Pearson Correlation Coefficient that there is indeed a weak positive correlation between the two quantities. Recall that **for Simple Linear Regression models like ours, the square of the Pearson Correlation Coefficient is equal to the R-squared parameter** we have calculated above, i.e. the fraction of the variance in our data explained by our model."
   ]
  },
  {
   "cell_type": "markdown",
   "metadata": {},
   "source": [
    "##### Predict Score using zip code's Population"
   ]
  },
  {
   "cell_type": "markdown",
   "metadata": {},
   "source": [
    "The process is exactly the same as above:"
   ]
  },
  {
   "cell_type": "code",
   "execution_count": 24,
   "metadata": {
    "collapsed": true
   },
   "outputs": [],
   "source": [
    "from sklearn.linear_model import LinearRegression\n",
    "lm = LinearRegression()\n",
    "\n",
    "X = average_scores['Population'].values\n",
    "y = average_scores['Score'].values"
   ]
  },
  {
   "cell_type": "code",
   "execution_count": 25,
   "metadata": {
    "collapsed": false
   },
   "outputs": [
    {
     "name": "stdout",
     "output_type": "stream",
     "text": [
      "(34,)\n",
      "(34,)\n"
     ]
    }
   ],
   "source": [
    "# Check the shapes of the X and y vectors:\n",
    "\n",
    "print X.shape\n",
    "print y.shape"
   ]
  },
  {
   "cell_type": "code",
   "execution_count": 26,
   "metadata": {
    "collapsed": true
   },
   "outputs": [],
   "source": [
    "# Reshape to get them to work when we fit the model:\n",
    "\n",
    "X = X.reshape(34,1);\n",
    "y = y.reshape(34,1);"
   ]
  },
  {
   "cell_type": "code",
   "execution_count": 27,
   "metadata": {
    "collapsed": false
   },
   "outputs": [
    {
     "name": "stdout",
     "output_type": "stream",
     "text": [
      "[ 92.10987875]\n",
      "[[ -4.91500312e-05]]\n"
     ]
    }
   ],
   "source": [
    "# Fit linear regression model:\n",
    "lm.fit(X, y)\n",
    "\n",
    "# print intercept and coefficients\n",
    "print lm.intercept_\n",
    "print lm.coef_"
   ]
  },
  {
   "cell_type": "code",
   "execution_count": 28,
   "metadata": {
    "collapsed": false
   },
   "outputs": [
    {
     "data": {
      "text/plain": [
       "0.12270867617781611"
      ]
     },
     "execution_count": 28,
     "metadata": {},
     "output_type": "execute_result"
    }
   ],
   "source": [
    "# And score it:\n",
    "\n",
    "lm.score(X,y)"
   ]
  },
  {
   "cell_type": "markdown",
   "metadata": {},
   "source": [
    "I was expecting a much lower score for this model compared to the previous one. Population isn't really a good indicator of restaurants' health inspection scores, since the more populous Zip Codes (for instance: 78704) correspond to really diverse neighborhoods with a large variety of establishments of all kinds. This will end up being an important result of this entire project: Austin's areas are really diverse.\n",
    "\n",
    "Of course, the arguments from above against much faith in this model still stand: we have 35 pairs of data points and we are overfitting."
   ]
  },
  {
   "cell_type": "code",
   "execution_count": 29,
   "metadata": {
    "collapsed": false
   },
   "outputs": [
    {
     "data": {
      "image/png": "[encoded data removed]",
      "text/plain": [
       "<matplotlib.figure.Figure at 0x10c3ac110>"
      ]
     },
     "metadata": {},
     "output_type": "display_data"
    }
   ],
   "source": [
    "# Visualization using Seaborn:\n",
    "\n",
    "sns.lmplot(x=\"Population\", y=\"Score\", data=average_scores);"
   ]
  },
  {
   "cell_type": "code",
   "execution_count": 30,
   "metadata": {
    "collapsed": false
   },
   "outputs": [
    {
     "name": "stdout",
     "output_type": "stream",
     "text": [
      "The Pearson Correlation coefficient between Population and Average Score is -0.350297981978\n"
     ]
    }
   ],
   "source": [
    "print \"The Pearson Correlation coefficient between Population and Average Score is {0}\".\\\n",
    "format(np.corrcoef(average_scores['Population'].values, average_scores['Score'].values)[1][0])"
   ]
  },
  {
   "cell_type": "markdown",
   "metadata": {},
   "source": [
    "It is quite interesting that the correlation between the two quantities is negative. Of course this could just mean that the really \"small\" Zip Codes correspond to rather affluent (and hence, sparsely populated) neighborhoods with very few restaurants that probably score really well in the inspection."
   ]
  },
  {
   "cell_type": "markdown",
   "metadata": {},
   "source": [
    "Another thing to take into account is that the slope of this \"best fit\" line is really minuscule. This means that if our model had any merit, in order for us to predict a failing score of 69, the population of an imaginary Zip Code would have to be almost... 450,000 people!"
   ]
  },
  {
   "cell_type": "code",
   "execution_count": 36,
   "metadata": {
    "collapsed": false
   },
   "outputs": [
    {
     "name": "stdout",
     "output_type": "stream",
     "text": [
      "For a predicted score: 69.9923646907 (just below the cutoff), the population would have to be 450000\n"
     ]
    }
   ],
   "source": [
    "print \"For a predicted score: {0} (just below the cutoff), the population would have to be {1}\".\\\n",
    "format(lm.predict(450000)[0][0], 450000)"
   ]
  },
  {
   "cell_type": "markdown",
   "metadata": {},
   "source": [
    "##### Predict Score using zip code's Home Ownership"
   ]
  },
  {
   "cell_type": "markdown",
   "metadata": {},
   "source": [
    "As above:"
   ]
  },
  {
   "cell_type": "code",
   "execution_count": 37,
   "metadata": {
    "collapsed": true
   },
   "outputs": [],
   "source": [
    "from sklearn.linear_model import LinearRegression\n",
    "lm = LinearRegression()\n",
    "\n",
    "X = average_scores['Home_Ownership'].values\n",
    "y = average_scores['Score'].values"
   ]
  },
  {
   "cell_type": "code",
   "execution_count": 38,
   "metadata": {
    "collapsed": true
   },
   "outputs": [],
   "source": [
    "# Reshape the X and y vectors to get them to work when we fit the model:\n",
    "\n",
    "X = X.reshape(34,1);\n",
    "y = y.reshape(34,1);"
   ]
  },
  {
   "cell_type": "code",
   "execution_count": 39,
   "metadata": {
    "collapsed": false
   },
   "outputs": [
    {
     "name": "stdout",
     "output_type": "stream",
     "text": [
      "[ 89.89354972]\n",
      "[[ 2.30023946]]\n"
     ]
    }
   ],
   "source": [
    "# Fit linear regression model:\n",
    "lm.fit(X, y)\n",
    "\n",
    "# print intercept and coefficients\n",
    "print lm.intercept_\n",
    "print lm.coef_"
   ]
  },
  {
   "cell_type": "code",
   "execution_count": 40,
   "metadata": {
    "collapsed": false
   },
   "outputs": [
    {
     "data": {
      "text/plain": [
       "0.081301381948750584"
      ]
     },
     "execution_count": 40,
     "metadata": {},
     "output_type": "execute_result"
    }
   ],
   "source": [
    "# And score it:\n",
    "\n",
    "lm.score(X,y)"
   ]
  },
  {
   "cell_type": "markdown",
   "metadata": {},
   "source": [
    "This is quite an interesting and even unexpected result, since we had this predisposition to believe that since Median Income and Home Ownership Percentages are (or should be) strongly correlated, then the percentage of Home Ownership should be a respectable indicator (if not a predictor) for successful restaurants in the context of Health Inspections. It seems it doesn't play such a role though."
   ]
  },
  {
   "cell_type": "markdown",
   "metadata": {},
   "source": [
    "Austinites seem to prefer renting rather than buying, given the state of the Real Estate market, and some of the very affluent Zip Codes downtown have excellent restaurant scores but very few home owners. Of course the strong arguments against any predictive model still stand: very few data points and overfitting."
   ]
  },
  {
   "cell_type": "code",
   "execution_count": 41,
   "metadata": {
    "collapsed": false
   },
   "outputs": [
    {
     "data": {
      "image/png": "[encoded data removed]",
      "text/plain": [
       "<matplotlib.figure.Figure at 0x10c37e450>"
      ]
     },
     "metadata": {},
     "output_type": "display_data"
    }
   ],
   "source": [
    "# Visualization using Seaborn:\n",
    "\n",
    "sns.lmplot(x=\"Home_Ownership\", y=\"Score\", data=average_scores);"
   ]
  },
  {
   "cell_type": "markdown",
   "metadata": {},
   "source": [
    "This \"best fit\" line illustrates how disastrous this model is. Since the percentage of home owners in a Zip Code is bounded between 0 and 100%, the model \"predicts\" that all restaurants, regardless of Home_Ownership fraction, would score between 90 and 92, without taking into account uncertainty for the slope..."
   ]
  },
  {
   "cell_type": "markdown",
   "metadata": {},
   "source": [
    "And for completeness:"
   ]
  },
  {
   "cell_type": "code",
   "execution_count": 42,
   "metadata": {
    "collapsed": false
   },
   "outputs": [
    {
     "name": "stdout",
     "output_type": "stream",
     "text": [
      "The Pearson Correlation coefficient between Home Ownership Percentage and Average Score is 0.28513397193\n"
     ]
    }
   ],
   "source": [
    "print \"The Pearson Correlation coefficient between Home Ownership Percentage and Average Score is {0}\".\\\n",
    "format(np.corrcoef(average_scores['Home_Ownership'].values, average_scores['Score'].values)[1][0])"
   ]
  },
  {
   "cell_type": "markdown",
   "metadata": {},
   "source": [
    "The three attempts for individual linear regression predictive models have not really made us any wiser, even though they did at least show us some broad trends pertinent to our data set, which we could loosely extrapolate to other urban areas with the characteristics of Austin. (good luck with that!)\n",
    "\n",
    "To complete our toy problem, let us attempt to fit a multiple linear regression model to our data; Let us try to predict the average score of health inspections on a Zip Code when all three features are given as inputs.\n"
   ]
  },
  {
   "cell_type": "markdown",
   "metadata": {},
   "source": [
    "##### Multiple Linear Regression: Predict Score using zip code's numerics: Median Income, Population and Home Ownership"
   ]
  },
  {
   "cell_type": "code",
   "execution_count": 43,
   "metadata": {
    "collapsed": true
   },
   "outputs": [],
   "source": [
    "feature_cols = ['Med_Income', 'Population', 'Home_Ownership']"
   ]
  },
  {
   "cell_type": "code",
   "execution_count": 44,
   "metadata": {
    "collapsed": false
   },
   "outputs": [],
   "source": [
    "from sklearn.linear_model import LinearRegression\n",
    "lm = LinearRegression()\n",
    "\n",
    "X = average_scores[feature_cols]\n",
    "y = average_scores['Score'].values"
   ]
  },
  {
   "cell_type": "code",
   "execution_count": 45,
   "metadata": {
    "collapsed": false
   },
   "outputs": [
    {
     "name": "stdout",
     "output_type": "stream",
     "text": [
      "(34, 3)\n",
      "(34,)\n"
     ]
    }
   ],
   "source": [
    "# Check the shapes of the X and y vectors:\n",
    "\n",
    "print X.shape\n",
    "print y.shape"
   ]
  },
  {
   "cell_type": "code",
   "execution_count": 46,
   "metadata": {
    "collapsed": true
   },
   "outputs": [],
   "source": [
    "y = y.reshape(34,1);"
   ]
  },
  {
   "cell_type": "code",
   "execution_count": 47,
   "metadata": {
    "collapsed": false
   },
   "outputs": [
    {
     "name": "stdout",
     "output_type": "stream",
     "text": [
      "[ 90.47988829]\n",
      "[[  6.05003631e-05  -3.66661204e-05  -4.05780405e+00]]\n"
     ]
    }
   ],
   "source": [
    "# Fit linear regression model:\n",
    "lm.fit(X, y)\n",
    "\n",
    "# print intercept and coefficients\n",
    "print lm.intercept_\n",
    "print lm.coef_"
   ]
  },
  {
   "cell_type": "code",
   "execution_count": 48,
   "metadata": {
    "collapsed": false
   },
   "outputs": [
    {
     "data": {
      "text/plain": [
       "0.46417897248322382"
      ]
     },
     "execution_count": 48,
     "metadata": {},
     "output_type": "execute_result"
    }
   ],
   "source": [
    "# And score it:\n",
    "\n",
    "lm.score(X,y)"
   ]
  },
  {
   "cell_type": "markdown",
   "metadata": {},
   "source": [
    "Now this would have been a very interesting plot, had it been possible to graph in 4 dimensions! It seems that our combined model has managed to explain almost 50% of the variance in our data, and this successfully concludes this section. There is no way to get accurate predictions of a restaurant's score if we don't obtain other features that will help us make more educated assumptions."
   ]
  },
  {
   "cell_type": "markdown",
   "metadata": {},
   "source": [
    "As we have discussed, this looks primarily like a classification problem. We are going to use the multitude of information we have for each restaurant (like its location, the cuisine, even the address) trying to classify it in one of two or more categories. I will discuss this in more detail in the next section."
   ]
  },
  {
   "cell_type": "markdown",
   "metadata": {},
   "source": [
    "### Next: Supervised Learning - Classification"
   ]
  }
 ],
 "metadata": {
  "kernelspec": {
   "display_name": "Python 2",
   "language": "python",
   "name": "python2"
  },
  "language_info": {
   "codemirror_mode": {
    "name": "ipython",
    "version": 2
   },
   "file_extension": ".py",
   "mimetype": "text/x-python",
   "name": "python",
   "nbconvert_exporter": "python",
   "pygments_lexer": "ipython2",
   "version": "2.7.11"
  }
 },
 "nbformat": 4,
 "nbformat_minor": 0
}
