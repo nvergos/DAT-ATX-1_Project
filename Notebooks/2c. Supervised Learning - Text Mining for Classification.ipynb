{
 "cells": [
  {
   "cell_type": "markdown",
   "metadata": {},
   "source": [
    "# DAT-ATX-1 Capstone Project"
   ]
  },
  {
   "cell_type": "markdown",
   "metadata": {},
   "source": [
    "#### Nikolaos Vergos, February 2016\n",
    "<nvergos@gmail.com>"
   ]
  },
  {
   "cell_type": "markdown",
   "metadata": {},
   "source": [
    "## 2c. Supervised Learning: Textual Analysis - Naïve Bayes Classification"
   ]
  },
  {
   "cell_type": "markdown",
   "metadata": {},
   "source": [
    "We will now shift gears and reformulate our question: we are going to shift to **textual data** (a restaurant's name and its street) as features predicting whether it has scored an A at the health inspection. This should lead to a more interesting analysis than the poor one we conducted based on the categorical variable of area."
   ]
  },
  {
   "cell_type": "markdown",
   "metadata": {},
   "source": [
    "The outline of the procedure we are going to follow is:"
   ]
  },
  {
   "cell_type": "markdown",
   "metadata": {},
   "source": [
    "- Turn a corpus of text documents (restaurant names, street addresses) into **feature vectors** using a **Bag of Words** representation,\n",
    "- Train a simple text classifier (Multinomial Naive Bayesian) on the feature vectors,\n",
    "- Wrap the vectorizer and the classifier with a **pipeline**,\n",
    "- Cross-validation and **model selection** on the pipeline."
   ]
  },
  {
   "cell_type": "markdown",
   "metadata": {},
   "source": [
    "### 0. Import libraries & packages"
   ]
  },
  {
   "cell_type": "code",
   "execution_count": 1,
   "metadata": {
    "collapsed": true
   },
   "outputs": [],
   "source": [
    "import warnings\n",
    "warnings.filterwarnings('ignore')"
   ]
  },
  {
   "cell_type": "code",
   "execution_count": 3,
   "metadata": {
    "collapsed": false
   },
   "outputs": [
    {
     "data": {
      "text/plain": [
       "<matplotlib.figure.Figure at 0x117334c50>"
      ]
     },
     "metadata": {},
     "output_type": "display_data"
    }
   ],
   "source": [
    "import pandas as pd\n",
    "import numpy as np\n",
    "import matplotlib.pyplot as plt\n",
    "%matplotlib inline\n",
    "\n",
    "import seaborn as sns\n",
    "sns.set(rc={\"axes.labelsize\": 15});\n",
    "\n",
    "# Some nice default configuration for plots\n",
    "plt.rcParams['figure.figsize'] = 10, 7.5;\n",
    "plt.rcParams['axes.grid'] = True;\n",
    "plt.gray();"
   ]
  },
  {
   "cell_type": "markdown",
   "metadata": {},
   "source": [
    "### 1. Import dataset"
   ]
  },
  {
   "cell_type": "code",
   "execution_count": 4,
   "metadata": {
    "collapsed": false
   },
   "outputs": [
    {
     "data": {
      "text/html": [
       "<div>\n",
       "<table border=\"1\" class=\"dataframe\">\n",
       "  <thead>\n",
       "    <tr style=\"text-align: right;\">\n",
       "      <th></th>\n",
       "      <th>Facility_ID</th>\n",
       "      <th>Restaurant_Name</th>\n",
       "      <th>Inspection_Date</th>\n",
       "      <th>Process_Description</th>\n",
       "      <th>Geocode</th>\n",
       "      <th>Street</th>\n",
       "      <th>City</th>\n",
       "      <th>Zip_Code</th>\n",
       "      <th>Score</th>\n",
       "      <th>Latitude</th>\n",
       "      <th>...</th>\n",
       "      <th>Letter_Grade</th>\n",
       "      <th>Area_NE Austin</th>\n",
       "      <th>Area_NW Austin</th>\n",
       "      <th>Area_SE Austin</th>\n",
       "      <th>Area_SW Austin</th>\n",
       "      <th>Status_Pass</th>\n",
       "      <th>Grade_B</th>\n",
       "      <th>Grade_C</th>\n",
       "      <th>Grade_F</th>\n",
       "      <th>Pristine</th>\n",
       "    </tr>\n",
       "  </thead>\n",
       "  <tbody>\n",
       "    <tr>\n",
       "      <th>0</th>\n",
       "      <td>2801996</td>\n",
       "      <td>Mr. Gatti's #118</td>\n",
       "      <td>2015-12-23</td>\n",
       "      <td>Routine Inspection</td>\n",
       "      <td>2121 W PARMER LN, AUSTIN, TX 78758</td>\n",
       "      <td>2121 W PARMER LN</td>\n",
       "      <td>AUSTIN</td>\n",
       "      <td>78758</td>\n",
       "      <td>94</td>\n",
       "      <td>30.415649</td>\n",
       "      <td>...</td>\n",
       "      <td>A</td>\n",
       "      <td>0</td>\n",
       "      <td>1</td>\n",
       "      <td>0</td>\n",
       "      <td>0</td>\n",
       "      <td>1</td>\n",
       "      <td>0</td>\n",
       "      <td>0</td>\n",
       "      <td>0</td>\n",
       "      <td>1</td>\n",
       "    </tr>\n",
       "    <tr>\n",
       "      <th>1</th>\n",
       "      <td>10385802</td>\n",
       "      <td>Subway</td>\n",
       "      <td>2015-12-23</td>\n",
       "      <td>Routine Inspection</td>\n",
       "      <td>2501 W PARMER LN, AUSTIN, TX 78758</td>\n",
       "      <td>2501 W PARMER LN</td>\n",
       "      <td>AUSTIN</td>\n",
       "      <td>78758</td>\n",
       "      <td>98</td>\n",
       "      <td>30.418236</td>\n",
       "      <td>...</td>\n",
       "      <td>A</td>\n",
       "      <td>0</td>\n",
       "      <td>1</td>\n",
       "      <td>0</td>\n",
       "      <td>0</td>\n",
       "      <td>1</td>\n",
       "      <td>0</td>\n",
       "      <td>0</td>\n",
       "      <td>0</td>\n",
       "      <td>1</td>\n",
       "    </tr>\n",
       "    <tr>\n",
       "      <th>2</th>\n",
       "      <td>2802274</td>\n",
       "      <td>Baskin Robbins</td>\n",
       "      <td>2015-12-23</td>\n",
       "      <td>Routine Inspection</td>\n",
       "      <td>12407 N MOPAC EXPY, AUSTIN, TX 78758</td>\n",
       "      <td>12407 N MOPAC EXPY</td>\n",
       "      <td>AUSTIN</td>\n",
       "      <td>78758</td>\n",
       "      <td>99</td>\n",
       "      <td>30.417462</td>\n",
       "      <td>...</td>\n",
       "      <td>A</td>\n",
       "      <td>0</td>\n",
       "      <td>1</td>\n",
       "      <td>0</td>\n",
       "      <td>0</td>\n",
       "      <td>1</td>\n",
       "      <td>0</td>\n",
       "      <td>0</td>\n",
       "      <td>0</td>\n",
       "      <td>1</td>\n",
       "    </tr>\n",
       "    <tr>\n",
       "      <th>3</th>\n",
       "      <td>10964220</td>\n",
       "      <td>JR's Tacos</td>\n",
       "      <td>2015-12-22</td>\n",
       "      <td>Routine Inspection</td>\n",
       "      <td>1921 CEDAR BEND DR, AUSTIN, TX 78758</td>\n",
       "      <td>1921 CEDAR BEND DR</td>\n",
       "      <td>AUSTIN</td>\n",
       "      <td>78758</td>\n",
       "      <td>91</td>\n",
       "      <td>30.408322</td>\n",
       "      <td>...</td>\n",
       "      <td>A</td>\n",
       "      <td>0</td>\n",
       "      <td>1</td>\n",
       "      <td>0</td>\n",
       "      <td>0</td>\n",
       "      <td>1</td>\n",
       "      <td>0</td>\n",
       "      <td>0</td>\n",
       "      <td>0</td>\n",
       "      <td>1</td>\n",
       "    </tr>\n",
       "    <tr>\n",
       "      <th>4</th>\n",
       "      <td>10778546</td>\n",
       "      <td>Econo Lodge</td>\n",
       "      <td>2015-12-22</td>\n",
       "      <td>Routine Inspection</td>\n",
       "      <td>9100 BURNET RD, AUSTIN, TX 78758</td>\n",
       "      <td>9100 BURNET RD</td>\n",
       "      <td>AUSTIN</td>\n",
       "      <td>78758</td>\n",
       "      <td>91</td>\n",
       "      <td>30.374790</td>\n",
       "      <td>...</td>\n",
       "      <td>A</td>\n",
       "      <td>0</td>\n",
       "      <td>1</td>\n",
       "      <td>0</td>\n",
       "      <td>0</td>\n",
       "      <td>1</td>\n",
       "      <td>0</td>\n",
       "      <td>0</td>\n",
       "      <td>0</td>\n",
       "      <td>1</td>\n",
       "    </tr>\n",
       "  </tbody>\n",
       "</table>\n",
       "<p>5 rows × 23 columns</p>\n",
       "</div>"
      ],
      "text/plain": [
       "   Facility_ID   Restaurant_Name Inspection_Date Process_Description  \\\n",
       "0      2801996  Mr. Gatti's #118      2015-12-23  Routine Inspection   \n",
       "1     10385802            Subway      2015-12-23  Routine Inspection   \n",
       "2      2802274    Baskin Robbins      2015-12-23  Routine Inspection   \n",
       "3     10964220        JR's Tacos      2015-12-22  Routine Inspection   \n",
       "4     10778546       Econo Lodge      2015-12-22  Routine Inspection   \n",
       "\n",
       "                                Geocode              Street    City  Zip_Code  \\\n",
       "0    2121 W PARMER LN, AUSTIN, TX 78758    2121 W PARMER LN  AUSTIN     78758   \n",
       "1    2501 W PARMER LN, AUSTIN, TX 78758    2501 W PARMER LN  AUSTIN     78758   \n",
       "2  12407 N MOPAC EXPY, AUSTIN, TX 78758  12407 N MOPAC EXPY  AUSTIN     78758   \n",
       "3  1921 CEDAR BEND DR, AUSTIN, TX 78758  1921 CEDAR BEND DR  AUSTIN     78758   \n",
       "4      9100 BURNET RD, AUSTIN, TX 78758      9100 BURNET RD  AUSTIN     78758   \n",
       "\n",
       "   Score   Latitude    ...     Letter_Grade Area_NE Austin Area_NW Austin  \\\n",
       "0     94  30.415649    ...                A              0              1   \n",
       "1     98  30.418236    ...                A              0              1   \n",
       "2     99  30.417462    ...                A              0              1   \n",
       "3     91  30.408322    ...                A              0              1   \n",
       "4     91  30.374790    ...                A              0              1   \n",
       "\n",
       "  Area_SE Austin  Area_SW Austin  Status_Pass  Grade_B  Grade_C  Grade_F  \\\n",
       "0              0               0            1        0        0        0   \n",
       "1              0               0            1        0        0        0   \n",
       "2              0               0            1        0        0        0   \n",
       "3              0               0            1        0        0        0   \n",
       "4              0               0            1        0        0        0   \n",
       "\n",
       "   Pristine  \n",
       "0         1  \n",
       "1         1  \n",
       "2         1  \n",
       "3         1  \n",
       "4         1  \n",
       "\n",
       "[5 rows x 23 columns]"
      ]
     },
     "execution_count": 4,
     "metadata": {},
     "output_type": "execute_result"
    }
   ],
   "source": [
    "#Reading the dataset in a dataframe using Pandas\n",
    "df = pd.read_csv(\"../data/data.csv\")  \n",
    "\n",
    "#Print first observations\n",
    "df.head() "
   ]
  },
  {
   "cell_type": "markdown",
   "metadata": {},
   "source": [
    "#### String Manipulation: Restaurant Names"
   ]
  },
  {
   "cell_type": "markdown",
   "metadata": {},
   "source": [
    "Let us start our manipulation of **restaurant names**:"
   ]
  },
  {
   "cell_type": "code",
   "execution_count": 5,
   "metadata": {
    "collapsed": false
   },
   "outputs": [],
   "source": [
    "Names = pd.Series(df['Restaurant_Name'].values)"
   ]
  },
  {
   "cell_type": "markdown",
   "metadata": {},
   "source": [
    "We will remove all words that are 3 characters long or smaller:"
   ]
  },
  {
   "cell_type": "code",
   "execution_count": 6,
   "metadata": {
    "collapsed": true
   },
   "outputs": [],
   "source": [
    "import re\n",
    "shortword = re.compile(r'\\W*\\b\\w{1,3}\\b')"
   ]
  },
  {
   "cell_type": "code",
   "execution_count": 7,
   "metadata": {
    "collapsed": false
   },
   "outputs": [],
   "source": [
    "for i in range(len(Names)):\n",
    "    Names[i] = shortword.sub('', Names[i])"
   ]
  },
  {
   "cell_type": "code",
   "execution_count": 8,
   "metadata": {
    "collapsed": false
   },
   "outputs": [
    {
     "data": {
      "text/plain": [
       "' Tacos'"
      ]
     },
     "execution_count": 8,
     "metadata": {},
     "output_type": "execute_result"
    }
   ],
   "source": [
    "# As an example, \"JR's Tacos\" is now just \" Tacos\"\n",
    "\n",
    "Names[3]"
   ]
  },
  {
   "cell_type": "code",
   "execution_count": 9,
   "metadata": {
    "collapsed": true
   },
   "outputs": [],
   "source": [
    "# Add a new column into our DataFrame:\n",
    "\n",
    "df['Names'] = Names"
   ]
  },
  {
   "cell_type": "code",
   "execution_count": 10,
   "metadata": {
    "collapsed": false
   },
   "outputs": [
    {
     "data": {
      "text/plain": [
       "0              . Gatti\n",
       "1               Subway\n",
       "2       Baskin Robbins\n",
       "3                Tacos\n",
       "4          Econo Lodge\n",
       "5    Shahi Food Market\n",
       "6                Speed\n",
       "7               Jasper\n",
       "8      Papa John Pizza\n",
       "9        Subway #43067\n",
       "Name: Names, dtype: object"
      ]
     },
     "execution_count": 10,
     "metadata": {},
     "output_type": "execute_result"
    }
   ],
   "source": [
    "df['Names'].head(10)"
   ]
  },
  {
   "cell_type": "code",
   "execution_count": 11,
   "metadata": {
    "collapsed": false
   },
   "outputs": [
    {
     "data": {
      "text/plain": [
       "Index([u'Facility_ID', u'Restaurant_Name', u'Inspection_Date',\n",
       "       u'Process_Description', u'Geocode', u'Street', u'City', u'Zip_Code',\n",
       "       u'Score', u'Latitude', u'Longitude', u'Area', u'Status',\n",
       "       u'Letter_Grade', u'Area_NE Austin', u'Area_NW Austin',\n",
       "       u'Area_SE Austin', u'Area_SW Austin', u'Status_Pass', u'Grade_B',\n",
       "       u'Grade_C', u'Grade_F', u'Pristine', u'Names'],\n",
       "      dtype='object')"
      ]
     },
     "execution_count": 11,
     "metadata": {},
     "output_type": "execute_result"
    }
   ],
   "source": [
    "df.columns"
   ]
  },
  {
   "cell_type": "markdown",
   "metadata": {
    "collapsed": true
   },
   "source": [
    "Our first collection of feature vectors will come from the new \"Names\" column. We are still trying to predict whether a restaurant falls under the \"pristine\" category (Grade A, score greater than 90) or not. We could also try to see whether we could predict a restaurant's grade (A, B, C or F)"
   ]
  },
  {
   "cell_type": "markdown",
   "metadata": {},
   "source": [
    "### 2. Text Classification using a Naive Bayes Classifier"
   ]
  },
  {
   "cell_type": "markdown",
   "metadata": {},
   "source": [
    "#### Restaurant Name"
   ]
  },
  {
   "cell_type": "code",
   "execution_count": 12,
   "metadata": {
    "collapsed": false
   },
   "outputs": [
    {
     "name": "stdout",
     "output_type": "stream",
     "text": [
      "Training score: 70.1%\n",
      "Testing score: 65.7%\n"
     ]
    }
   ],
   "source": [
    "from sklearn.feature_extraction.text import CountVectorizer\n",
    "from sklearn import cross_validation\n",
    "from sklearn.naive_bayes import MultinomialNB\n",
    "\n",
    "# Turn the text documents into Bag of Words feature vectors\n",
    "# We'll throw out any terms that appear in only one document\n",
    "\n",
    "vectorizer = CountVectorizer(min_df=1, stop_words=\"english\")\n",
    "\n",
    "X = vectorizer.fit_transform(df['Names'])\n",
    "y = df['Letter_Grade']\n",
    "\n",
    "# Train/test split for cross-validation\n",
    "X_train, X_test, y_train, y_test = cross_validation.train_test_split(X, y, train_size = 0.8)\n",
    "\n",
    "# Fit a classifier on the training set\n",
    "\n",
    "classifier = MultinomialNB().fit(X_train, y_train)\n",
    "print(\"Training score: {0:.1f}%\".format(\n",
    "    classifier.score(X_train, y_train) * 100))\n",
    "\n",
    "# Evaluate the classifier on the testing set\n",
    "\n",
    "print(\"Testing score: {0:.1f}%\".format(\n",
    "    classifier.score(X_test, y_test) * 100))"
   ]
  },
  {
   "cell_type": "markdown",
   "metadata": {},
   "source": [
    "It seems our Multinomial Naive Bayes classifier does significantly better on predicting a restaurant's status (whether it has gotten a \"pristine\" score\" or not) given the restaurant's name than what we have seen so far with the area of town division."
   ]
  },
  {
   "cell_type": "code",
   "execution_count": 13,
   "metadata": {
    "collapsed": true
   },
   "outputs": [],
   "source": [
    "# Some information about our Bag of Words feature vector:"
   ]
  },
  {
   "cell_type": "code",
   "execution_count": 14,
   "metadata": {
    "collapsed": false
   },
   "outputs": [
    {
     "data": {
      "text/plain": [
       "28768"
      ]
     },
     "execution_count": 14,
     "metadata": {},
     "output_type": "execute_result"
    }
   ],
   "source": [
    "len(X_train.data)"
   ]
  },
  {
   "cell_type": "code",
   "execution_count": 15,
   "metadata": {
    "collapsed": true
   },
   "outputs": [],
   "source": [
    "n_samples, n_features = X_train.shape"
   ]
  },
  {
   "cell_type": "code",
   "execution_count": 16,
   "metadata": {
    "collapsed": false
   },
   "outputs": [
    {
     "data": {
      "text/plain": [
       "12890"
      ]
     },
     "execution_count": 16,
     "metadata": {},
     "output_type": "execute_result"
    }
   ],
   "source": [
    "n_samples"
   ]
  },
  {
   "cell_type": "code",
   "execution_count": 17,
   "metadata": {
    "collapsed": false
   },
   "outputs": [
    {
     "data": {
      "text/plain": [
       "2704"
      ]
     },
     "execution_count": 17,
     "metadata": {},
     "output_type": "execute_result"
    }
   ],
   "source": [
    "n_features"
   ]
  },
  {
   "cell_type": "code",
   "execution_count": 18,
   "metadata": {
    "collapsed": false
   },
   "outputs": [
    {
     "data": {
      "text/plain": [
       "2704"
      ]
     },
     "execution_count": 18,
     "metadata": {},
     "output_type": "execute_result"
    }
   ],
   "source": [
    "# The vocabulary of our vectorizer, i.e. the unique words comprising it:\n",
    "\n",
    "len(vectorizer.vocabulary_)"
   ]
  },
  {
   "cell_type": "code",
   "execution_count": 19,
   "metadata": {
    "collapsed": false
   },
   "outputs": [
    {
     "data": {
      "text/plain": [
       "[u'divines',\n",
       " u'dizzy',\n",
       " u'dobie',\n",
       " u'dock',\n",
       " u'doddy',\n",
       " u'dogs',\n",
       " u'dogwood',\n",
       " u'dolce',\n",
       " u'domain',\n",
       " u'domestic']"
      ]
     },
     "execution_count": 19,
     "metadata": {},
     "output_type": "execute_result"
    }
   ],
   "source": [
    "vectorizer.get_feature_names()[n_features / 3:n_features / 3 + 10]"
   ]
  },
  {
   "cell_type": "code",
   "execution_count": 20,
   "metadata": {
    "collapsed": false
   },
   "outputs": [],
   "source": [
    "target_predicted_proba = classifier.predict_proba(X_test)\n",
    "percentages = pd.DataFrame(target_predicted_proba, columns=df['Letter_Grade'].unique())"
   ]
  },
  {
   "cell_type": "code",
   "execution_count": 21,
   "metadata": {
    "collapsed": false
   },
   "outputs": [
    {
     "data": {
      "text/html": [
       "<div>\n",
       "<table border=\"1\" class=\"dataframe\">\n",
       "  <thead>\n",
       "    <tr style=\"text-align: right;\">\n",
       "      <th></th>\n",
       "      <th>A</th>\n",
       "      <th>B</th>\n",
       "      <th>C</th>\n",
       "      <th>F</th>\n",
       "    </tr>\n",
       "  </thead>\n",
       "  <tbody>\n",
       "    <tr>\n",
       "      <th>0</th>\n",
       "      <td>0.477308</td>\n",
       "      <td>0.351621</td>\n",
       "      <td>0.169233</td>\n",
       "      <td>1.838392e-03</td>\n",
       "    </tr>\n",
       "    <tr>\n",
       "      <th>1</th>\n",
       "      <td>0.999599</td>\n",
       "      <td>0.000399</td>\n",
       "      <td>0.000001</td>\n",
       "      <td>4.617823e-07</td>\n",
       "    </tr>\n",
       "    <tr>\n",
       "      <th>2</th>\n",
       "      <td>0.443248</td>\n",
       "      <td>0.395690</td>\n",
       "      <td>0.132699</td>\n",
       "      <td>2.836293e-02</td>\n",
       "    </tr>\n",
       "    <tr>\n",
       "      <th>3</th>\n",
       "      <td>0.831649</td>\n",
       "      <td>0.092802</td>\n",
       "      <td>0.062244</td>\n",
       "      <td>1.330407e-02</td>\n",
       "    </tr>\n",
       "    <tr>\n",
       "      <th>4</th>\n",
       "      <td>0.078374</td>\n",
       "      <td>0.599928</td>\n",
       "      <td>0.313887</td>\n",
       "      <td>7.810455e-03</td>\n",
       "    </tr>\n",
       "  </tbody>\n",
       "</table>\n",
       "</div>"
      ],
      "text/plain": [
       "          A         B         C             F\n",
       "0  0.477308  0.351621  0.169233  1.838392e-03\n",
       "1  0.999599  0.000399  0.000001  4.617823e-07\n",
       "2  0.443248  0.395690  0.132699  2.836293e-02\n",
       "3  0.831649  0.092802  0.062244  1.330407e-02\n",
       "4  0.078374  0.599928  0.313887  7.810455e-03"
      ]
     },
     "execution_count": 21,
     "metadata": {},
     "output_type": "execute_result"
    }
   ],
   "source": [
    "# A table of probabilities for each one of the 3223 restaurants in the test set to be assigned a certain letter grade:\n",
    "\n",
    "percentages.head()"
   ]
  },
  {
   "cell_type": "code",
   "execution_count": 22,
   "metadata": {
    "collapsed": false
   },
   "outputs": [
    {
     "data": {
      "text/plain": [
       "3223"
      ]
     },
     "execution_count": 22,
     "metadata": {},
     "output_type": "execute_result"
    }
   ],
   "source": [
    "len(percentages)"
   ]
  },
  {
   "cell_type": "markdown",
   "metadata": {},
   "source": [
    "By default the decision threshold is 0.5: if we vary the decision threshold from 0 to 1 we could generate a family of binary classifier models that address all the possible trade offs between false positive and false negative prediction errors."
   ]
  },
  {
   "cell_type": "markdown",
   "metadata": {},
   "source": [
    "Let us use a pipeline in order to perform 10-fold cross validation:"
   ]
  },
  {
   "cell_type": "code",
   "execution_count": 56,
   "metadata": {
    "collapsed": true
   },
   "outputs": [],
   "source": [
    "pipeline = Pipeline((\n",
    "    ('vec', CountVectorizer(max_df = 0.8, ngram_range = (1, 2))),\n",
    "    ('clf', MultinomialNB(alpha = 0.01)),\n",
    "))\n",
    "_ = pipeline.fit(df['Names'], df['Letter_Grade'])"
   ]
  },
  {
   "cell_type": "code",
   "execution_count": 57,
   "metadata": {
    "collapsed": false
   },
   "outputs": [
    {
     "data": {
      "text/plain": [
       "(0.52166700734667137, 0.021307751429222626)"
      ]
     },
     "execution_count": 57,
     "metadata": {},
     "output_type": "execute_result"
    }
   ],
   "source": [
    "from sklearn.cross_validation import cross_val_score\n",
    "from scipy.stats import sem\n",
    "\n",
    "scores = cross_val_score(pipeline, df['Names'],\n",
    "                         df['Letter_Grade'], cv=10)\n",
    "scores.mean(), sem(scores)"
   ]
  },
  {
   "cell_type": "code",
   "execution_count": 58,
   "metadata": {
    "collapsed": false
   },
   "outputs": [
    {
     "data": {
      "text/plain": [
       "(4, 5902)"
      ]
     },
     "execution_count": 58,
     "metadata": {},
     "output_type": "execute_result"
    }
   ],
   "source": [
    "vec_name, vec = pipeline.steps[0]\n",
    "clf_name, clf = pipeline.steps[1]\n",
    "\n",
    "feature_names = vec.get_feature_names()\n",
    "target_names = df['Letter_Grade'].unique()\n",
    "\n",
    "feature_weights = clf.coef_\n",
    "\n",
    "feature_weights.shape"
   ]
  },
  {
   "cell_type": "code",
   "execution_count": 59,
   "metadata": {
    "collapsed": false
   },
   "outputs": [
    {
     "data": {
      "text/plain": [
       "5902"
      ]
     },
     "execution_count": 59,
     "metadata": {},
     "output_type": "execute_result"
    }
   ],
   "source": [
    "len(feature_names)"
   ]
  },
  {
   "cell_type": "code",
   "execution_count": 60,
   "metadata": {
    "collapsed": true
   },
   "outputs": [],
   "source": [
    "def print_top10(vectorizer, clf, class_labels):\n",
    "    \"\"\"Prints features with the highest coefficient values, per class\"\"\"\n",
    "    feature_names = vectorizer.get_feature_names()\n",
    "    for i, class_label in enumerate(class_labels):\n",
    "        top10 = np.argsort(clf.coef_[i])[-10:]\n",
    "        print(\"%s: %s\" % (class_label,\n",
    "              \" \".join(feature_names[j] for j in top10)))"
   ]
  },
  {
   "cell_type": "code",
   "execution_count": 61,
   "metadata": {
    "collapsed": false
   },
   "outputs": [
    {
     "name": "stdout",
     "output_type": "stream",
     "text": [
      "A: slaughter caves mopac anderson capital congress william parmer lamar blvd\n",
      "B: mopac riverside springs capital anderson parmer congress william blvd lamar\n",
      "C: anderson springs stassney parmer riverside oltorf william congress blvd lamar\n",
      "F: parmer rundberg martin springs cesar congress riverside oltorf blvd lamar\n"
     ]
    }
   ],
   "source": [
    "print_top10(vectorizer, classifier, target_names)"
   ]
  },
  {
   "cell_type": "code",
   "execution_count": 62,
   "metadata": {
    "collapsed": true
   },
   "outputs": [],
   "source": [
    "from sklearn.metrics import classification_report\n",
    "\n",
    "predicted = pipeline.predict(df['Restaurant_Name'])"
   ]
  },
  {
   "cell_type": "code",
   "execution_count": 63,
   "metadata": {
    "collapsed": false
   },
   "outputs": [
    {
     "name": "stdout",
     "output_type": "stream",
     "text": [
      "             precision    recall  f1-score   support\n",
      "\n",
      "          A       0.82      0.80      0.81     10091\n",
      "          B       0.55      0.49      0.52      4391\n",
      "          C       0.41      0.50      0.45      1454\n",
      "          F       0.17      0.54      0.26       177\n",
      "\n",
      "avg / total       0.70      0.69      0.69     16113\n",
      "\n"
     ]
    }
   ],
   "source": [
    "print(classification_report(df['Letter_Grade'], predicted,\n",
    "                            target_names=df['Letter_Grade'].unique()))"
   ]
  },
  {
   "cell_type": "code",
   "execution_count": 64,
   "metadata": {
    "collapsed": false
   },
   "outputs": [
    {
     "data": {
      "text/html": [
       "<div>\n",
       "<table border=\"1\" class=\"dataframe\">\n",
       "  <thead>\n",
       "    <tr>\n",
       "      <th></th>\n",
       "      <th></th>\n",
       "      <th colspan=\"4\" halign=\"left\">predicted</th>\n",
       "    </tr>\n",
       "    <tr>\n",
       "      <th></th>\n",
       "      <th></th>\n",
       "      <th>A</th>\n",
       "      <th>B</th>\n",
       "      <th>C</th>\n",
       "      <th>F</th>\n",
       "    </tr>\n",
       "  </thead>\n",
       "  <tbody>\n",
       "    <tr>\n",
       "      <th rowspan=\"4\" valign=\"top\">actual</th>\n",
       "      <th>A</th>\n",
       "      <td>8083</td>\n",
       "      <td>1397</td>\n",
       "      <td>474</td>\n",
       "      <td>137</td>\n",
       "    </tr>\n",
       "    <tr>\n",
       "      <th>B</th>\n",
       "      <td>1462</td>\n",
       "      <td>2168</td>\n",
       "      <td>542</td>\n",
       "      <td>219</td>\n",
       "    </tr>\n",
       "    <tr>\n",
       "      <th>C</th>\n",
       "      <td>286</td>\n",
       "      <td>326</td>\n",
       "      <td>725</td>\n",
       "      <td>117</td>\n",
       "    </tr>\n",
       "    <tr>\n",
       "      <th>F</th>\n",
       "      <td>18</td>\n",
       "      <td>41</td>\n",
       "      <td>23</td>\n",
       "      <td>95</td>\n",
       "    </tr>\n",
       "  </tbody>\n",
       "</table>\n",
       "</div>"
      ],
      "text/plain": [
       "         predicted                \n",
       "                 A     B    C    F\n",
       "actual A      8083  1397  474  137\n",
       "       B      1462  2168  542  219\n",
       "       C       286   326  725  117\n",
       "       F        18    41   23   95"
      ]
     },
     "execution_count": 64,
     "metadata": {},
     "output_type": "execute_result"
    }
   ],
   "source": [
    "from sklearn.metrics import confusion_matrix\n",
    "\n",
    "pd.DataFrame(confusion_matrix(df['Letter_Grade'], predicted), \n",
    "             index = pd.MultiIndex.from_product([['actual'], target_names]),\n",
    "             columns = pd.MultiIndex.from_product([['predicted'], target_names]))"
   ]
  },
  {
   "cell_type": "markdown",
   "metadata": {},
   "source": [
    "#### String Manipulation: Street"
   ]
  },
  {
   "cell_type": "code",
   "execution_count": 65,
   "metadata": {
    "collapsed": false
   },
   "outputs": [
    {
     "data": {
      "text/html": [
       "<div>\n",
       "<table border=\"1\" class=\"dataframe\">\n",
       "  <thead>\n",
       "    <tr style=\"text-align: right;\">\n",
       "      <th></th>\n",
       "      <th>Facility_ID</th>\n",
       "      <th>Restaurant_Name</th>\n",
       "      <th>Inspection_Date</th>\n",
       "      <th>Process_Description</th>\n",
       "      <th>Geocode</th>\n",
       "      <th>Street</th>\n",
       "      <th>City</th>\n",
       "      <th>Zip_Code</th>\n",
       "      <th>Score</th>\n",
       "      <th>Latitude</th>\n",
       "      <th>...</th>\n",
       "      <th>Area_NW Austin</th>\n",
       "      <th>Area_SE Austin</th>\n",
       "      <th>Area_SW Austin</th>\n",
       "      <th>Status_Pass</th>\n",
       "      <th>Grade_B</th>\n",
       "      <th>Grade_C</th>\n",
       "      <th>Grade_F</th>\n",
       "      <th>Pristine</th>\n",
       "      <th>Names</th>\n",
       "      <th>Street_Words</th>\n",
       "    </tr>\n",
       "  </thead>\n",
       "  <tbody>\n",
       "    <tr>\n",
       "      <th>0</th>\n",
       "      <td>2801996</td>\n",
       "      <td>. Gatti</td>\n",
       "      <td>2015-12-23</td>\n",
       "      <td>Routine Inspection</td>\n",
       "      <td>2121 W PARMER LN, AUSTIN, TX 78758</td>\n",
       "      <td>2121 W PARMER LN</td>\n",
       "      <td>AUSTIN</td>\n",
       "      <td>78758</td>\n",
       "      <td>94</td>\n",
       "      <td>30.415649</td>\n",
       "      <td>...</td>\n",
       "      <td>1</td>\n",
       "      <td>0</td>\n",
       "      <td>0</td>\n",
       "      <td>1</td>\n",
       "      <td>0</td>\n",
       "      <td>0</td>\n",
       "      <td>0</td>\n",
       "      <td>1</td>\n",
       "      <td>. Gatti</td>\n",
       "      <td>PARMER</td>\n",
       "    </tr>\n",
       "    <tr>\n",
       "      <th>1</th>\n",
       "      <td>10385802</td>\n",
       "      <td>Subway</td>\n",
       "      <td>2015-12-23</td>\n",
       "      <td>Routine Inspection</td>\n",
       "      <td>2501 W PARMER LN, AUSTIN, TX 78758</td>\n",
       "      <td>2501 W PARMER LN</td>\n",
       "      <td>AUSTIN</td>\n",
       "      <td>78758</td>\n",
       "      <td>98</td>\n",
       "      <td>30.418236</td>\n",
       "      <td>...</td>\n",
       "      <td>1</td>\n",
       "      <td>0</td>\n",
       "      <td>0</td>\n",
       "      <td>1</td>\n",
       "      <td>0</td>\n",
       "      <td>0</td>\n",
       "      <td>0</td>\n",
       "      <td>1</td>\n",
       "      <td>Subway</td>\n",
       "      <td>PARMER</td>\n",
       "    </tr>\n",
       "    <tr>\n",
       "      <th>2</th>\n",
       "      <td>2802274</td>\n",
       "      <td>Baskin Robbins</td>\n",
       "      <td>2015-12-23</td>\n",
       "      <td>Routine Inspection</td>\n",
       "      <td>12407 N MOPAC EXPY, AUSTIN, TX 78758</td>\n",
       "      <td>12407 N MOPAC EXPY</td>\n",
       "      <td>AUSTIN</td>\n",
       "      <td>78758</td>\n",
       "      <td>99</td>\n",
       "      <td>30.417462</td>\n",
       "      <td>...</td>\n",
       "      <td>1</td>\n",
       "      <td>0</td>\n",
       "      <td>0</td>\n",
       "      <td>1</td>\n",
       "      <td>0</td>\n",
       "      <td>0</td>\n",
       "      <td>0</td>\n",
       "      <td>1</td>\n",
       "      <td>Baskin Robbins</td>\n",
       "      <td>MOPAC</td>\n",
       "    </tr>\n",
       "  </tbody>\n",
       "</table>\n",
       "<p>3 rows × 25 columns</p>\n",
       "</div>"
      ],
      "text/plain": [
       "   Facility_ID Restaurant_Name Inspection_Date Process_Description  \\\n",
       "0      2801996         . Gatti      2015-12-23  Routine Inspection   \n",
       "1     10385802          Subway      2015-12-23  Routine Inspection   \n",
       "2      2802274  Baskin Robbins      2015-12-23  Routine Inspection   \n",
       "\n",
       "                                Geocode              Street    City  Zip_Code  \\\n",
       "0    2121 W PARMER LN, AUSTIN, TX 78758    2121 W PARMER LN  AUSTIN     78758   \n",
       "1    2501 W PARMER LN, AUSTIN, TX 78758    2501 W PARMER LN  AUSTIN     78758   \n",
       "2  12407 N MOPAC EXPY, AUSTIN, TX 78758  12407 N MOPAC EXPY  AUSTIN     78758   \n",
       "\n",
       "   Score   Latitude      ...       Area_NW Austin Area_SE Austin  \\\n",
       "0     94  30.415649      ...                    1              0   \n",
       "1     98  30.418236      ...                    1              0   \n",
       "2     99  30.417462      ...                    1              0   \n",
       "\n",
       "  Area_SW Austin Status_Pass  Grade_B  Grade_C  Grade_F  Pristine  \\\n",
       "0              0           1        0        0        0         1   \n",
       "1              0           1        0        0        0         1   \n",
       "2              0           1        0        0        0         1   \n",
       "\n",
       "            Names  Street_Words  \n",
       "0         . Gatti        PARMER  \n",
       "1          Subway        PARMER  \n",
       "2  Baskin Robbins         MOPAC  \n",
       "\n",
       "[3 rows x 25 columns]"
      ]
     },
     "execution_count": 65,
     "metadata": {},
     "output_type": "execute_result"
    }
   ],
   "source": [
    "df.head(3)"
   ]
  },
  {
   "cell_type": "markdown",
   "metadata": {},
   "source": [
    "Let us now follow a similar approach in order to isolate the street name from the address string:"
   ]
  },
  {
   "cell_type": "code",
   "execution_count": 67,
   "metadata": {
    "collapsed": false
   },
   "outputs": [],
   "source": [
    "streets = df['Geocode'].apply(pd.Series)"
   ]
  },
  {
   "cell_type": "code",
   "execution_count": 68,
   "metadata": {
    "collapsed": false
   },
   "outputs": [],
   "source": [
    "streets = df['Geocode'].tolist()"
   ]
  },
  {
   "cell_type": "code",
   "execution_count": 69,
   "metadata": {
    "collapsed": false
   },
   "outputs": [],
   "source": [
    "split_streets = [i.split(' ', 1)[1] for i in streets]"
   ]
  },
  {
   "cell_type": "code",
   "execution_count": 70,
   "metadata": {
    "collapsed": false
   },
   "outputs": [
    {
     "data": {
      "text/plain": [
       "'W PARMER LN, AUSTIN, TX 78758'"
      ]
     },
     "execution_count": 70,
     "metadata": {},
     "output_type": "execute_result"
    }
   ],
   "source": [
    "split_streets[0]"
   ]
  },
  {
   "cell_type": "code",
   "execution_count": 71,
   "metadata": {
    "collapsed": true
   },
   "outputs": [],
   "source": [
    "split_streets = [i.split(' ', 1)[1] for i in split_streets]"
   ]
  },
  {
   "cell_type": "code",
   "execution_count": 72,
   "metadata": {
    "collapsed": false
   },
   "outputs": [
    {
     "data": {
      "text/plain": [
       "'PARMER LN, AUSTIN, TX 78758'"
      ]
     },
     "execution_count": 72,
     "metadata": {},
     "output_type": "execute_result"
    }
   ],
   "source": [
    "split_streets[0]"
   ]
  },
  {
   "cell_type": "code",
   "execution_count": 73,
   "metadata": {
    "collapsed": true
   },
   "outputs": [],
   "source": [
    "split_streets = [i.split(' ', 1)[0] for i in split_streets]"
   ]
  },
  {
   "cell_type": "code",
   "execution_count": 74,
   "metadata": {
    "collapsed": false
   },
   "outputs": [
    {
     "data": {
      "text/plain": [
       "'PARMER'"
      ]
     },
     "execution_count": 74,
     "metadata": {},
     "output_type": "execute_result"
    }
   ],
   "source": [
    "split_streets[0]"
   ]
  },
  {
   "cell_type": "code",
   "execution_count": 75,
   "metadata": {
    "collapsed": false
   },
   "outputs": [],
   "source": [
    "for i in range(len(split_streets)):\n",
    "    split_streets[i] = shortword.sub('', split_streets[i])"
   ]
  },
  {
   "cell_type": "code",
   "execution_count": 76,
   "metadata": {
    "collapsed": false
   },
   "outputs": [
    {
     "data": {
      "text/plain": [
       "'PARMER'"
      ]
     },
     "execution_count": 76,
     "metadata": {},
     "output_type": "execute_result"
    }
   ],
   "source": [
    "split_streets[0]"
   ]
  },
  {
   "cell_type": "code",
   "execution_count": 77,
   "metadata": {
    "collapsed": true
   },
   "outputs": [],
   "source": [
    "# Create a new column with the street:\n",
    "df['Street_Words'] = split_streets"
   ]
  },
  {
   "cell_type": "code",
   "execution_count": 78,
   "metadata": {
    "collapsed": false
   },
   "outputs": [
    {
     "name": "stdout",
     "output_type": "stream",
     "text": [
      "Training score: 62.8%\n",
      "Testing score: 62.4%\n"
     ]
    }
   ],
   "source": [
    "# Turn the text documents into vectors of tf-idf\n",
    "# We'll throw out any terms that appear in only one document\n",
    "\n",
    "#vectorizer = TfidfVectorizer(min_df=2) # recipe for avoiding overfitting; others & alpha parameters can be tuned.\n",
    "vectorizer = CountVectorizer(min_df=1)\n",
    "X = vectorizer.fit_transform(df['Street_Words'])\n",
    "y = df['Letter_Grade']\n",
    "\n",
    "# Train/test split for cross-validation\n",
    "X_train, X_test, y_train, y_test = cross_validation.train_test_split(X, y, train_size = 0.8)\n",
    "\n",
    "# Fit a classifier on the training set\n",
    "\n",
    "classifier = MultinomialNB().fit(X_train, y_train)\n",
    "print(\"Training score: {0:.1f}%\".format(\n",
    "    classifier.score(X_train, y_train) * 100))\n",
    "\n",
    "# Evaluate the classifier on the testing set\n",
    "\n",
    "print(\"Testing score: {0:.1f}%\".format(\n",
    "    classifier.score(X_test, y_test) * 100))"
   ]
  },
  {
   "cell_type": "code",
   "execution_count": 79,
   "metadata": {
    "collapsed": true
   },
   "outputs": [],
   "source": [
    "n_samples, n_features = X_train.shape"
   ]
  },
  {
   "cell_type": "code",
   "execution_count": 80,
   "metadata": {
    "collapsed": false
   },
   "outputs": [
    {
     "data": {
      "text/plain": [
       "[u'center',\n",
       " u'centre',\n",
       " u'cesar',\n",
       " u'champ',\n",
       " u'chase',\n",
       " u'cimas',\n",
       " u'clay',\n",
       " u'club',\n",
       " u'colorado',\n",
       " u'commerce']"
      ]
     },
     "execution_count": 80,
     "metadata": {},
     "output_type": "execute_result"
    }
   ],
   "source": [
    "vectorizer.get_feature_names()[n_features / 3:n_features / 3 + 10]"
   ]
  },
  {
   "cell_type": "code",
   "execution_count": 81,
   "metadata": {
    "collapsed": false
   },
   "outputs": [
    {
     "data": {
      "text/plain": [
       "145"
      ]
     },
     "execution_count": 81,
     "metadata": {},
     "output_type": "execute_result"
    }
   ],
   "source": [
    "len(vectorizer.vocabulary_)"
   ]
  },
  {
   "cell_type": "code",
   "execution_count": 82,
   "metadata": {
    "collapsed": false
   },
   "outputs": [
    {
     "data": {
      "text/html": [
       "<div>\n",
       "<table border=\"1\" class=\"dataframe\">\n",
       "  <thead>\n",
       "    <tr style=\"text-align: right;\">\n",
       "      <th></th>\n",
       "      <th>A</th>\n",
       "      <th>B</th>\n",
       "      <th>C</th>\n",
       "      <th>F</th>\n",
       "    </tr>\n",
       "  </thead>\n",
       "  <tbody>\n",
       "    <tr>\n",
       "      <th>0</th>\n",
       "      <td>0.626532</td>\n",
       "      <td>0.270908</td>\n",
       "      <td>0.091777</td>\n",
       "      <td>0.010784</td>\n",
       "    </tr>\n",
       "    <tr>\n",
       "      <th>1</th>\n",
       "      <td>0.626532</td>\n",
       "      <td>0.270908</td>\n",
       "      <td>0.091777</td>\n",
       "      <td>0.010784</td>\n",
       "    </tr>\n",
       "    <tr>\n",
       "      <th>2</th>\n",
       "      <td>0.626532</td>\n",
       "      <td>0.270908</td>\n",
       "      <td>0.091777</td>\n",
       "      <td>0.010784</td>\n",
       "    </tr>\n",
       "    <tr>\n",
       "      <th>3</th>\n",
       "      <td>0.626532</td>\n",
       "      <td>0.270908</td>\n",
       "      <td>0.091777</td>\n",
       "      <td>0.010784</td>\n",
       "    </tr>\n",
       "    <tr>\n",
       "      <th>4</th>\n",
       "      <td>0.491628</td>\n",
       "      <td>0.357262</td>\n",
       "      <td>0.123660</td>\n",
       "      <td>0.027449</td>\n",
       "    </tr>\n",
       "    <tr>\n",
       "      <th>5</th>\n",
       "      <td>0.606478</td>\n",
       "      <td>0.291367</td>\n",
       "      <td>0.088987</td>\n",
       "      <td>0.013168</td>\n",
       "    </tr>\n",
       "    <tr>\n",
       "      <th>6</th>\n",
       "      <td>0.626532</td>\n",
       "      <td>0.270908</td>\n",
       "      <td>0.091777</td>\n",
       "      <td>0.010784</td>\n",
       "    </tr>\n",
       "    <tr>\n",
       "      <th>7</th>\n",
       "      <td>0.626532</td>\n",
       "      <td>0.270908</td>\n",
       "      <td>0.091777</td>\n",
       "      <td>0.010784</td>\n",
       "    </tr>\n",
       "    <tr>\n",
       "      <th>8</th>\n",
       "      <td>0.626532</td>\n",
       "      <td>0.270908</td>\n",
       "      <td>0.091777</td>\n",
       "      <td>0.010784</td>\n",
       "    </tr>\n",
       "    <tr>\n",
       "      <th>9</th>\n",
       "      <td>0.697392</td>\n",
       "      <td>0.239386</td>\n",
       "      <td>0.059898</td>\n",
       "      <td>0.003324</td>\n",
       "    </tr>\n",
       "  </tbody>\n",
       "</table>\n",
       "</div>"
      ],
      "text/plain": [
       "          A         B         C         F\n",
       "0  0.626532  0.270908  0.091777  0.010784\n",
       "1  0.626532  0.270908  0.091777  0.010784\n",
       "2  0.626532  0.270908  0.091777  0.010784\n",
       "3  0.626532  0.270908  0.091777  0.010784\n",
       "4  0.491628  0.357262  0.123660  0.027449\n",
       "5  0.606478  0.291367  0.088987  0.013168\n",
       "6  0.626532  0.270908  0.091777  0.010784\n",
       "7  0.626532  0.270908  0.091777  0.010784\n",
       "8  0.626532  0.270908  0.091777  0.010784\n",
       "9  0.697392  0.239386  0.059898  0.003324"
      ]
     },
     "execution_count": 82,
     "metadata": {},
     "output_type": "execute_result"
    }
   ],
   "source": [
    "target_predicted_proba = classifier.predict_proba(X_test)\n",
    "pd.DataFrame(target_predicted_proba[:10], columns=df['Letter_Grade'].unique())"
   ]
  },
  {
   "cell_type": "code",
   "execution_count": 85,
   "metadata": {
    "collapsed": true
   },
   "outputs": [],
   "source": [
    "pipeline = Pipeline((\n",
    "    ('vec', CountVectorizer(max_df = 0.8, ngram_range = (1, 2))),\n",
    "    ('clf', MultinomialNB(alpha = 0.01)),\n",
    "))\n",
    "_ = pipeline.fit(df['Street_Words'], df['Letter_Grade'])"
   ]
  },
  {
   "cell_type": "code",
   "execution_count": 86,
   "metadata": {
    "collapsed": false
   },
   "outputs": [
    {
     "data": {
      "text/plain": [
       "(0.60107151305392026, 0.011496010274910711)"
      ]
     },
     "execution_count": 86,
     "metadata": {},
     "output_type": "execute_result"
    }
   ],
   "source": [
    "scores = cross_val_score(pipeline, df['Street_Words'],\n",
    "                         df['Letter_Grade'], cv=3)\n",
    "scores.mean(), sem(scores)"
   ]
  },
  {
   "cell_type": "code",
   "execution_count": 87,
   "metadata": {
    "collapsed": false
   },
   "outputs": [
    {
     "data": {
      "text/plain": [
       "(4, 145)"
      ]
     },
     "execution_count": 87,
     "metadata": {},
     "output_type": "execute_result"
    }
   ],
   "source": [
    "vec_name, vec = pipeline.steps[0]\n",
    "clf_name, clf = pipeline.steps[1]\n",
    "\n",
    "feature_names = vec.get_feature_names()\n",
    "target_names = df['Letter_Grade'].unique()\n",
    "\n",
    "feature_weights = clf.coef_\n",
    "\n",
    "feature_weights.shape"
   ]
  },
  {
   "cell_type": "code",
   "execution_count": 88,
   "metadata": {
    "collapsed": true
   },
   "outputs": [],
   "source": [
    "predicted = pipeline.predict(df['Street_Words'])"
   ]
  },
  {
   "cell_type": "code",
   "execution_count": 89,
   "metadata": {
    "collapsed": false
   },
   "outputs": [
    {
     "name": "stdout",
     "output_type": "stream",
     "text": [
      "             precision    recall  f1-score   support\n",
      "\n",
      "          A       0.63      0.99      0.77     10091\n",
      "          B       0.50      0.02      0.03      4391\n",
      "          C       0.38      0.00      0.01      1454\n",
      "          F       0.00      0.00      0.00       177\n",
      "\n",
      "avg / total       0.56      0.63      0.49     16113\n",
      "\n"
     ]
    }
   ],
   "source": [
    "print(classification_report(df['Letter_Grade'], predicted,\n",
    "                            target_names=df['Letter_Grade'].unique()))"
   ]
  },
  {
   "cell_type": "code",
   "execution_count": 90,
   "metadata": {
    "collapsed": false
   },
   "outputs": [
    {
     "data": {
      "text/html": [
       "<div>\n",
       "<table border=\"1\" class=\"dataframe\">\n",
       "  <thead>\n",
       "    <tr>\n",
       "      <th></th>\n",
       "      <th></th>\n",
       "      <th colspan=\"4\" halign=\"left\">predicted</th>\n",
       "    </tr>\n",
       "    <tr>\n",
       "      <th></th>\n",
       "      <th></th>\n",
       "      <th>A</th>\n",
       "      <th>B</th>\n",
       "      <th>C</th>\n",
       "      <th>F</th>\n",
       "    </tr>\n",
       "  </thead>\n",
       "  <tbody>\n",
       "    <tr>\n",
       "      <th rowspan=\"4\" valign=\"top\">actual</th>\n",
       "      <th>A</th>\n",
       "      <td>10035</td>\n",
       "      <td>51</td>\n",
       "      <td>5</td>\n",
       "      <td>0</td>\n",
       "    </tr>\n",
       "    <tr>\n",
       "      <th>B</th>\n",
       "      <td>4320</td>\n",
       "      <td>66</td>\n",
       "      <td>5</td>\n",
       "      <td>0</td>\n",
       "    </tr>\n",
       "    <tr>\n",
       "      <th>C</th>\n",
       "      <td>1433</td>\n",
       "      <td>15</td>\n",
       "      <td>6</td>\n",
       "      <td>0</td>\n",
       "    </tr>\n",
       "    <tr>\n",
       "      <th>F</th>\n",
       "      <td>177</td>\n",
       "      <td>0</td>\n",
       "      <td>0</td>\n",
       "      <td>0</td>\n",
       "    </tr>\n",
       "  </tbody>\n",
       "</table>\n",
       "</div>"
      ],
      "text/plain": [
       "         predicted          \n",
       "                 A   B  C  F\n",
       "actual A     10035  51  5  0\n",
       "       B      4320  66  5  0\n",
       "       C      1433  15  6  0\n",
       "       F       177   0  0  0"
      ]
     },
     "execution_count": 90,
     "metadata": {},
     "output_type": "execute_result"
    }
   ],
   "source": [
    "pd.DataFrame(confusion_matrix(df['Letter_Grade'], predicted), \n",
    "             index = pd.MultiIndex.from_product([['actual'], target_names]),\n",
    "             columns = pd.MultiIndex.from_product([['predicted'], target_names]))"
   ]
  },
  {
   "cell_type": "code",
   "execution_count": 91,
   "metadata": {
    "collapsed": false
   },
   "outputs": [
    {
     "name": "stdout",
     "output_type": "stream",
     "text": [
      "A: slaughter anderson caves mopac capital congress william parmer lamar blvd\n",
      "B: oltorf riverside springs capital anderson parmer congress william blvd lamar\n",
      "C: capital parmer riverside springs stassney oltorf william congress blvd lamar\n",
      "F: springs cesar martin william anderson congress riverside blvd oltorf lamar\n"
     ]
    }
   ],
   "source": [
    "print_top10(vectorizer, classifier, target_names)"
   ]
  },
  {
   "cell_type": "code",
   "execution_count": null,
   "metadata": {
    "collapsed": true
   },
   "outputs": [],
   "source": []
  }
 ],
 "metadata": {
  "kernelspec": {
   "display_name": "Python 2",
   "language": "python",
   "name": "python2"
  },
  "language_info": {
   "codemirror_mode": {
    "name": "ipython",
    "version": 2
   },
   "file_extension": ".py",
   "mimetype": "text/x-python",
   "name": "python",
   "nbconvert_exporter": "python",
   "pygments_lexer": "ipython2",
   "version": "2.7.11"
  }
 },
 "nbformat": 4,
 "nbformat_minor": 0
}
