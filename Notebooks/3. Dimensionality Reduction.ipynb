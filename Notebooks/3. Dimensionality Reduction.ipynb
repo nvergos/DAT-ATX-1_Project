{
 "cells": [
  {
   "cell_type": "markdown",
   "metadata": {},
   "source": [
    "# DAT-ATX-1 Capstone Project"
   ]
  },
  {
   "cell_type": "markdown",
   "metadata": {},
   "source": [
    "## 3. Dimensionality Reduction"
   ]
  },
  {
   "cell_type": "markdown",
   "metadata": {},
   "source": [
    "For the final part of this project, we will extend our study of **text classification**. Using Principal Component Analysis and Truncated Singular Value Decomposition (methods for dimensionality reduction) we will attempt to replicate the same quality of modeling with a fraction of the features."
   ]
  },
  {
   "cell_type": "markdown",
   "metadata": {},
   "source": [
    "The outline of the procedure we are going to follow is:"
   ]
  },
  {
   "cell_type": "markdown",
   "metadata": {},
   "source": [
    "- Turn a corpus of text documents (restaurant names, street addresses) into **feature vectors** using a **Bag of Words** representation,\n",
    "- We will apply Principal Component Analysis to decompose the feature vectors into \"simpler,\" meaningful pieces.\n",
    "- Dimensionality reduction is frequently performed as a pre-processing step before another learning algorithm is applied.\n",
    "\n",
    "**Motivations**\n",
    "\n",
    "- The number of features in our dataset can be difficult to manage, or even misleading (e.g. if the relationships are actually simpler than they appear).\n",
    "- reduce computational expense\n",
    "- reduce susceptibility to overfitting\n",
    "- reduce noise in the dataset\n",
    "- enhance our intuition"
   ]
  },
  {
   "cell_type": "markdown",
   "metadata": {},
   "source": [
    "### 0. Import libraries & packages"
   ]
  },
  {
   "cell_type": "code",
   "execution_count": 1,
   "metadata": {
    "collapsed": true
   },
   "outputs": [],
   "source": [
    "import warnings\n",
    "warnings.filterwarnings('ignore')"
   ]
  },
  {
   "cell_type": "code",
   "execution_count": 2,
   "metadata": {
    "collapsed": false
   },
   "outputs": [
    {
     "data": {
      "text/plain": [
       "<matplotlib.figure.Figure at 0x116ccc6d0>"
      ]
     },
     "metadata": {},
     "output_type": "display_data"
    }
   ],
   "source": [
    "import pandas as pd\n",
    "import numpy as np\n",
    "import matplotlib.pyplot as plt\n",
    "%matplotlib inline\n",
    "\n",
    "from scipy import stats\n",
    "\n",
    "import seaborn as sns\n",
    "sns.set(rc={\"axes.labelsize\": 15});\n",
    "\n",
    "# Some nice default configuration for plots\n",
    "plt.rcParams['figure.figsize'] = 10, 7.5;\n",
    "plt.rcParams['axes.grid'] = True;\n",
    "plt.gray();"
   ]
  },
  {
   "cell_type": "markdown",
   "metadata": {},
   "source": [
    "### 1. Import dataset"
   ]
  },
  {
   "cell_type": "code",
   "execution_count": 3,
   "metadata": {
    "collapsed": false
   },
   "outputs": [
    {
     "data": {
      "text/html": [
       "<div>\n",
       "<table border=\"1\" class=\"dataframe\">\n",
       "  <thead>\n",
       "    <tr style=\"text-align: right;\">\n",
       "      <th></th>\n",
       "      <th>Facility_ID</th>\n",
       "      <th>Restaurant_Name</th>\n",
       "      <th>Inspection_Date</th>\n",
       "      <th>Process_Description</th>\n",
       "      <th>Geocode</th>\n",
       "      <th>Street</th>\n",
       "      <th>City</th>\n",
       "      <th>Zip_Code</th>\n",
       "      <th>Score</th>\n",
       "      <th>Latitude</th>\n",
       "      <th>...</th>\n",
       "      <th>Letter_Grade</th>\n",
       "      <th>Area_NE Austin</th>\n",
       "      <th>Area_NW Austin</th>\n",
       "      <th>Area_SE Austin</th>\n",
       "      <th>Area_SW Austin</th>\n",
       "      <th>Status_Pass</th>\n",
       "      <th>Grade_B</th>\n",
       "      <th>Grade_C</th>\n",
       "      <th>Grade_F</th>\n",
       "      <th>Pristine</th>\n",
       "    </tr>\n",
       "  </thead>\n",
       "  <tbody>\n",
       "    <tr>\n",
       "      <th>0</th>\n",
       "      <td>2801996</td>\n",
       "      <td>Mr. Gatti's #118</td>\n",
       "      <td>2015-12-23</td>\n",
       "      <td>Routine Inspection</td>\n",
       "      <td>2121 W PARMER LN, AUSTIN, TX 78758</td>\n",
       "      <td>2121 W PARMER LN</td>\n",
       "      <td>AUSTIN</td>\n",
       "      <td>78758</td>\n",
       "      <td>94</td>\n",
       "      <td>30.415649</td>\n",
       "      <td>...</td>\n",
       "      <td>A</td>\n",
       "      <td>0</td>\n",
       "      <td>1</td>\n",
       "      <td>0</td>\n",
       "      <td>0</td>\n",
       "      <td>1</td>\n",
       "      <td>0</td>\n",
       "      <td>0</td>\n",
       "      <td>0</td>\n",
       "      <td>1</td>\n",
       "    </tr>\n",
       "    <tr>\n",
       "      <th>1</th>\n",
       "      <td>10001712</td>\n",
       "      <td>Texaco Braker Mart</td>\n",
       "      <td>2015-12-23</td>\n",
       "      <td>Routine Inspection</td>\n",
       "      <td>2601 W BRAKER LN, AUSTIN, TX 78758</td>\n",
       "      <td>2601 W BRAKER LN</td>\n",
       "      <td>AUSTIN</td>\n",
       "      <td>78758</td>\n",
       "      <td>83</td>\n",
       "      <td>30.390269</td>\n",
       "      <td>...</td>\n",
       "      <td>B</td>\n",
       "      <td>0</td>\n",
       "      <td>1</td>\n",
       "      <td>0</td>\n",
       "      <td>0</td>\n",
       "      <td>1</td>\n",
       "      <td>1</td>\n",
       "      <td>0</td>\n",
       "      <td>0</td>\n",
       "      <td>0</td>\n",
       "    </tr>\n",
       "    <tr>\n",
       "      <th>2</th>\n",
       "      <td>10385802</td>\n",
       "      <td>Subway</td>\n",
       "      <td>2015-12-23</td>\n",
       "      <td>Routine Inspection</td>\n",
       "      <td>2501 W PARMER LN, AUSTIN, TX 78758</td>\n",
       "      <td>2501 W PARMER LN</td>\n",
       "      <td>AUSTIN</td>\n",
       "      <td>78758</td>\n",
       "      <td>98</td>\n",
       "      <td>30.418236</td>\n",
       "      <td>...</td>\n",
       "      <td>A</td>\n",
       "      <td>0</td>\n",
       "      <td>1</td>\n",
       "      <td>0</td>\n",
       "      <td>0</td>\n",
       "      <td>1</td>\n",
       "      <td>0</td>\n",
       "      <td>0</td>\n",
       "      <td>0</td>\n",
       "      <td>1</td>\n",
       "    </tr>\n",
       "    <tr>\n",
       "      <th>3</th>\n",
       "      <td>2802274</td>\n",
       "      <td>Baskin Robbins</td>\n",
       "      <td>2015-12-23</td>\n",
       "      <td>Routine Inspection</td>\n",
       "      <td>12407 N MOPAC EXPY, AUSTIN, TX 78758</td>\n",
       "      <td>12407 N MOPAC EXPY</td>\n",
       "      <td>AUSTIN</td>\n",
       "      <td>78758</td>\n",
       "      <td>99</td>\n",
       "      <td>30.417462</td>\n",
       "      <td>...</td>\n",
       "      <td>A</td>\n",
       "      <td>0</td>\n",
       "      <td>1</td>\n",
       "      <td>0</td>\n",
       "      <td>0</td>\n",
       "      <td>1</td>\n",
       "      <td>0</td>\n",
       "      <td>0</td>\n",
       "      <td>0</td>\n",
       "      <td>1</td>\n",
       "    </tr>\n",
       "    <tr>\n",
       "      <th>4</th>\n",
       "      <td>10964220</td>\n",
       "      <td>JR's Tacos</td>\n",
       "      <td>2015-12-22</td>\n",
       "      <td>Routine Inspection</td>\n",
       "      <td>1921 CEDAR BEND DR, AUSTIN, TX 78758</td>\n",
       "      <td>1921 CEDAR BEND DR</td>\n",
       "      <td>AUSTIN</td>\n",
       "      <td>78758</td>\n",
       "      <td>91</td>\n",
       "      <td>30.408322</td>\n",
       "      <td>...</td>\n",
       "      <td>A</td>\n",
       "      <td>0</td>\n",
       "      <td>1</td>\n",
       "      <td>0</td>\n",
       "      <td>0</td>\n",
       "      <td>1</td>\n",
       "      <td>0</td>\n",
       "      <td>0</td>\n",
       "      <td>0</td>\n",
       "      <td>1</td>\n",
       "    </tr>\n",
       "  </tbody>\n",
       "</table>\n",
       "<p>5 rows × 23 columns</p>\n",
       "</div>"
      ],
      "text/plain": [
       "   Facility_ID     Restaurant_Name Inspection_Date Process_Description  \\\n",
       "0      2801996    Mr. Gatti's #118      2015-12-23  Routine Inspection   \n",
       "1     10001712  Texaco Braker Mart      2015-12-23  Routine Inspection   \n",
       "2     10385802              Subway      2015-12-23  Routine Inspection   \n",
       "3      2802274      Baskin Robbins      2015-12-23  Routine Inspection   \n",
       "4     10964220          JR's Tacos      2015-12-22  Routine Inspection   \n",
       "\n",
       "                                Geocode              Street    City  Zip_Code  \\\n",
       "0    2121 W PARMER LN, AUSTIN, TX 78758    2121 W PARMER LN  AUSTIN     78758   \n",
       "1    2601 W BRAKER LN, AUSTIN, TX 78758    2601 W BRAKER LN  AUSTIN     78758   \n",
       "2    2501 W PARMER LN, AUSTIN, TX 78758    2501 W PARMER LN  AUSTIN     78758   \n",
       "3  12407 N MOPAC EXPY, AUSTIN, TX 78758  12407 N MOPAC EXPY  AUSTIN     78758   \n",
       "4  1921 CEDAR BEND DR, AUSTIN, TX 78758  1921 CEDAR BEND DR  AUSTIN     78758   \n",
       "\n",
       "   Score   Latitude    ...     Letter_Grade Area_NE Austin Area_NW Austin  \\\n",
       "0     94  30.415649    ...                A              0              1   \n",
       "1     83  30.390269    ...                B              0              1   \n",
       "2     98  30.418236    ...                A              0              1   \n",
       "3     99  30.417462    ...                A              0              1   \n",
       "4     91  30.408322    ...                A              0              1   \n",
       "\n",
       "  Area_SE Austin  Area_SW Austin  Status_Pass  Grade_B  Grade_C  Grade_F  \\\n",
       "0              0               0            1        0        0        0   \n",
       "1              0               0            1        1        0        0   \n",
       "2              0               0            1        0        0        0   \n",
       "3              0               0            1        0        0        0   \n",
       "4              0               0            1        0        0        0   \n",
       "\n",
       "   Pristine  \n",
       "0         1  \n",
       "1         0  \n",
       "2         1  \n",
       "3         1  \n",
       "4         1  \n",
       "\n",
       "[5 rows x 23 columns]"
      ]
     },
     "execution_count": 3,
     "metadata": {},
     "output_type": "execute_result"
    }
   ],
   "source": [
    "#Reading the dataset in a dataframe using Pandas\n",
    "df = pd.read_csv(\"data.csv\")  \n",
    "\n",
    "#Print first observations\n",
    "df.head() "
   ]
  },
  {
   "cell_type": "code",
   "execution_count": 4,
   "metadata": {
    "collapsed": false
   },
   "outputs": [
    {
     "data": {
      "text/plain": [
       "Index([u'Facility_ID', u'Restaurant_Name', u'Inspection_Date',\n",
       "       u'Process_Description', u'Geocode', u'Street', u'City', u'Zip_Code',\n",
       "       u'Score', u'Latitude', u'Longitude', u'Area', u'Status',\n",
       "       u'Letter_Grade', u'Area_NE Austin', u'Area_NW Austin',\n",
       "       u'Area_SE Austin', u'Area_SW Austin', u'Status_Pass', u'Grade_B',\n",
       "       u'Grade_C', u'Grade_F', u'Pristine'],\n",
       "      dtype='object')"
      ]
     },
     "execution_count": 4,
     "metadata": {},
     "output_type": "execute_result"
    }
   ],
   "source": [
    "df.columns"
   ]
  },
  {
   "cell_type": "markdown",
   "metadata": {
    "collapsed": true
   },
   "source": [
    "Our first collection of feature vectors will come from the Restaurant_Name column. We are still trying to predict whether a restaurant falls under the \"pristine\" category (Grade A, score greater than 90) or not. We could also try to see whether we could predict a restaurant's grade (A, B, C or F)"
   ]
  },
  {
   "cell_type": "markdown",
   "metadata": {},
   "source": [
    "### 2. Dimensionality Reduction Techniques"
   ]
  },
  {
   "cell_type": "markdown",
   "metadata": {},
   "source": [
    "#### Restaurant Names as a Bag-of-words model"
   ]
  },
  {
   "cell_type": "code",
   "execution_count": 5,
   "metadata": {
    "collapsed": false
   },
   "outputs": [],
   "source": [
    "from sklearn.feature_extraction.text import CountVectorizer\n",
    "\n",
    "# Turn the text documents into vectors\n",
    "\n",
    "vectorizer = CountVectorizer(min_df=1, stop_words=\"english\")\n",
    "\n",
    "X = vectorizer.fit_transform(df['Restaurant_Name']).toarray()\n",
    "y = df['Letter_Grade']\n",
    "\n",
    "target_names = y.unique()\n"
   ]
  },
  {
   "cell_type": "code",
   "execution_count": 6,
   "metadata": {
    "collapsed": true
   },
   "outputs": [],
   "source": [
    "# Train/Test split and cross validation:\n",
    "\n",
    "from sklearn import cross_validation\n",
    "\n",
    "X_train, X_test, y_train, y_test = cross_validation.train_test_split(X, y, train_size = 0.8)"
   ]
  },
  {
   "cell_type": "code",
   "execution_count": 7,
   "metadata": {
    "collapsed": false
   },
   "outputs": [
    {
     "data": {
      "text/plain": [
       "(14888, 3430)"
      ]
     },
     "execution_count": 7,
     "metadata": {},
     "output_type": "execute_result"
    }
   ],
   "source": [
    "X_train.shape"
   ]
  },
  {
   "cell_type": "markdown",
   "metadata": {},
   "source": [
    "Even though we do not have more features (3430) than rows of data (14888), we can still attempt to reduce the feature space by using Truncated SVD:"
   ]
  },
  {
   "cell_type": "markdown",
   "metadata": {},
   "source": [
    "#### Truncated Singular Value Decomposition  for Dimensionality Reduction"
   ]
  },
  {
   "cell_type": "markdown",
   "metadata": {},
   "source": [
    "Once we have extracted a vector representation of the data, it's a good idea to project the data on the first 2D of a Singular Value Decomposition (i.e.. Principal Component Analysis) to get a feel of the data. Note that the TruncatedSVD class can accept scipy.sparse matrices as input (as an alternative to numpy arrays). We will use it to visualize the first two principal components of the vectorized dataset."
   ]
  },
  {
   "cell_type": "code",
   "execution_count": 8,
   "metadata": {
    "collapsed": false
   },
   "outputs": [],
   "source": [
    "from sklearn.decomposition import TruncatedSVD\n",
    "\n",
    "svd_two = TruncatedSVD(n_components=2, random_state=42)\n",
    "\n",
    "X_train_svd = svd_two.fit_transform(X_train)"
   ]
  },
  {
   "cell_type": "code",
   "execution_count": 9,
   "metadata": {
    "collapsed": false
   },
   "outputs": [
    {
     "data": {
      "image/png": "[encoded data removed]",
      "text/plain": [
       "<matplotlib.figure.Figure at 0x11935bf50>"
      ]
     },
     "metadata": {},
     "output_type": "display_data"
    }
   ],
   "source": [
    "pc_df = pd.DataFrame(X_train_svd)  # cast resulting matrix as a data frame\n",
    "sns.pairplot(pc_df, diag_kind='kde');"
   ]
  },
  {
   "cell_type": "code",
   "execution_count": 10,
   "metadata": {
    "collapsed": false
   },
   "outputs": [],
   "source": [
    "# Percentage of variance explained for each component\n",
    "\n",
    "def pca_summary(pca):\n",
    "    return pd.DataFrame([np.sqrt(pca.explained_variance_), \n",
    "              pca.explained_variance_ratio_, \n",
    "              pca.explained_variance_ratio_.cumsum()],\n",
    "             index = [\"Standard deviation\", \"Proportion of Variance\", \"Cumulative Proportion\"], \n",
    "             columns = (map(\"PC{}\".format, range(1, len(pca.components_)+1))))"
   ]
  },
  {
   "cell_type": "code",
   "execution_count": 11,
   "metadata": {
    "collapsed": false
   },
   "outputs": [
    {
     "data": {
      "text/html": [
       "<div>\n",
       "<table border=\"1\" class=\"dataframe\">\n",
       "  <thead>\n",
       "    <tr style=\"text-align: right;\">\n",
       "      <th></th>\n",
       "      <th>PC1</th>\n",
       "      <th>PC2</th>\n",
       "    </tr>\n",
       "  </thead>\n",
       "  <tbody>\n",
       "    <tr>\n",
       "      <th>Standard deviation</th>\n",
       "      <td>0.219172</td>\n",
       "      <td>0.212968</td>\n",
       "    </tr>\n",
       "    <tr>\n",
       "      <th>Proportion of Variance</th>\n",
       "      <td>0.017896</td>\n",
       "      <td>0.016897</td>\n",
       "    </tr>\n",
       "    <tr>\n",
       "      <th>Cumulative Proportion</th>\n",
       "      <td>0.017896</td>\n",
       "      <td>0.034794</td>\n",
       "    </tr>\n",
       "  </tbody>\n",
       "</table>\n",
       "</div>"
      ],
      "text/plain": [
       "                             PC1       PC2\n",
       "Standard deviation      0.219172  0.212968\n",
       "Proportion of Variance  0.017896  0.016897\n",
       "Cumulative Proportion   0.017896  0.034794"
      ]
     },
     "execution_count": 11,
     "metadata": {},
     "output_type": "execute_result"
    }
   ],
   "source": [
    "pca_summary(svd_two)"
   ]
  },
  {
   "cell_type": "code",
   "execution_count": 12,
   "metadata": {
    "collapsed": false
   },
   "outputs": [
    {
     "data": {
      "text/plain": [
       "0.034793886658388021"
      ]
     },
     "execution_count": 12,
     "metadata": {},
     "output_type": "execute_result"
    }
   ],
   "source": [
    "# Only 3.5% of the variance is explained in the data\n",
    "svd_two.explained_variance_ratio_.sum()"
   ]
  },
  {
   "cell_type": "code",
   "execution_count": 13,
   "metadata": {
    "collapsed": true
   },
   "outputs": [],
   "source": [
    "from itertools import cycle\n",
    "\n",
    "def plot_PCA_2D(data, target, target_names):\n",
    "    colors = cycle('rgbcmykw')\n",
    "    target_ids = range(len(target_names))\n",
    "    plt.figure()\n",
    "    for i, c, label in zip(target_ids, colors, target_names):\n",
    "        plt.scatter(data[target == i, 0], data[target == i, 1],\n",
    "                   c=c, label=label)\n",
    "    plt.legend()"
   ]
  },
  {
   "cell_type": "code",
   "execution_count": 14,
   "metadata": {
    "collapsed": false
   },
   "outputs": [
    {
     "data": {
      "image/png": "[encoded data removed]",
      "text/plain": [
       "<matplotlib.figure.Figure at 0x1197f3d50>"
      ]
     },
     "metadata": {},
     "output_type": "display_data"
    }
   ],
   "source": [
    "plot_PCA_2D(X_train_svd, y_train, target_names)"
   ]
  },
  {
   "cell_type": "markdown",
   "metadata": {},
   "source": [
    "This must be the most uninformative plot in the history of plots. Obviously 2 principal components aren't enough. Let's try with 100:"
   ]
  },
  {
   "cell_type": "code",
   "execution_count": 15,
   "metadata": {
    "collapsed": false
   },
   "outputs": [],
   "source": [
    "# Now, let's try with 100 components to see how much it explains\n",
    "svd_hundred = TruncatedSVD(n_components=100, random_state=42)\n",
    "X_train_svd_hundred = svd_hundred.fit_transform(X_train)"
   ]
  },
  {
   "cell_type": "code",
   "execution_count": 16,
   "metadata": {
    "collapsed": false
   },
   "outputs": [
    {
     "data": {
      "text/plain": [
       "0.4371657569213736"
      ]
     },
     "execution_count": 16,
     "metadata": {},
     "output_type": "execute_result"
    }
   ],
   "source": [
    "# 43.7% of the variance is explained in the data for 100 dimensions\n",
    "# This is mostly due to the High dimension of data and sparcity of the data\n",
    "svd_hundred.explained_variance_ratio_.sum()"
   ]
  },
  {
   "cell_type": "code",
   "execution_count": 17,
   "metadata": {
    "collapsed": false
   },
   "outputs": [
    {
     "data": {
      "text/plain": [
       "<Container object of 100 artists>"
      ]
     },
     "execution_count": 17,
     "metadata": {},
     "output_type": "execute_result"
    },
    {
     "data": {
      "image/png": "[encoded data removed]",
      "text/plain": [
       "<matplotlib.figure.Figure at 0x11a71dc50>"
      ]
     },
     "metadata": {},
     "output_type": "display_data"
    }
   ],
   "source": [
    "plt.figure(figsize=(10, 7))\n",
    "plt.bar(range(100), svd_hundred.explained_variance_)"
   ]
  },
  {
   "cell_type": "markdown",
   "metadata": {},
   "source": [
    "Is it worth it to keep adding dimensions? Recall that we started with a 3430-dimensional feature space which we have already reduced to 100 dimensions, and according to the graph above each dimension over the 100th one will be adding less than 0.5% in our explanation of the variance. Let us try once more with 300 dimensions, to see if we can get something respectably over 50% (so we can be sure we are doing better than a coin toss) "
   ]
  },
  {
   "cell_type": "code",
   "execution_count": 18,
   "metadata": {
    "collapsed": false
   },
   "outputs": [],
   "source": [
    "svd_sparta = TruncatedSVD(n_components=300, random_state=42)\n",
    "\n",
    "X_train_svd_sparta = svd_sparta.fit_transform(X_train)"
   ]
  },
  {
   "cell_type": "code",
   "execution_count": 19,
   "metadata": {
    "collapsed": true
   },
   "outputs": [],
   "source": [
    "X_test_svd_sparta = svd_sparta.fit_transform(X_test)"
   ]
  },
  {
   "cell_type": "code",
   "execution_count": 20,
   "metadata": {
    "collapsed": false
   },
   "outputs": [
    {
     "data": {
      "text/plain": [
       "0.66753272789796669"
      ]
     },
     "execution_count": 20,
     "metadata": {},
     "output_type": "execute_result"
    }
   ],
   "source": [
    "svd_sparta.explained_variance_ratio_.sum()"
   ]
  },
  {
   "cell_type": "markdown",
   "metadata": {},
   "source": [
    "66.2% of the variance is explained through our model. This is quite respectable."
   ]
  },
  {
   "cell_type": "code",
   "execution_count": 21,
   "metadata": {
    "collapsed": false
   },
   "outputs": [
    {
     "data": {
      "text/plain": [
       "<Container object of 300 artists>"
      ]
     },
     "execution_count": 21,
     "metadata": {},
     "output_type": "execute_result"
    },
    {
     "data": {
      "image/png": "[encoded data removed]",
      "text/plain": [
       "<matplotlib.figure.Figure at 0x160508e50>"
      ]
     },
     "metadata": {},
     "output_type": "display_data"
    }
   ],
   "source": [
    "plt.figure(figsize=(10, 7))\n",
    "plt.bar(range(300), svd_sparta.explained_variance_)"
   ]
  },
  {
   "cell_type": "code",
   "execution_count": 22,
   "metadata": {
    "collapsed": false
   },
   "outputs": [
    {
     "name": "stdout",
     "output_type": "stream",
     "text": [
      "Training score: 66.1%\n",
      "Testing score: 64.3%\n"
     ]
    }
   ],
   "source": [
    "from sklearn.feature_extraction.text import TfidfVectorizer\n",
    "from sklearn.feature_extraction.text import CountVectorizer\n",
    "from sklearn import cross_validation\n",
    "from sklearn.naive_bayes import MultinomialNB\n",
    "\n",
    "# Fit a classifier on the training set\n",
    "\n",
    "classifier = MultinomialNB().fit(np.absolute(X_train_svd_sparta), y_train)\n",
    "print(\"Training score: {0:.1f}%\".format(\n",
    "    classifier.score(X_train_svd_sparta, y_train) * 100))\n",
    "\n",
    "# Evaluate the classifier on the testing set\n",
    "\n",
    "print(\"Testing score: {0:.1f}%\".format(\n",
    "    classifier.score(X_test_svd_sparta, y_test) * 100))"
   ]
  },
  {
   "cell_type": "markdown",
   "metadata": {},
   "source": [
    "#### Restaurant Streets as a Bag-of-words model"
   ]
  },
  {
   "cell_type": "code",
   "execution_count": 23,
   "metadata": {
    "collapsed": true
   },
   "outputs": [],
   "source": [
    "streets = df['Geocode'].apply(pd.Series)"
   ]
  },
  {
   "cell_type": "code",
   "execution_count": 24,
   "metadata": {
    "collapsed": true
   },
   "outputs": [],
   "source": [
    "streets = df['Geocode'].tolist()"
   ]
  },
  {
   "cell_type": "code",
   "execution_count": 25,
   "metadata": {
    "collapsed": true
   },
   "outputs": [],
   "source": [
    "split_streets = [i.split(' ', 1)[1] for i in streets]"
   ]
  },
  {
   "cell_type": "code",
   "execution_count": 26,
   "metadata": {
    "collapsed": true
   },
   "outputs": [],
   "source": [
    "split_streets = [i.split(' ', 1)[1] for i in split_streets]"
   ]
  },
  {
   "cell_type": "code",
   "execution_count": 27,
   "metadata": {
    "collapsed": true
   },
   "outputs": [],
   "source": [
    "split_streets = [i.split(' ', 1)[0] for i in split_streets]"
   ]
  },
  {
   "cell_type": "code",
   "execution_count": 28,
   "metadata": {
    "collapsed": false
   },
   "outputs": [
    {
     "data": {
      "text/plain": [
       "'PARMER'"
      ]
     },
     "execution_count": 28,
     "metadata": {},
     "output_type": "execute_result"
    }
   ],
   "source": [
    "split_streets[0]"
   ]
  },
  {
   "cell_type": "code",
   "execution_count": 29,
   "metadata": {
    "collapsed": true
   },
   "outputs": [],
   "source": [
    "import re\n",
    "shortword = re.compile(r'\\W*\\b\\w{1,3}\\b')"
   ]
  },
  {
   "cell_type": "code",
   "execution_count": 30,
   "metadata": {
    "collapsed": true
   },
   "outputs": [],
   "source": [
    "for i in range(len(split_streets)):\n",
    "    split_streets[i] = shortword.sub('', split_streets[i])"
   ]
  },
  {
   "cell_type": "code",
   "execution_count": 31,
   "metadata": {
    "collapsed": true
   },
   "outputs": [],
   "source": [
    "# Create a new column with the street:\n",
    "df['Street_Words'] = split_streets"
   ]
  },
  {
   "cell_type": "code",
   "execution_count": 32,
   "metadata": {
    "collapsed": true
   },
   "outputs": [],
   "source": [
    "from sklearn.feature_extraction.text import CountVectorizer\n",
    "\n",
    "# Turn the text documents into vectors\n",
    "\n",
    "vectorizer = CountVectorizer(min_df=1, stop_words=\"english\")\n",
    "\n",
    "X = vectorizer.fit_transform(df['Street_Words']).toarray()\n",
    "y = df['Letter_Grade']\n",
    "\n",
    "target_names = y.unique()"
   ]
  },
  {
   "cell_type": "code",
   "execution_count": 33,
   "metadata": {
    "collapsed": true
   },
   "outputs": [],
   "source": [
    "# Train/Test split and cross validation:\n",
    "\n",
    "from sklearn import cross_validation\n",
    "\n",
    "X_train, X_test, y_train, y_test = cross_validation.train_test_split(X, y, train_size = 0.8)"
   ]
  },
  {
   "cell_type": "code",
   "execution_count": 34,
   "metadata": {
    "collapsed": false
   },
   "outputs": [
    {
     "data": {
      "text/plain": [
       "(14888, 159)"
      ]
     },
     "execution_count": 34,
     "metadata": {},
     "output_type": "execute_result"
    }
   ],
   "source": [
    "X_train.shape"
   ]
  },
  {
   "cell_type": "code",
   "execution_count": 35,
   "metadata": {
    "collapsed": true
   },
   "outputs": [],
   "source": [
    "from sklearn.decomposition import TruncatedSVD\n",
    "\n",
    "svd_two = TruncatedSVD(n_components=2, random_state=42)\n",
    "\n",
    "X_train_svd = svd_two.fit_transform(X_train)"
   ]
  },
  {
   "cell_type": "code",
   "execution_count": 36,
   "metadata": {
    "collapsed": false
   },
   "outputs": [
    {
     "data": {
      "image/png": "[encoded data removed]",
      "text/plain": [
       "<matplotlib.figure.Figure at 0x1197f3b90>"
      ]
     },
     "metadata": {},
     "output_type": "display_data"
    }
   ],
   "source": [
    "pc_df = pd.DataFrame(X_train_svd)  # cast resulting matrix as a data frame\n",
    "sns.pairplot(pc_df, diag_kind='kde');"
   ]
  },
  {
   "cell_type": "code",
   "execution_count": 37,
   "metadata": {
    "collapsed": false
   },
   "outputs": [
    {
     "data": {
      "text/html": [
       "<div>\n",
       "<table border=\"1\" class=\"dataframe\">\n",
       "  <thead>\n",
       "    <tr style=\"text-align: right;\">\n",
       "      <th></th>\n",
       "      <th>PC1</th>\n",
       "      <th>PC2</th>\n",
       "    </tr>\n",
       "  </thead>\n",
       "  <tbody>\n",
       "    <tr>\n",
       "      <th>Standard deviation</th>\n",
       "      <td>0.260596</td>\n",
       "      <td>0.257827</td>\n",
       "    </tr>\n",
       "    <tr>\n",
       "      <th>Proportion of Variance</th>\n",
       "      <td>0.126940</td>\n",
       "      <td>0.124256</td>\n",
       "    </tr>\n",
       "    <tr>\n",
       "      <th>Cumulative Proportion</th>\n",
       "      <td>0.126940</td>\n",
       "      <td>0.251196</td>\n",
       "    </tr>\n",
       "  </tbody>\n",
       "</table>\n",
       "</div>"
      ],
      "text/plain": [
       "                             PC1       PC2\n",
       "Standard deviation      0.260596  0.257827\n",
       "Proportion of Variance  0.126940  0.124256\n",
       "Cumulative Proportion   0.126940  0.251196"
      ]
     },
     "execution_count": 37,
     "metadata": {},
     "output_type": "execute_result"
    }
   ],
   "source": [
    "pca_summary(svd_two)"
   ]
  },
  {
   "cell_type": "code",
   "execution_count": 38,
   "metadata": {
    "collapsed": false
   },
   "outputs": [
    {
     "data": {
      "text/plain": [
       "0.25119574996239152"
      ]
     },
     "execution_count": 38,
     "metadata": {},
     "output_type": "execute_result"
    }
   ],
   "source": [
    "# 25% of the variance is explained in the data when we use only TWO principal components!\n",
    "svd_two.explained_variance_ratio_.sum()"
   ]
  },
  {
   "cell_type": "code",
   "execution_count": 44,
   "metadata": {
    "collapsed": true
   },
   "outputs": [],
   "source": [
    "# Now, let's try with 10 components to see how much it explains\n",
    "svd_ten = TruncatedSVD(n_components=10, random_state=42)\n",
    "X_train_svd_ten = svd_ten.fit_transform(X_train)"
   ]
  },
  {
   "cell_type": "code",
   "execution_count": 45,
   "metadata": {
    "collapsed": false
   },
   "outputs": [
    {
     "data": {
      "text/plain": [
       "0.53886524865969476"
      ]
     },
     "execution_count": 45,
     "metadata": {},
     "output_type": "execute_result"
    }
   ],
   "source": [
    "# 53.9% of the variance is explained in the data for 10 dimensions\n",
    "# This is mostly due to the High dimension of data and sparcity of the data\n",
    "svd_ten.explained_variance_ratio_.sum()"
   ]
  }
 ],
 "metadata": {
  "kernelspec": {
   "display_name": "Python 2",
   "language": "python",
   "name": "python2"
  },
  "language_info": {
   "codemirror_mode": {
    "name": "ipython",
    "version": 2
   },
   "file_extension": ".py",
   "mimetype": "text/x-python",
   "name": "python",
   "nbconvert_exporter": "python",
   "pygments_lexer": "ipython2",
   "version": "2.7.11"
  }
 },
 "nbformat": 4,
 "nbformat_minor": 0
}
